{
  "nbformat": 4,
  "nbformat_minor": 0,
  "metadata": {
    "colab": {
      "name": "audio_classifier.ipynb",
      "version": "0.3.2",
      "provenance": []
    },
    "kernelspec": {
      "name": "python3",
      "display_name": "Python 3"
    },
    "accelerator": "GPU"
  },
  "cells": [
    {
      "metadata": {
        "id": "alqu6qvi2HXO",
        "colab_type": "code",
        "colab": {}
      },
      "cell_type": "code",
      "source": [
        "import os\n",
        "from Audio_reader import readtf\n",
        "from getman import getmanlist\n",
        "import gc\n",
        "import numpy as np\n",
        "import pandas as pd\n",
        "import pickle\n",
        "from keras.layers import Dense, Input, Dropout,Flatten,MaxPooling1D\n",
        "from keras.layers import Conv1D, MaxPooling2D,BatchNormalization,Conv2D\n",
        "from keras.models import Model\n",
        "from keras.models import Sequential\n",
        "from keras import optimizers\n",
        "from keras.utils import to_categorical\n",
        "import matplotlib.pyplot as plt\n",
        "from keras.callbacks import ReduceLROnPlateau, EarlyStopping\n",
        "from keras import regularizers"
      ],
      "execution_count": 0,
      "outputs": []
    },
    {
      "metadata": {
        "id": "eBa8rJok2r6V",
        "colab_type": "code",
        "colab": {}
      },
      "cell_type": "code",
      "source": [
        "def check(y):\n",
        "    if 74 in y:\n",
        "        return 0 \n",
        "    #male\n",
        "    if 1 in y:\n",
        "        return 1\n",
        "    #female\n",
        "    if 2 in y:\n",
        "        return 2\n",
        "    #child\n",
        "    if 3 in y:\n",
        "        return 3\n",
        "    return 0"
      ],
      "execution_count": 0,
      "outputs": []
    },
    {
      "metadata": {
        "id": "gwVlmq5k2uiT",
        "colab_type": "code",
        "colab": {}
      },
      "cell_type": "code",
      "source": [
        "X = []\n",
        "Y = [] \n",
        "with open(\"X_list_eval.pickle\",\"rb\") as xf:\n",
        "    X.extend(pickle.load(xf))\n",
        "with open(\"Y_list_eval.pickle\",\"rb\") as xf:\n",
        "    Y.extend(pickle.load(xf))\n",
        "      \n",
        "with open(\"X_list.pickle\",\"rb\") as xf:\n",
        "    X.extend(pickle.load(xf))\n",
        "with open(\"Y_list.pickle\",\"rb\") as xf:\n",
        "    Y.extend(pickle.load(xf))\n",
        "\n",
        "X=np.array(X)\n",
        "Y=np.array(Y)  \n",
        "\n",
        "X = X.astype('float32')    \n",
        "X /= 128\n",
        "\n"
      ],
      "execution_count": 0,
      "outputs": []
    },
    {
      "metadata": {
        "id": "sSOYwXU5ABzI",
        "colab_type": "code",
        "colab": {}
      },
      "cell_type": "code",
      "source": [
        "learning_rate=0.0003\n",
        "#decay=0.000001\n",
        "momentum=0.99\n",
        "dropout_rate = 0.23\n",
        "\n",
        "rglrzr = regularizers.l2(0.0015)"
      ],
      "execution_count": 0,
      "outputs": []
    },
    {
      "metadata": {
        "id": "yZr9ezVi22SF",
        "colab_type": "code",
        "colab": {
          "base_uri": "https://localhost:8080/",
          "height": 1172
        },
        "outputId": "d18b9532-61a2-4c58-d41e-020d591a9e9c"
      },
      "cell_type": "code",
      "source": [
        "model = Sequential()\n",
        "model.add(Conv2D(64, (3, 3), padding='same',activation='relu',input_shape=X.shape[1:]))\n",
        "model.add(BatchNormalization())\n",
        "model.add(MaxPooling2D(pool_size=(2, 2)))\n",
        "model.add(Dropout(rate=dropout_rate))\n",
        "\n",
        "model.add(Conv2D(128, (3, 3), padding='same',activation='relu',bias_regularizer=rglrzr))\n",
        "model.add(BatchNormalization())\n",
        "model.add(MaxPooling2D(pool_size=(1, 2)))\n",
        "model.add(Dropout(rate=dropout_rate))\n",
        "\n",
        "\n",
        "\n",
        "model.add(Conv2D(256, (3, 3), padding='same',activation='relu',bias_regularizer=rglrzr))\n",
        "model.add(BatchNormalization())\n",
        "model.add(Conv2D(256, (3, 3), padding='same',activation='relu',bias_regularizer=rglrzr))\n",
        "model.add(BatchNormalization())\n",
        "model.add(MaxPooling2D(pool_size=(2, 2)))\n",
        "model.add(Dropout(rate=dropout_rate))\n",
        "\n",
        "\n",
        "model.add(Conv2D(512, (3, 3), padding='same',activation='relu',bias_regularizer=rglrzr))\n",
        "model.add(BatchNormalization())\n",
        "model.add(Conv2D(512, (3, 3), padding='same',activation='relu',bias_regularizer=rglrzr))\n",
        "model.add(BatchNormalization())\n",
        "model.add(MaxPooling2D(pool_size=(1, 2)))\n",
        "model.add(Dropout(rate=dropout_rate))\n",
        "\n",
        "\n",
        "\n",
        "model.add(Conv2D(512, (3, 3), padding='same',activation='relu',bias_regularizer=rglrzr))\n",
        "model.add(BatchNormalization())\n",
        "model.add(Conv2D(512, (3, 3), padding='same',activation='relu',bias_regularizer=rglrzr))\n",
        "model.add(BatchNormalization())\n",
        "model.add(MaxPooling2D(pool_size=(1, 2)))\n",
        "model.add(Dropout(rate=dropout_rate))\n",
        "\n",
        "\n",
        "\n",
        "\n",
        "model.add(Flatten())\n",
        "model.add(Dense(128,activation='relu'))\n",
        "model.add(Dense(3,activation='softmax'))\n",
        "model.summary()\n",
        "\n",
        "optimizer = optimizers.SGD(lr=learning_rate,momentum=momentum)\n",
        "model.compile(loss='categorical_crossentropy',\n",
        "              optimizer=optimizer, \n",
        "              metrics=['accuracy'])"
      ],
      "execution_count": 144,
      "outputs": [
        {
          "output_type": "stream",
          "text": [
            "_________________________________________________________________\n",
            "Layer (type)                 Output Shape              Param #   \n",
            "=================================================================\n",
            "conv2d_224 (Conv2D)          (None, 10, 128, 64)       640       \n",
            "_________________________________________________________________\n",
            "batch_normalization_222 (Bat (None, 10, 128, 64)       256       \n",
            "_________________________________________________________________\n",
            "max_pooling2d_113 (MaxPoolin (None, 5, 64, 64)         0         \n",
            "_________________________________________________________________\n",
            "dropout_116 (Dropout)        (None, 5, 64, 64)         0         \n",
            "_________________________________________________________________\n",
            "conv2d_225 (Conv2D)          (None, 5, 64, 128)        73856     \n",
            "_________________________________________________________________\n",
            "batch_normalization_223 (Bat (None, 5, 64, 128)        512       \n",
            "_________________________________________________________________\n",
            "max_pooling2d_114 (MaxPoolin (None, 5, 32, 128)        0         \n",
            "_________________________________________________________________\n",
            "dropout_117 (Dropout)        (None, 5, 32, 128)        0         \n",
            "_________________________________________________________________\n",
            "conv2d_226 (Conv2D)          (None, 5, 32, 256)        295168    \n",
            "_________________________________________________________________\n",
            "batch_normalization_224 (Bat (None, 5, 32, 256)        1024      \n",
            "_________________________________________________________________\n",
            "conv2d_227 (Conv2D)          (None, 5, 32, 256)        590080    \n",
            "_________________________________________________________________\n",
            "batch_normalization_225 (Bat (None, 5, 32, 256)        1024      \n",
            "_________________________________________________________________\n",
            "max_pooling2d_115 (MaxPoolin (None, 2, 16, 256)        0         \n",
            "_________________________________________________________________\n",
            "dropout_118 (Dropout)        (None, 2, 16, 256)        0         \n",
            "_________________________________________________________________\n",
            "conv2d_228 (Conv2D)          (None, 2, 16, 512)        1180160   \n",
            "_________________________________________________________________\n",
            "batch_normalization_226 (Bat (None, 2, 16, 512)        2048      \n",
            "_________________________________________________________________\n",
            "conv2d_229 (Conv2D)          (None, 2, 16, 512)        2359808   \n",
            "_________________________________________________________________\n",
            "batch_normalization_227 (Bat (None, 2, 16, 512)        2048      \n",
            "_________________________________________________________________\n",
            "max_pooling2d_116 (MaxPoolin (None, 2, 8, 512)         0         \n",
            "_________________________________________________________________\n",
            "dropout_119 (Dropout)        (None, 2, 8, 512)         0         \n",
            "_________________________________________________________________\n",
            "conv2d_230 (Conv2D)          (None, 2, 8, 512)         2359808   \n",
            "_________________________________________________________________\n",
            "batch_normalization_228 (Bat (None, 2, 8, 512)         2048      \n",
            "_________________________________________________________________\n",
            "conv2d_231 (Conv2D)          (None, 2, 8, 512)         2359808   \n",
            "_________________________________________________________________\n",
            "batch_normalization_229 (Bat (None, 2, 8, 512)         2048      \n",
            "_________________________________________________________________\n",
            "max_pooling2d_117 (MaxPoolin (None, 2, 4, 512)         0         \n",
            "_________________________________________________________________\n",
            "dropout_120 (Dropout)        (None, 2, 4, 512)         0         \n",
            "_________________________________________________________________\n",
            "flatten_35 (Flatten)         (None, 4096)              0         \n",
            "_________________________________________________________________\n",
            "dense_70 (Dense)             (None, 128)               524416    \n",
            "_________________________________________________________________\n",
            "dense_71 (Dense)             (None, 3)                 387       \n",
            "=================================================================\n",
            "Total params: 9,755,139\n",
            "Trainable params: 9,749,635\n",
            "Non-trainable params: 5,504\n",
            "_________________________________________________________________\n"
          ],
          "name": "stdout"
        }
      ]
    },
    {
      "metadata": {
        "id": "H1pol6Jx8VZC",
        "colab_type": "code",
        "colab": {}
      },
      "cell_type": "code",
      "source": [
        "cb=[]\n",
        "\n",
        "reduce_lr = ReduceLROnPlateau(monitor='val_loss', factor=0.8, patience=3, verbose=0, mode='auto')\n",
        "early_stopping = EarlyStopping(monitor='val_loss', min_delta=0, patience=20, verbose=0, mode='auto', baseline=None, restore_best_weights=True)\n",
        "\n",
        "cb.append(reduce_lr)\n",
        "cb.append(early_stopping)"
      ],
      "execution_count": 0,
      "outputs": []
    },
    {
      "metadata": {
        "id": "Ytxt_BJs268t",
        "colab_type": "code",
        "colab": {
          "base_uri": "https://localhost:8080/",
          "height": 1777
        },
        "outputId": "7d0c281b-f804-4cf1-8d8c-9d446b40718b"
      },
      "cell_type": "code",
      "source": [
        "history=model.fit(X, Y,\n",
        "          batch_size=32,\n",
        "          epochs=200,\n",
        "          verbose=2,\n",
        "          callbacks=cb,\n",
        "          validation_split=0.3)"
      ],
      "execution_count": 145,
      "outputs": [
        {
          "output_type": "stream",
          "text": [
            "Train on 443 samples, validate on 190 samples\n",
            "Epoch 1/200\n",
            " - 13s - loss: 1.5433 - acc: 0.5147 - val_loss: 1.0616 - val_acc: 0.4474\n",
            "Epoch 2/200\n",
            " - 1s - loss: 1.2229 - acc: 0.5147 - val_loss: 1.4991 - val_acc: 0.6053\n",
            "Epoch 3/200\n",
            " - 1s - loss: 1.1229 - acc: 0.5418 - val_loss: 1.0704 - val_acc: 0.5842\n",
            "Epoch 4/200\n",
            " - 1s - loss: 0.9363 - acc: 0.5847 - val_loss: 2.6375 - val_acc: 0.5789\n",
            "Epoch 5/200\n",
            " - 1s - loss: 0.9528 - acc: 0.5779 - val_loss: 2.5844 - val_acc: 0.1947\n",
            "Epoch 6/200\n",
            " - 1s - loss: 0.9013 - acc: 0.5982 - val_loss: 2.3604 - val_acc: 0.1947\n",
            "Epoch 7/200\n",
            " - 1s - loss: 0.8591 - acc: 0.6253 - val_loss: 1.1138 - val_acc: 0.5632\n",
            "Epoch 8/200\n",
            " - 1s - loss: 0.8452 - acc: 0.6163 - val_loss: 1.7805 - val_acc: 0.2053\n",
            "Epoch 9/200\n",
            " - 1s - loss: 0.8259 - acc: 0.6388 - val_loss: 2.1781 - val_acc: 0.2158\n",
            "Epoch 10/200\n",
            " - 1s - loss: 0.7906 - acc: 0.6569 - val_loss: 2.2310 - val_acc: 0.2000\n",
            "Epoch 11/200\n",
            " - 1s - loss: 0.7593 - acc: 0.6727 - val_loss: 1.2804 - val_acc: 0.3947\n",
            "Epoch 12/200\n",
            " - 1s - loss: 0.7411 - acc: 0.6727 - val_loss: 1.2772 - val_acc: 0.5789\n",
            "Epoch 13/200\n",
            " - 1s - loss: 0.6751 - acc: 0.7269 - val_loss: 1.2221 - val_acc: 0.5684\n",
            "Epoch 14/200\n",
            " - 1s - loss: 0.6875 - acc: 0.7043 - val_loss: 1.3200 - val_acc: 0.5789\n",
            "Epoch 15/200\n",
            " - 1s - loss: 0.6488 - acc: 0.7088 - val_loss: 1.3834 - val_acc: 0.5789\n",
            "Epoch 16/200\n",
            " - 1s - loss: 0.6234 - acc: 0.7336 - val_loss: 1.0806 - val_acc: 0.5789\n",
            "Epoch 17/200\n",
            " - 1s - loss: 0.6118 - acc: 0.7540 - val_loss: 0.8792 - val_acc: 0.6053\n",
            "Epoch 18/200\n",
            " - 1s - loss: 0.5834 - acc: 0.7540 - val_loss: 0.8964 - val_acc: 0.5895\n",
            "Epoch 19/200\n",
            " - 1s - loss: 0.5439 - acc: 0.7856 - val_loss: 1.0995 - val_acc: 0.5947\n",
            "Epoch 20/200\n",
            " - 1s - loss: 0.5286 - acc: 0.7743 - val_loss: 1.1413 - val_acc: 0.5947\n",
            "Epoch 21/200\n",
            " - 1s - loss: 0.5050 - acc: 0.8104 - val_loss: 1.0207 - val_acc: 0.5895\n",
            "Epoch 22/200\n",
            " - 1s - loss: 0.4703 - acc: 0.8149 - val_loss: 0.9207 - val_acc: 0.6263\n",
            "Epoch 23/200\n",
            " - 1s - loss: 0.4273 - acc: 0.8284 - val_loss: 0.9037 - val_acc: 0.6158\n",
            "Epoch 24/200\n",
            " - 1s - loss: 0.4186 - acc: 0.8330 - val_loss: 0.9155 - val_acc: 0.6474\n",
            "Epoch 25/200\n",
            " - 1s - loss: 0.3988 - acc: 0.8578 - val_loss: 0.9437 - val_acc: 0.6526\n",
            "Epoch 26/200\n",
            " - 1s - loss: 0.3791 - acc: 0.8465 - val_loss: 0.9626 - val_acc: 0.6526\n",
            "Epoch 27/200\n",
            " - 1s - loss: 0.3917 - acc: 0.8713 - val_loss: 0.9285 - val_acc: 0.6526\n",
            "Epoch 28/200\n",
            " - 1s - loss: 0.3738 - acc: 0.8691 - val_loss: 0.8242 - val_acc: 0.7105\n",
            "Epoch 29/200\n",
            " - 1s - loss: 0.3203 - acc: 0.8871 - val_loss: 0.7968 - val_acc: 0.6947\n",
            "Epoch 30/200\n",
            " - 1s - loss: 0.3111 - acc: 0.8713 - val_loss: 0.8457 - val_acc: 0.6842\n",
            "Epoch 31/200\n",
            " - 1s - loss: 0.2944 - acc: 0.8781 - val_loss: 0.8603 - val_acc: 0.7000\n",
            "Epoch 32/200\n",
            " - 1s - loss: 0.2909 - acc: 0.8916 - val_loss: 0.8769 - val_acc: 0.7105\n",
            "Epoch 33/200\n",
            " - 1s - loss: 0.2466 - acc: 0.9210 - val_loss: 0.9247 - val_acc: 0.7053\n",
            "Epoch 34/200\n",
            " - 1s - loss: 0.2421 - acc: 0.9029 - val_loss: 0.9218 - val_acc: 0.7000\n",
            "Epoch 35/200\n",
            " - 1s - loss: 0.2597 - acc: 0.9029 - val_loss: 0.9077 - val_acc: 0.7211\n",
            "Epoch 36/200\n",
            " - 1s - loss: 0.2377 - acc: 0.9233 - val_loss: 0.9596 - val_acc: 0.6947\n",
            "Epoch 37/200\n",
            " - 1s - loss: 0.2403 - acc: 0.9210 - val_loss: 1.0326 - val_acc: 0.6842\n",
            "Epoch 38/200\n",
            " - 1s - loss: 0.2127 - acc: 0.9278 - val_loss: 1.0460 - val_acc: 0.6789\n",
            "Epoch 39/200\n",
            " - 1s - loss: 0.2055 - acc: 0.9165 - val_loss: 0.9956 - val_acc: 0.6842\n",
            "Epoch 40/200\n",
            " - 1s - loss: 0.1810 - acc: 0.9503 - val_loss: 0.9559 - val_acc: 0.6895\n",
            "Epoch 41/200\n",
            " - 1s - loss: 0.2034 - acc: 0.9187 - val_loss: 0.9583 - val_acc: 0.7053\n",
            "Epoch 42/200\n",
            " - 1s - loss: 0.1910 - acc: 0.9436 - val_loss: 0.9731 - val_acc: 0.7105\n",
            "Epoch 43/200\n",
            " - 1s - loss: 0.1410 - acc: 0.9616 - val_loss: 0.9918 - val_acc: 0.7105\n",
            "Epoch 44/200\n",
            " - 1s - loss: 0.1563 - acc: 0.9345 - val_loss: 1.0182 - val_acc: 0.7053\n",
            "Epoch 45/200\n",
            " - 1s - loss: 0.1338 - acc: 0.9661 - val_loss: 1.0569 - val_acc: 0.7105\n",
            "Epoch 46/200\n",
            " - 1s - loss: 0.1414 - acc: 0.9436 - val_loss: 1.1097 - val_acc: 0.7158\n",
            "Epoch 47/200\n",
            " - 1s - loss: 0.1513 - acc: 0.9413 - val_loss: 1.1521 - val_acc: 0.7000\n",
            "Epoch 48/200\n",
            " - 1s - loss: 0.1316 - acc: 0.9616 - val_loss: 1.1714 - val_acc: 0.6947\n",
            "Epoch 49/200\n",
            " - 1s - loss: 0.1148 - acc: 0.9616 - val_loss: 1.1699 - val_acc: 0.7000\n"
          ],
          "name": "stdout"
        }
      ]
    },
    {
      "metadata": {
        "id": "uEI2Avtc2-k6",
        "colab_type": "code",
        "colab": {
          "base_uri": "https://localhost:8080/",
          "height": 735
        },
        "outputId": "dc2d04e8-d79a-4be6-b42b-f2b20813e302"
      },
      "cell_type": "code",
      "source": [
        "plt.plot(history.history['acc'])\n",
        "plt.plot(history.history['val_acc'])\n",
        "plt.title('Model accuracy')\n",
        "plt.ylabel('Accuracy')\n",
        "plt.xlabel('Epoch')\n",
        "plt.legend(['Train', 'Test'], loc='upper left')\n",
        "plt.show()\n",
        "\n",
        "# Plot training & validation loss values\n",
        "plt.plot(history.history['loss'])\n",
        "plt.plot(history.history['val_loss'])\n",
        "plt.title('Model loss')\n",
        "plt.ylabel('Loss')\n",
        "plt.xlabel('Epoch')\n",
        "plt.legend(['Train', 'Test'], loc='upper left')\n",
        "plt.show()"
      ],
      "execution_count": 146,
      "outputs": [
        {
          "output_type": "display_data",
          "data": {
            "image/png": "[encoded data removed]",
            "text/plain": [
              "<matplotlib.figure.Figure at 0x7f9d53e8e470>"
            ]
          },
          "metadata": {
            "tags": []
          }
        },
        {
          "output_type": "display_data",
          "data": {
            "image/png": "[encoded data removed]",
            "text/plain": [
              "<matplotlib.figure.Figure at 0x7f9d53e62f28>"
            ]
          },
          "metadata": {
            "tags": []
          }
        }
      ]
    }
  ]
}
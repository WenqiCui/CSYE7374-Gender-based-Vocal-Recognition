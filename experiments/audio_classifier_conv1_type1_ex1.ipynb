{
  "nbformat": 4,
  "nbformat_minor": 0,
  "metadata": {
    "colab": {
      "name": "audio_classifier_conv1_type1_ex1.ipynb",
      "version": "0.3.2",
      "provenance": [],
      "collapsed_sections": []
    },
    "kernelspec": {
      "name": "python3",
      "display_name": "Python 3"
    },
    "accelerator": "GPU"
  },
  "cells": [
    {
      "metadata": {
        "id": "23W7pB8Ou0ns",
        "colab_type": "code",
        "colab": {}
      },
      "cell_type": "code",
      "source": [
        "import os\n",
        "from Audio_reader import readtf\n",
        "from getman import getmanlist\n",
        "import gc\n",
        "import numpy as np\n",
        "import pandas as pd\n",
        "import pickle\n",
        "from keras.layers import Dense, Input, Dropout,Flatten,MaxPooling1D,SpatialDropout2D,SpatialDropout1D\n",
        "from keras.layers import Conv1D, MaxPooling2D,BatchNormalization,Conv2D\n",
        "from keras.models import Model\n",
        "from keras.models import Sequential\n",
        "from keras import optimizers\n",
        "from keras.utils import to_categorical\n",
        "import matplotlib.pyplot as plt\n",
        "from keras.callbacks import ReduceLROnPlateau, EarlyStopping\n",
        "from keras import regularizers\n",
        "from sklearn.metrics import confusion_matrix"
      ],
      "execution_count": 0,
      "outputs": []
    },
    {
      "metadata": {
        "id": "Xu9qECBNu8Cd",
        "colab_type": "code",
        "colab": {}
      },
      "cell_type": "code",
      "source": [
        "def check(y):\n",
        "    if 74 in y:\n",
        "        return 0 \n",
        "    #male\n",
        "    if 1 in y:\n",
        "        return 1\n",
        "    #female\n",
        "    if 2 in y:\n",
        "        return 2\n",
        "    #child\n",
        "    if 3 in y:\n",
        "        return 3\n",
        "    return 0"
      ],
      "execution_count": 0,
      "outputs": []
    },
    {
      "metadata": {
        "id": "9yf-JZlwu9kT",
        "colab_type": "code",
        "colab": {}
      },
      "cell_type": "code",
      "source": [
        "X = []\n",
        "Y = [] \n",
        "with open(\"X_list_eval.pickle\",\"rb\") as xf:\n",
        "    X.extend(pickle.load(xf))\n",
        "with open(\"Y_list_eval.pickle\",\"rb\") as xf:\n",
        "    Y.extend(pickle.load(xf))\n",
        "      \n",
        "with open(\"X_list.pickle\",\"rb\") as xf:\n",
        "    X.extend(pickle.load(xf))\n",
        "with open(\"Y_list.pickle\",\"rb\") as xf:\n",
        "    Y.extend(pickle.load(xf))\n",
        "\n",
        "X=np.array(X)\n",
        "X=np.reshape(X,(X.shape[0],X.shape[1],X.shape[2]))\n",
        "\n",
        "Y=np.array(Y)  \n",
        "\n",
        "X = X.astype('float32')    \n",
        "X /= 255\n",
        "\n"
      ],
      "execution_count": 0,
      "outputs": []
    },
    {
      "metadata": {
        "id": "paCADE0D3LlZ",
        "colab_type": "code",
        "colab": {
          "base_uri": "https://localhost:8080/",
          "height": 35
        },
        "outputId": "5b5687b9-a03f-4782-ff47-be2edc39d8a6"
      },
      "cell_type": "code",
      "source": [
        "Y.shape"
      ],
      "execution_count": 7,
      "outputs": [
        {
          "output_type": "execute_result",
          "data": {
            "text/plain": [
              "(633, 3)"
            ]
          },
          "metadata": {
            "tags": []
          },
          "execution_count": 7
        }
      ]
    },
    {
      "metadata": {
        "id": "48zGBwZju-QS",
        "colab_type": "code",
        "colab": {}
      },
      "cell_type": "code",
      "source": [
        "learning_rate=0.001\n",
        "decay=0.000001\n",
        "momentum=0.99\n",
        "dropout_rate = 0.2\n",
        "\n",
        "rglrzr = regularizers.l2(0.002)"
      ],
      "execution_count": 0,
      "outputs": []
    },
    {
      "metadata": {
        "id": "WzgC480GvABU",
        "colab_type": "code",
        "colab": {
          "base_uri": "https://localhost:8080/",
          "height": 1635
        },
        "outputId": "2782772c-b47b-4bbc-8262-4090a4a93241"
      },
      "cell_type": "code",
      "source": [
        "model = Sequential()\n",
        "model.add(Conv1D(64, 3, padding='same',activation='relu',input_shape=X.shape[1:]))\n",
        "model.add(BatchNormalization())\n",
        "model.add(Conv1D(64, 3, padding='same',activation='relu',input_shape=X.shape[1:]))\n",
        "model.add(BatchNormalization())\n",
        "model.add(MaxPooling1D(pool_size=2))\n",
        "model.add(Dropout(rate=dropout_rate))\n",
        "model.add(SpatialDropout1D(rate=dropout_rate))\n",
        "\n",
        "model.add(Conv1D(128, 3, padding='same',activation='relu',bias_regularizer=rglrzr))\n",
        "model.add(BatchNormalization())\n",
        "model.add(Conv1D(128, 3, padding='same',activation='relu',bias_regularizer=rglrzr))\n",
        "model.add(BatchNormalization())\n",
        "model.add(Dropout(rate=dropout_rate))\n",
        "model.add(SpatialDropout1D(rate=dropout_rate))\n",
        "\n",
        "\n",
        "model.add(Conv1D(256, 3, padding='same',activation='relu',bias_regularizer=rglrzr))\n",
        "model.add(BatchNormalization())\n",
        "model.add(Conv1D(256, 3, padding='same',activation='relu',bias_regularizer=rglrzr))\n",
        "model.add(BatchNormalization())\n",
        "model.add(Conv1D(256, 1, padding='same',activation='relu',bias_regularizer=rglrzr))\n",
        "model.add(BatchNormalization())\n",
        "model.add(MaxPooling1D(pool_size=2))\n",
        "model.add(Dropout(rate=dropout_rate))\n",
        "model.add(SpatialDropout1D(rate=dropout_rate))\n",
        "\n",
        "model.add(Conv1D(512, 3, padding='same',activation='relu',bias_regularizer=rglrzr))\n",
        "model.add(BatchNormalization())\n",
        "model.add(Conv1D(512, 3, padding='same',activation='relu',bias_regularizer=rglrzr))\n",
        "model.add(BatchNormalization())\n",
        "model.add(Conv1D(512, 1, padding='same',activation='relu',bias_regularizer=rglrzr))\n",
        "model.add(BatchNormalization())\n",
        "model.add(Dropout(rate=dropout_rate))\n",
        "model.add(SpatialDropout1D(rate=dropout_rate))\n",
        "\n",
        "\n",
        "model.add(Conv1D(512, 3, padding='same',activation='relu',bias_regularizer=rglrzr))\n",
        "model.add(BatchNormalization())\n",
        "model.add(Conv1D(512, 3, padding='same',activation='relu',bias_regularizer=rglrzr))\n",
        "model.add(BatchNormalization())\n",
        "model.add(Conv1D(512, 1, padding='same',activation='relu',bias_regularizer=rglrzr))\n",
        "model.add(BatchNormalization())\n",
        "model.add(MaxPooling1D(pool_size=2))\n",
        "model.add(Dropout(rate=dropout_rate))\n",
        "model.add(SpatialDropout1D(rate=dropout_rate))\n",
        "\n",
        "\n",
        "\n",
        "model.add(Flatten())\n",
        "model.add(Dense(64,activation='relu'))\n",
        "model.add(Dense(3,activation='softmax'))\n",
        "model.summary()\n"
      ],
      "execution_count": 49,
      "outputs": [
        {
          "output_type": "stream",
          "text": [
            "_________________________________________________________________\n",
            "Layer (type)                 Output Shape              Param #   \n",
            "=================================================================\n",
            "conv1d_118 (Conv1D)          (None, 10, 64)            24640     \n",
            "_________________________________________________________________\n",
            "batch_normalization_118 (Bat (None, 10, 64)            256       \n",
            "_________________________________________________________________\n",
            "conv1d_119 (Conv1D)          (None, 10, 64)            12352     \n",
            "_________________________________________________________________\n",
            "batch_normalization_119 (Bat (None, 10, 64)            256       \n",
            "_________________________________________________________________\n",
            "max_pooling1d_28 (MaxPooling (None, 5, 64)             0         \n",
            "_________________________________________________________________\n",
            "dropout_46 (Dropout)         (None, 5, 64)             0         \n",
            "_________________________________________________________________\n",
            "spatial_dropout1d_26 (Spatia (None, 5, 64)             0         \n",
            "_________________________________________________________________\n",
            "conv1d_120 (Conv1D)          (None, 5, 128)            24704     \n",
            "_________________________________________________________________\n",
            "batch_normalization_120 (Bat (None, 5, 128)            512       \n",
            "_________________________________________________________________\n",
            "conv1d_121 (Conv1D)          (None, 5, 128)            49280     \n",
            "_________________________________________________________________\n",
            "batch_normalization_121 (Bat (None, 5, 128)            512       \n",
            "_________________________________________________________________\n",
            "dropout_47 (Dropout)         (None, 5, 128)            0         \n",
            "_________________________________________________________________\n",
            "spatial_dropout1d_27 (Spatia (None, 5, 128)            0         \n",
            "_________________________________________________________________\n",
            "conv1d_122 (Conv1D)          (None, 5, 256)            98560     \n",
            "_________________________________________________________________\n",
            "batch_normalization_122 (Bat (None, 5, 256)            1024      \n",
            "_________________________________________________________________\n",
            "conv1d_123 (Conv1D)          (None, 5, 256)            196864    \n",
            "_________________________________________________________________\n",
            "batch_normalization_123 (Bat (None, 5, 256)            1024      \n",
            "_________________________________________________________________\n",
            "conv1d_124 (Conv1D)          (None, 5, 256)            65792     \n",
            "_________________________________________________________________\n",
            "batch_normalization_124 (Bat (None, 5, 256)            1024      \n",
            "_________________________________________________________________\n",
            "max_pooling1d_29 (MaxPooling (None, 2, 256)            0         \n",
            "_________________________________________________________________\n",
            "dropout_48 (Dropout)         (None, 2, 256)            0         \n",
            "_________________________________________________________________\n",
            "spatial_dropout1d_28 (Spatia (None, 2, 256)            0         \n",
            "_________________________________________________________________\n",
            "conv1d_125 (Conv1D)          (None, 2, 512)            393728    \n",
            "_________________________________________________________________\n",
            "batch_normalization_125 (Bat (None, 2, 512)            2048      \n",
            "_________________________________________________________________\n",
            "conv1d_126 (Conv1D)          (None, 2, 512)            786944    \n",
            "_________________________________________________________________\n",
            "batch_normalization_126 (Bat (None, 2, 512)            2048      \n",
            "_________________________________________________________________\n",
            "conv1d_127 (Conv1D)          (None, 2, 512)            262656    \n",
            "_________________________________________________________________\n",
            "batch_normalization_127 (Bat (None, 2, 512)            2048      \n",
            "_________________________________________________________________\n",
            "dropout_49 (Dropout)         (None, 2, 512)            0         \n",
            "_________________________________________________________________\n",
            "spatial_dropout1d_29 (Spatia (None, 2, 512)            0         \n",
            "_________________________________________________________________\n",
            "conv1d_128 (Conv1D)          (None, 2, 512)            786944    \n",
            "_________________________________________________________________\n",
            "batch_normalization_128 (Bat (None, 2, 512)            2048      \n",
            "_________________________________________________________________\n",
            "conv1d_129 (Conv1D)          (None, 2, 512)            786944    \n",
            "_________________________________________________________________\n",
            "batch_normalization_129 (Bat (None, 2, 512)            2048      \n",
            "_________________________________________________________________\n",
            "conv1d_130 (Conv1D)          (None, 2, 512)            262656    \n",
            "_________________________________________________________________\n",
            "batch_normalization_130 (Bat (None, 2, 512)            2048      \n",
            "_________________________________________________________________\n",
            "max_pooling1d_30 (MaxPooling (None, 1, 512)            0         \n",
            "_________________________________________________________________\n",
            "dropout_50 (Dropout)         (None, 1, 512)            0         \n",
            "_________________________________________________________________\n",
            "spatial_dropout1d_30 (Spatia (None, 1, 512)            0         \n",
            "_________________________________________________________________\n",
            "flatten_10 (Flatten)         (None, 512)               0         \n",
            "_________________________________________________________________\n",
            "dense_19 (Dense)             (None, 64)                32832     \n",
            "_________________________________________________________________\n",
            "dense_20 (Dense)             (None, 3)                 195       \n",
            "=================================================================\n",
            "Total params: 3,801,987\n",
            "Trainable params: 3,793,539\n",
            "Non-trainable params: 8,448\n",
            "_________________________________________________________________\n"
          ],
          "name": "stdout"
        }
      ]
    },
    {
      "metadata": {
        "id": "QJfo7Hi3vCH3",
        "colab_type": "code",
        "colab": {}
      },
      "cell_type": "code",
      "source": [
        "\n",
        "optimizer = optimizers.SGD(lr=learning_rate,momentum=momentum,decay=decay)\n",
        "model.compile(loss='categorical_crossentropy',\n",
        "              optimizer=optimizer, \n",
        "              metrics=['accuracy'])"
      ],
      "execution_count": 0,
      "outputs": []
    },
    {
      "metadata": {
        "id": "xJL7Xj0svE7i",
        "colab_type": "code",
        "colab": {}
      },
      "cell_type": "code",
      "source": [
        "cb=[]\n",
        "\n",
        "#reduce_lr = ReduceLROnPlateau(monitor='val_loss', factor=0.8, patience=3, verbose=0, mode='auto')\n",
        "early_stopping = EarlyStopping(monitor='acc', min_delta=0, patience=30, verbose=0, mode='auto', baseline=None, restore_best_weights=True)\n",
        "\n",
        "#cb.append(reduce_lr)\n",
        "cb.append(early_stopping)"
      ],
      "execution_count": 0,
      "outputs": []
    },
    {
      "metadata": {
        "id": "0Xt1mnqivctg",
        "colab_type": "code",
        "colab": {
          "base_uri": "https://localhost:8080/",
          "height": 1812
        },
        "outputId": "2a93c002-84a0-4a4b-d5ab-b8d0b9409811"
      },
      "cell_type": "code",
      "source": [
        "history=model.fit(X, Y,\n",
        "          batch_size=32,\n",
        "          epochs=50,\n",
        "          verbose=2,\n",
        "          callbacks=cb,\n",
        "          validation_split=0.2,\n",
        "          shuffle=True)"
      ],
      "execution_count": 52,
      "outputs": [
        {
          "output_type": "stream",
          "text": [
            "Train on 506 samples, validate on 127 samples\n",
            "Epoch 1/50\n",
            " - 13s - loss: 1.5644 - acc: 0.4684 - val_loss: 10.6275 - val_acc: 0.2362\n",
            "Epoch 2/50\n",
            " - 1s - loss: 1.4738 - acc: 0.5217 - val_loss: 7.7229 - val_acc: 0.5197\n",
            "Epoch 3/50\n",
            " - 1s - loss: 1.1150 - acc: 0.5534 - val_loss: 7.7421 - val_acc: 0.5197\n",
            "Epoch 4/50\n",
            " - 1s - loss: 0.8684 - acc: 0.6186 - val_loss: 7.7423 - val_acc: 0.5197\n",
            "Epoch 5/50\n",
            " - 1s - loss: 0.8233 - acc: 0.5968 - val_loss: 7.7426 - val_acc: 0.5197\n",
            "Epoch 6/50\n",
            " - 1s - loss: 0.7569 - acc: 0.6364 - val_loss: 7.7428 - val_acc: 0.5197\n",
            "Epoch 7/50\n",
            " - 1s - loss: 0.7478 - acc: 0.6640 - val_loss: 7.7431 - val_acc: 0.5197\n",
            "Epoch 8/50\n",
            " - 1s - loss: 0.7262 - acc: 0.6957 - val_loss: 7.7434 - val_acc: 0.5197\n",
            "Epoch 9/50\n",
            " - 1s - loss: 0.6859 - acc: 0.6779 - val_loss: 7.7352 - val_acc: 0.5197\n",
            "Epoch 10/50\n",
            " - 1s - loss: 0.6903 - acc: 0.6897 - val_loss: 6.9362 - val_acc: 0.5197\n",
            "Epoch 11/50\n",
            " - 1s - loss: 0.6718 - acc: 0.7115 - val_loss: 6.0815 - val_acc: 0.5354\n",
            "Epoch 12/50\n",
            " - 1s - loss: 0.6417 - acc: 0.7095 - val_loss: 5.3329 - val_acc: 0.5433\n",
            "Epoch 13/50\n",
            " - 1s - loss: 0.6519 - acc: 0.7213 - val_loss: 4.0435 - val_acc: 0.5827\n",
            "Epoch 14/50\n",
            " - 1s - loss: 0.6630 - acc: 0.7233 - val_loss: 3.0970 - val_acc: 0.6142\n",
            "Epoch 15/50\n",
            " - 1s - loss: 0.6347 - acc: 0.7273 - val_loss: 2.3713 - val_acc: 0.6142\n",
            "Epoch 16/50\n",
            " - 1s - loss: 0.6116 - acc: 0.7253 - val_loss: 1.9901 - val_acc: 0.5984\n",
            "Epoch 17/50\n",
            " - 1s - loss: 0.6238 - acc: 0.7233 - val_loss: 1.7800 - val_acc: 0.5591\n",
            "Epoch 18/50\n",
            " - 1s - loss: 0.5962 - acc: 0.7352 - val_loss: 1.6985 - val_acc: 0.5276\n",
            "Epoch 19/50\n",
            " - 1s - loss: 0.5759 - acc: 0.7292 - val_loss: 1.3933 - val_acc: 0.5827\n",
            "Epoch 20/50\n",
            " - 1s - loss: 0.5777 - acc: 0.7688 - val_loss: 1.3832 - val_acc: 0.5748\n",
            "Epoch 21/50\n",
            " - 1s - loss: 0.5967 - acc: 0.7549 - val_loss: 1.3621 - val_acc: 0.5197\n",
            "Epoch 22/50\n",
            " - 1s - loss: 0.5948 - acc: 0.7470 - val_loss: 1.0415 - val_acc: 0.5669\n",
            "Epoch 23/50\n",
            " - 1s - loss: 0.5898 - acc: 0.7609 - val_loss: 0.9327 - val_acc: 0.6378\n",
            "Epoch 24/50\n",
            " - 1s - loss: 0.5165 - acc: 0.7787 - val_loss: 1.0517 - val_acc: 0.6457\n",
            "Epoch 25/50\n",
            " - 1s - loss: 0.5257 - acc: 0.7787 - val_loss: 1.1229 - val_acc: 0.6299\n",
            "Epoch 26/50\n",
            " - 1s - loss: 0.4989 - acc: 0.7826 - val_loss: 1.0587 - val_acc: 0.6614\n",
            "Epoch 27/50\n",
            " - 1s - loss: 0.5386 - acc: 0.7905 - val_loss: 1.0629 - val_acc: 0.6614\n",
            "Epoch 28/50\n",
            " - 1s - loss: 0.5588 - acc: 0.7668 - val_loss: 1.0021 - val_acc: 0.6378\n",
            "Epoch 29/50\n",
            " - 1s - loss: 0.5144 - acc: 0.7648 - val_loss: 0.8584 - val_acc: 0.6457\n",
            "Epoch 30/50\n",
            " - 1s - loss: 0.4905 - acc: 0.8024 - val_loss: 0.7775 - val_acc: 0.6772\n",
            "Epoch 31/50\n",
            " - 1s - loss: 0.4853 - acc: 0.7866 - val_loss: 0.7738 - val_acc: 0.7008\n",
            "Epoch 32/50\n",
            " - 1s - loss: 0.4781 - acc: 0.7885 - val_loss: 0.8401 - val_acc: 0.7008\n",
            "Epoch 33/50\n",
            " - 1s - loss: 0.4605 - acc: 0.8083 - val_loss: 0.8770 - val_acc: 0.6772\n",
            "Epoch 34/50\n",
            " - 1s - loss: 0.4981 - acc: 0.7964 - val_loss: 0.8134 - val_acc: 0.7008\n",
            "Epoch 35/50\n",
            " - 1s - loss: 0.4465 - acc: 0.8123 - val_loss: 0.7584 - val_acc: 0.7008\n",
            "Epoch 36/50\n",
            " - 1s - loss: 0.4269 - acc: 0.8103 - val_loss: 0.7728 - val_acc: 0.6772\n",
            "Epoch 37/50\n",
            " - 1s - loss: 0.4475 - acc: 0.8103 - val_loss: 0.8236 - val_acc: 0.6850\n",
            "Epoch 38/50\n",
            " - 1s - loss: 0.4409 - acc: 0.8241 - val_loss: 0.8896 - val_acc: 0.6929\n",
            "Epoch 39/50\n",
            " - 1s - loss: 0.4292 - acc: 0.8340 - val_loss: 0.9531 - val_acc: 0.7165\n",
            "Epoch 40/50\n",
            " - 1s - loss: 0.4408 - acc: 0.8103 - val_loss: 0.8899 - val_acc: 0.7008\n",
            "Epoch 41/50\n",
            " - 1s - loss: 0.3724 - acc: 0.8379 - val_loss: 0.8297 - val_acc: 0.6929\n",
            "Epoch 42/50\n",
            " - 1s - loss: 0.4150 - acc: 0.8340 - val_loss: 0.7962 - val_acc: 0.7087\n",
            "Epoch 43/50\n",
            " - 1s - loss: 0.3835 - acc: 0.8478 - val_loss: 0.8259 - val_acc: 0.7008\n",
            "Epoch 44/50\n",
            " - 1s - loss: 0.4164 - acc: 0.8300 - val_loss: 0.8262 - val_acc: 0.7323\n",
            "Epoch 45/50\n",
            " - 1s - loss: 0.4041 - acc: 0.8162 - val_loss: 0.8404 - val_acc: 0.7323\n",
            "Epoch 46/50\n",
            " - 1s - loss: 0.3646 - acc: 0.8439 - val_loss: 0.8613 - val_acc: 0.7165\n",
            "Epoch 47/50\n",
            " - 1s - loss: 0.3622 - acc: 0.8498 - val_loss: 0.8964 - val_acc: 0.7087\n",
            "Epoch 48/50\n",
            " - 1s - loss: 0.3848 - acc: 0.8656 - val_loss: 0.9054 - val_acc: 0.7165\n",
            "Epoch 49/50\n",
            " - 1s - loss: 0.3984 - acc: 0.8340 - val_loss: 0.8887 - val_acc: 0.7165\n",
            "Epoch 50/50\n",
            " - 1s - loss: 0.3591 - acc: 0.8597 - val_loss: 0.8390 - val_acc: 0.7244\n"
          ],
          "name": "stdout"
        }
      ]
    },
    {
      "metadata": {
        "id": "fRqc0XZ4A1BF",
        "colab_type": "code",
        "colab": {
          "base_uri": "https://localhost:8080/",
          "height": 70
        },
        "outputId": "344b47ee-a0c8-4767-c0bd-312746714599"
      },
      "cell_type": "code",
      "source": [
        "history=model.fit(X, Y,\n",
        "          batch_size=32,\n",
        "          epochs=1,\n",
        "          verbose=2,\n",
        "          callbacks=cb,\n",
        "          validation_split=0.2)"
      ],
      "execution_count": 54,
      "outputs": [
        {
          "output_type": "stream",
          "text": [
            "Train on 506 samples, validate on 127 samples\n",
            "Epoch 1/1\n",
            " - 1s - loss: 0.3617 - acc: 0.8439 - val_loss: 0.8332 - val_acc: 0.7323\n"
          ],
          "name": "stdout"
        }
      ]
    },
    {
      "metadata": {
        "id": "yUg0gi3xvf-a",
        "colab_type": "code",
        "colab": {
          "base_uri": "https://localhost:8080/",
          "height": 735
        },
        "outputId": "90c37c9f-5d75-406d-d98b-8de864e432a6"
      },
      "cell_type": "code",
      "source": [
        "plt.plot(history.history['acc'])\n",
        "plt.plot(history.history['val_acc'])\n",
        "plt.title('Model accuracy')\n",
        "plt.ylabel('Accuracy')\n",
        "plt.xlabel('Epoch')\n",
        "plt.legend(['Train', 'Test'], loc='upper left')\n",
        "plt.show()\n",
        "\n",
        "# Plot training & validation loss values\n",
        "plt.plot(history.history['loss'])\n",
        "plt.plot(history.history['val_loss'])\n",
        "plt.title('Model loss')\n",
        "plt.ylabel('Loss')\n",
        "plt.xlabel('Epoch')\n",
        "plt.legend(['Train', 'Test'], loc='upper left')\n",
        "plt.show()"
      ],
      "execution_count": 55,
      "outputs": [
        {
          "output_type": "display_data",
          "data": {
            "image/png": "[encoded data removed]",
            "text/plain": [
              "<matplotlib.figure.Figure at 0x7ff152c3e3c8>"
            ]
          },
          "metadata": {
            "tags": []
          }
        },
        {
          "output_type": "display_data",
          "data": {
            "image/png": "[encoded data removed]",
            "text/plain": [
              "<matplotlib.figure.Figure at 0x7ff152b51be0>"
            ]
          },
          "metadata": {
            "tags": []
          }
        }
      ]
    },
    {
      "metadata": {
        "id": "6JGr0e_ZvjO_",
        "colab_type": "code",
        "colab": {}
      },
      "cell_type": "code",
      "source": [
        "y_pred = model.predict(X)\n",
        "def maxpos(li):\n",
        "      if (li[1]>li[0]) and (li[1]>li[2])  :\n",
        "        return 1\n",
        "      if (li[2]>li[0]) and (li[2]>li[1])  :\n",
        "        return 2     \n",
        "      return 0\n",
        "y_pre=[maxpos(y) for y in y_pred]\n",
        "y_tes=[maxpos(y) for y in Y]\n",
        "confusion_matrix(y_true=y_tes,y_pred=y_pre)"
      ],
      "execution_count": 0,
      "outputs": []
    },
    {
      "metadata": {
        "id": "4OOGhhiEvlgN",
        "colab_type": "code",
        "colab": {}
      },
      "cell_type": "code",
      "source": [
        "model.save('VGG-ish_conv1-type1.model')"
      ],
      "execution_count": 0,
      "outputs": []
    }
  ]
}
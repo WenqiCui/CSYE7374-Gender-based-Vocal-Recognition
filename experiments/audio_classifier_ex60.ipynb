{
  "nbformat": 4,
  "nbformat_minor": 0,
  "metadata": {
    "colab": {
      "name": "audio_classifier_ex60.ipynb",
      "version": "0.3.2",
      "provenance": [],
      "collapsed_sections": []
    },
    "kernelspec": {
      "name": "python3",
      "display_name": "Python 3"
    },
    "accelerator": "GPU"
  },
  "cells": [
    {
      "metadata": {
        "id": "alqu6qvi2HXO",
        "colab_type": "code",
        "colab": {}
      },
      "cell_type": "code",
      "source": [
        "import os\n",
        "from Audio_reader import readtf\n",
        "from getman import getmanlist\n",
        "import gc\n",
        "import numpy as np\n",
        "import pandas as pd\n",
        "import pickle\n",
        "from keras.layers import Dense, Input, Dropout,Flatten,MaxPooling1D,SpatialDropout2D\n",
        "from keras.layers import Conv1D, MaxPooling2D,BatchNormalization,Conv2D\n",
        "from keras.models import Model\n",
        "from keras.models import Sequential\n",
        "from keras import optimizers\n",
        "from keras.utils import to_categorical\n",
        "import matplotlib.pyplot as plt\n",
        "from keras.callbacks import ReduceLROnPlateau, EarlyStopping\n",
        "from keras import regularizers\n",
        "from sklearn.metrics import confusion_matrix"
      ],
      "execution_count": 0,
      "outputs": []
    },
    {
      "metadata": {
        "id": "eBa8rJok2r6V",
        "colab_type": "code",
        "colab": {}
      },
      "cell_type": "code",
      "source": [
        "def check(y):\n",
        "    if 74 in y:\n",
        "        return 0 \n",
        "    #male\n",
        "    if 1 in y:\n",
        "        return 1\n",
        "    #female\n",
        "    if 2 in y:\n",
        "        return 2\n",
        "    #child\n",
        "    if 3 in y:\n",
        "        return 3\n",
        "    return 0"
      ],
      "execution_count": 0,
      "outputs": []
    },
    {
      "metadata": {
        "id": "gwVlmq5k2uiT",
        "colab_type": "code",
        "colab": {}
      },
      "cell_type": "code",
      "source": [
        "X = []\n",
        "Y = [] \n",
        "with open(\"X_list_eval.pickle\",\"rb\") as xf:\n",
        "    X.extend(pickle.load(xf))\n",
        "with open(\"Y_list_eval.pickle\",\"rb\") as xf:\n",
        "    Y.extend(pickle.load(xf))\n",
        "      \n",
        "with open(\"X_list.pickle\",\"rb\") as xf:\n",
        "    X.extend(pickle.load(xf))\n",
        "with open(\"Y_list.pickle\",\"rb\") as xf:\n",
        "    Y.extend(pickle.load(xf))\n",
        "\n",
        "X=np.array(X)\n",
        "Y=np.array(Y)  \n",
        "\n",
        "X = X.astype('float32')    \n",
        "X /= 255\n",
        "\n"
      ],
      "execution_count": 0,
      "outputs": []
    },
    {
      "metadata": {
        "id": "sSOYwXU5ABzI",
        "colab_type": "code",
        "colab": {}
      },
      "cell_type": "code",
      "source": [
        "learning_rate=0.001\n",
        "decay=0.000001\n",
        "momentum=0.99\n",
        "dropout_rate = 0.35\n",
        "\n",
        "rglrzr = regularizers.l2(0.0015)"
      ],
      "execution_count": 0,
      "outputs": []
    },
    {
      "metadata": {
        "id": "yZr9ezVi22SF",
        "colab_type": "code",
        "outputId": "f77b3f54-1129-4c60-ad70-d0d04fa76439",
        "colab": {
          "base_uri": "https://localhost:8080/",
          "height": 1528
        }
      },
      "cell_type": "code",
      "source": [
        "model = Sequential()\n",
        "model.add(Conv2D(64, (3, 3), padding='same',activation='relu',input_shape=X.shape[1:]))\n",
        "model.add(BatchNormalization())\n",
        "model.add(Conv2D(64, (3, 3), padding='same',activation='relu',input_shape=X.shape[1:]))\n",
        "model.add(BatchNormalization())\n",
        "model.add(MaxPooling2D(pool_size=(2, 2)))\n",
        "model.add(Dropout(rate=dropout_rate))\n",
        "\n",
        "model.add(Conv2D(128, (3, 3), padding='same',activation='relu',bias_regularizer=rglrzr))\n",
        "model.add(BatchNormalization())\n",
        "model.add(Conv2D(128, (3, 3), padding='same',activation='relu',bias_regularizer=rglrzr))\n",
        "model.add(BatchNormalization())\n",
        "model.add(MaxPooling2D(pool_size=(1, 2)))\n",
        "model.add(Dropout(rate=dropout_rate))\n",
        "\n",
        "\n",
        "\n",
        "model.add(Conv2D(256, (3, 3), padding='same',activation='relu',bias_regularizer=rglrzr))\n",
        "model.add(BatchNormalization())\n",
        "model.add(Conv2D(256, (3, 3), padding='same',activation='relu',bias_regularizer=rglrzr))\n",
        "model.add(BatchNormalization())\n",
        "model.add(Conv2D(256, (1, 1), padding='same',activation='relu',bias_regularizer=rglrzr))\n",
        "model.add(BatchNormalization())\n",
        "model.add(MaxPooling2D(pool_size=(2, 2)))\n",
        "model.add(Dropout(rate=dropout_rate))\n",
        "\n",
        "\n",
        "model.add(Conv2D(512, (3, 3), padding='same',activation='relu',bias_regularizer=rglrzr))\n",
        "model.add(BatchNormalization())\n",
        "model.add(Conv2D(512, (3, 3), padding='same',activation='relu',bias_regularizer=rglrzr))\n",
        "model.add(BatchNormalization())\n",
        "model.add(Conv2D(512, (1, 1), padding='same',activation='relu',bias_regularizer=rglrzr))\n",
        "model.add(BatchNormalization())\n",
        "model.add(MaxPooling2D(pool_size=(1, 2)))\n",
        "model.add(Dropout(rate=dropout_rate))\n",
        "\n",
        "\n",
        "\n",
        "model.add(Conv2D(512, (3, 3), padding='same',activation='relu',bias_regularizer=rglrzr))\n",
        "model.add(BatchNormalization())\n",
        "model.add(Conv2D(512, (3, 3), padding='same',activation='relu',bias_regularizer=rglrzr))\n",
        "model.add(BatchNormalization())\n",
        "model.add(Conv2D(512, (1, 1), padding='same',activation='relu',bias_regularizer=rglrzr))\n",
        "model.add(BatchNormalization())\n",
        "model.add(MaxPooling2D(pool_size=(2, 2)))\n",
        "model.add(Dropout(rate=dropout_rate))\n",
        "\n",
        "\n",
        "\n",
        "\n",
        "model.add(Flatten())\n",
        "model.add(Dense(128,activation='relu'))\n",
        "model.add(Dense(3,activation='softmax'))\n",
        "model.summary()\n"
      ],
      "execution_count": 47,
      "outputs": [
        {
          "output_type": "stream",
          "text": [
            "_________________________________________________________________\n",
            "Layer (type)                 Output Shape              Param #   \n",
            "=================================================================\n",
            "conv2d_105 (Conv2D)          (None, 10, 128, 64)       640       \n",
            "_________________________________________________________________\n",
            "batch_normalization_105 (Bat (None, 10, 128, 64)       256       \n",
            "_________________________________________________________________\n",
            "conv2d_106 (Conv2D)          (None, 10, 128, 64)       36928     \n",
            "_________________________________________________________________\n",
            "batch_normalization_106 (Bat (None, 10, 128, 64)       256       \n",
            "_________________________________________________________________\n",
            "max_pooling2d_41 (MaxPooling (None, 5, 64, 64)         0         \n",
            "_________________________________________________________________\n",
            "dropout_16 (Dropout)         (None, 5, 64, 64)         0         \n",
            "_________________________________________________________________\n",
            "conv2d_107 (Conv2D)          (None, 5, 64, 128)        73856     \n",
            "_________________________________________________________________\n",
            "batch_normalization_107 (Bat (None, 5, 64, 128)        512       \n",
            "_________________________________________________________________\n",
            "conv2d_108 (Conv2D)          (None, 5, 64, 128)        147584    \n",
            "_________________________________________________________________\n",
            "batch_normalization_108 (Bat (None, 5, 64, 128)        512       \n",
            "_________________________________________________________________\n",
            "max_pooling2d_42 (MaxPooling (None, 5, 32, 128)        0         \n",
            "_________________________________________________________________\n",
            "dropout_17 (Dropout)         (None, 5, 32, 128)        0         \n",
            "_________________________________________________________________\n",
            "conv2d_109 (Conv2D)          (None, 5, 32, 256)        295168    \n",
            "_________________________________________________________________\n",
            "batch_normalization_109 (Bat (None, 5, 32, 256)        1024      \n",
            "_________________________________________________________________\n",
            "conv2d_110 (Conv2D)          (None, 5, 32, 256)        590080    \n",
            "_________________________________________________________________\n",
            "batch_normalization_110 (Bat (None, 5, 32, 256)        1024      \n",
            "_________________________________________________________________\n",
            "conv2d_111 (Conv2D)          (None, 5, 32, 256)        65792     \n",
            "_________________________________________________________________\n",
            "batch_normalization_111 (Bat (None, 5, 32, 256)        1024      \n",
            "_________________________________________________________________\n",
            "max_pooling2d_43 (MaxPooling (None, 2, 16, 256)        0         \n",
            "_________________________________________________________________\n",
            "dropout_18 (Dropout)         (None, 2, 16, 256)        0         \n",
            "_________________________________________________________________\n",
            "conv2d_112 (Conv2D)          (None, 2, 16, 512)        1180160   \n",
            "_________________________________________________________________\n",
            "batch_normalization_112 (Bat (None, 2, 16, 512)        2048      \n",
            "_________________________________________________________________\n",
            "conv2d_113 (Conv2D)          (None, 2, 16, 512)        2359808   \n",
            "_________________________________________________________________\n",
            "batch_normalization_113 (Bat (None, 2, 16, 512)        2048      \n",
            "_________________________________________________________________\n",
            "conv2d_114 (Conv2D)          (None, 2, 16, 512)        262656    \n",
            "_________________________________________________________________\n",
            "batch_normalization_114 (Bat (None, 2, 16, 512)        2048      \n",
            "_________________________________________________________________\n",
            "max_pooling2d_44 (MaxPooling (None, 2, 8, 512)         0         \n",
            "_________________________________________________________________\n",
            "dropout_19 (Dropout)         (None, 2, 8, 512)         0         \n",
            "_________________________________________________________________\n",
            "conv2d_115 (Conv2D)          (None, 2, 8, 512)         2359808   \n",
            "_________________________________________________________________\n",
            "batch_normalization_115 (Bat (None, 2, 8, 512)         2048      \n",
            "_________________________________________________________________\n",
            "conv2d_116 (Conv2D)          (None, 2, 8, 512)         2359808   \n",
            "_________________________________________________________________\n",
            "batch_normalization_116 (Bat (None, 2, 8, 512)         2048      \n",
            "_________________________________________________________________\n",
            "conv2d_117 (Conv2D)          (None, 2, 8, 512)         262656    \n",
            "_________________________________________________________________\n",
            "batch_normalization_117 (Bat (None, 2, 8, 512)         2048      \n",
            "_________________________________________________________________\n",
            "max_pooling2d_45 (MaxPooling (None, 1, 4, 512)         0         \n",
            "_________________________________________________________________\n",
            "dropout_20 (Dropout)         (None, 1, 4, 512)         0         \n",
            "_________________________________________________________________\n",
            "flatten_9 (Flatten)          (None, 2048)              0         \n",
            "_________________________________________________________________\n",
            "dense_17 (Dense)             (None, 128)               262272    \n",
            "_________________________________________________________________\n",
            "dense_18 (Dense)             (None, 3)                 387       \n",
            "=================================================================\n",
            "Total params: 10,274,499\n",
            "Trainable params: 10,266,051\n",
            "Non-trainable params: 8,448\n",
            "_________________________________________________________________\n"
          ],
          "name": "stdout"
        }
      ]
    },
    {
      "metadata": {
        "id": "MDFRkgSGaW7U",
        "colab_type": "code",
        "colab": {}
      },
      "cell_type": "code",
      "source": [
        "\n",
        "optimizer = optimizers.SGD(lr=learning_rate,momentum=momentum,decay=decay)\n",
        "model.compile(loss='categorical_crossentropy',\n",
        "              optimizer=optimizer, \n",
        "              metrics=['accuracy'])"
      ],
      "execution_count": 0,
      "outputs": []
    },
    {
      "metadata": {
        "id": "H1pol6Jx8VZC",
        "colab_type": "code",
        "colab": {}
      },
      "cell_type": "code",
      "source": [
        "cb=[]\n",
        "\n",
        "#reduce_lr = ReduceLROnPlateau(monitor='val_loss', factor=0.8, patience=3, verbose=0, mode='auto')\n",
        "early_stopping = EarlyStopping(monitor='acc', min_delta=0, patience=30, verbose=0, mode='auto', baseline=None, restore_best_weights=True)\n",
        "\n",
        "#cb.append(reduce_lr)\n",
        "cb.append(early_stopping)"
      ],
      "execution_count": 0,
      "outputs": []
    },
    {
      "metadata": {
        "id": "Ytxt_BJs268t",
        "colab_type": "code",
        "outputId": "ceb4e3f8-cf6a-4a9f-b793-a08f1ef69bd5",
        "colab": {
          "base_uri": "https://localhost:8080/",
          "height": 4437
        }
      },
      "cell_type": "code",
      "source": [
        "history=model.fit(X, Y,\n",
        "          batch_size=32,\n",
        "          epochs=200,\n",
        "          verbose=2,\n",
        "          callbacks=cb,\n",
        "          validation_split=0.3,\n",
        "          shuffle=True)"
      ],
      "execution_count": 49,
      "outputs": [
        {
          "output_type": "stream",
          "text": [
            "Train on 443 samples, validate on 190 samples\n",
            "Epoch 1/200\n",
            " - 9s - loss: 1.7272 - categorical_accuracy: 0.4379 - val_loss: 6.7866 - val_categorical_accuracy: 0.5789\n",
            "Epoch 2/200\n"
          ],
          "name": "stdout"
        },
        {
          "output_type": "stream",
          "text": [
            "/usr/local/lib/python3.6/dist-packages/keras/callbacks.py:569: RuntimeWarning: Early stopping conditioned on metric `acc` which is not available. Available metrics are: val_loss,val_categorical_accuracy,loss,categorical_accuracy\n",
            "  (self.monitor, ','.join(list(logs.keys()))), RuntimeWarning\n"
          ],
          "name": "stderr"
        },
        {
          "output_type": "stream",
          "text": [
            " - 1s - loss: 1.3069 - categorical_accuracy: 0.4786 - val_loss: 12.7869 - val_categorical_accuracy: 0.1947\n",
            "Epoch 3/200\n",
            " - 1s - loss: 1.0151 - categorical_accuracy: 0.5350 - val_loss: 12.9794 - val_categorical_accuracy: 0.1947\n",
            "Epoch 4/200\n",
            " - 1s - loss: 0.9323 - categorical_accuracy: 0.5937 - val_loss: 12.2946 - val_categorical_accuracy: 0.2158\n",
            "Epoch 5/200\n",
            " - 1s - loss: 0.9268 - categorical_accuracy: 0.5914 - val_loss: 9.0595 - val_categorical_accuracy: 0.3316\n",
            "Epoch 6/200\n",
            " - 1s - loss: 0.8969 - categorical_accuracy: 0.5869 - val_loss: 8.1285 - val_categorical_accuracy: 0.3158\n",
            "Epoch 7/200\n",
            " - 1s - loss: 0.9213 - categorical_accuracy: 0.5959 - val_loss: 6.0622 - val_categorical_accuracy: 0.5842\n",
            "Epoch 8/200\n",
            " - 1s - loss: 0.8835 - categorical_accuracy: 0.6117 - val_loss: 12.9798 - val_categorical_accuracy: 0.1947\n",
            "Epoch 9/200\n",
            " - 1s - loss: 0.8665 - categorical_accuracy: 0.6005 - val_loss: 12.9799 - val_categorical_accuracy: 0.1947\n",
            "Epoch 10/200\n",
            " - 1s - loss: 0.8596 - categorical_accuracy: 0.6275 - val_loss: 12.9799 - val_categorical_accuracy: 0.1947\n",
            "Epoch 11/200\n",
            " - 1s - loss: 0.8558 - categorical_accuracy: 0.6005 - val_loss: 6.7872 - val_categorical_accuracy: 0.5789\n",
            "Epoch 12/200\n",
            " - 1s - loss: 0.8534 - categorical_accuracy: 0.6411 - val_loss: 6.7873 - val_categorical_accuracy: 0.5789\n",
            "Epoch 13/200\n",
            " - 1s - loss: 0.8294 - categorical_accuracy: 0.6524 - val_loss: 12.9801 - val_categorical_accuracy: 0.1947\n",
            "Epoch 14/200\n",
            " - 1s - loss: 0.8012 - categorical_accuracy: 0.6230 - val_loss: 5.0080 - val_categorical_accuracy: 0.5737\n",
            "Epoch 15/200\n",
            " - 1s - loss: 0.7698 - categorical_accuracy: 0.6591 - val_loss: 6.6530 - val_categorical_accuracy: 0.5789\n",
            "Epoch 16/200\n",
            " - 1s - loss: 0.7211 - categorical_accuracy: 0.6704 - val_loss: 5.4464 - val_categorical_accuracy: 0.5789\n",
            "Epoch 17/200\n",
            " - 1s - loss: 0.6923 - categorical_accuracy: 0.6907 - val_loss: 1.0829 - val_categorical_accuracy: 0.5684\n",
            "Epoch 18/200\n",
            " - 1s - loss: 0.6532 - categorical_accuracy: 0.6998 - val_loss: 3.1283 - val_categorical_accuracy: 0.1947\n",
            "Epoch 19/200\n",
            " - 1s - loss: 0.6103 - categorical_accuracy: 0.7449 - val_loss: 5.1258 - val_categorical_accuracy: 0.2158\n",
            "Epoch 20/200\n",
            " - 1s - loss: 0.5968 - categorical_accuracy: 0.7585 - val_loss: 4.8542 - val_categorical_accuracy: 0.2526\n",
            "Epoch 21/200\n",
            " - 1s - loss: 0.5701 - categorical_accuracy: 0.7562 - val_loss: 6.5204 - val_categorical_accuracy: 0.1947\n",
            "Epoch 22/200\n",
            " - 1s - loss: 0.5806 - categorical_accuracy: 0.7517 - val_loss: 2.9898 - val_categorical_accuracy: 0.2526\n",
            "Epoch 23/200\n",
            " - 1s - loss: 0.5102 - categorical_accuracy: 0.7810 - val_loss: 3.9922 - val_categorical_accuracy: 0.2737\n",
            "Epoch 24/200\n",
            " - 1s - loss: 0.5136 - categorical_accuracy: 0.7901 - val_loss: 3.2744 - val_categorical_accuracy: 0.3842\n",
            "Epoch 25/200\n",
            " - 1s - loss: 0.4964 - categorical_accuracy: 0.8059 - val_loss: 3.9453 - val_categorical_accuracy: 0.3474\n",
            "Epoch 26/200\n",
            " - 1s - loss: 0.5042 - categorical_accuracy: 0.7901 - val_loss: 2.5121 - val_categorical_accuracy: 0.4579\n",
            "Epoch 27/200\n",
            " - 1s - loss: 0.4120 - categorical_accuracy: 0.8307 - val_loss: 1.1469 - val_categorical_accuracy: 0.5579\n",
            "Epoch 28/200\n",
            " - 1s - loss: 0.4589 - categorical_accuracy: 0.8217 - val_loss: 1.0937 - val_categorical_accuracy: 0.6474\n",
            "Epoch 29/200\n",
            " - 1s - loss: 0.4234 - categorical_accuracy: 0.8284 - val_loss: 1.1648 - val_categorical_accuracy: 0.6737\n",
            "Epoch 30/200\n",
            " - 1s - loss: 0.3689 - categorical_accuracy: 0.8713 - val_loss: 1.1120 - val_categorical_accuracy: 0.6368\n",
            "Epoch 31/200\n",
            " - 1s - loss: 0.3582 - categorical_accuracy: 0.8533 - val_loss: 1.2518 - val_categorical_accuracy: 0.6158\n",
            "Epoch 32/200\n",
            " - 1s - loss: 0.3482 - categorical_accuracy: 0.8465 - val_loss: 1.2517 - val_categorical_accuracy: 0.6263\n",
            "Epoch 33/200\n",
            " - 1s - loss: 0.3482 - categorical_accuracy: 0.8758 - val_loss: 1.5882 - val_categorical_accuracy: 0.6579\n",
            "Epoch 34/200\n",
            " - 1s - loss: 0.2591 - categorical_accuracy: 0.8849 - val_loss: 1.5226 - val_categorical_accuracy: 0.6684\n",
            "Epoch 35/200\n",
            " - 1s - loss: 0.2530 - categorical_accuracy: 0.9029 - val_loss: 1.3882 - val_categorical_accuracy: 0.6474\n",
            "Epoch 36/200\n",
            " - 1s - loss: 0.2958 - categorical_accuracy: 0.8849 - val_loss: 1.4860 - val_categorical_accuracy: 0.6737\n",
            "Epoch 37/200\n",
            " - 1s - loss: 0.2605 - categorical_accuracy: 0.9029 - val_loss: 1.5144 - val_categorical_accuracy: 0.6368\n",
            "Epoch 38/200\n",
            " - 1s - loss: 0.2777 - categorical_accuracy: 0.8871 - val_loss: 1.1998 - val_categorical_accuracy: 0.6316\n",
            "Epoch 39/200\n",
            " - 1s - loss: 0.2336 - categorical_accuracy: 0.9074 - val_loss: 1.1150 - val_categorical_accuracy: 0.6895\n",
            "Epoch 40/200\n",
            " - 1s - loss: 0.2151 - categorical_accuracy: 0.9187 - val_loss: 1.2415 - val_categorical_accuracy: 0.6789\n",
            "Epoch 41/200\n",
            " - 1s - loss: 0.1961 - categorical_accuracy: 0.9345 - val_loss: 1.4849 - val_categorical_accuracy: 0.7053\n",
            "Epoch 42/200\n",
            " - 1s - loss: 0.1825 - categorical_accuracy: 0.9368 - val_loss: 1.5512 - val_categorical_accuracy: 0.7053\n",
            "Epoch 43/200\n",
            " - 1s - loss: 0.1875 - categorical_accuracy: 0.9391 - val_loss: 1.5218 - val_categorical_accuracy: 0.7000\n",
            "Epoch 44/200\n",
            " - 1s - loss: 0.1227 - categorical_accuracy: 0.9594 - val_loss: 1.6092 - val_categorical_accuracy: 0.6947\n",
            "Epoch 45/200\n",
            " - 1s - loss: 0.1488 - categorical_accuracy: 0.9481 - val_loss: 1.8166 - val_categorical_accuracy: 0.7053\n",
            "Epoch 46/200\n",
            " - 1s - loss: 0.1461 - categorical_accuracy: 0.9436 - val_loss: 1.6345 - val_categorical_accuracy: 0.6947\n",
            "Epoch 47/200\n",
            " - 1s - loss: 0.0984 - categorical_accuracy: 0.9639 - val_loss: 1.3596 - val_categorical_accuracy: 0.6947\n",
            "Epoch 48/200\n",
            " - 1s - loss: 0.1025 - categorical_accuracy: 0.9684 - val_loss: 1.4095 - val_categorical_accuracy: 0.6895\n",
            "Epoch 49/200\n",
            " - 1s - loss: 0.0765 - categorical_accuracy: 0.9684 - val_loss: 1.6340 - val_categorical_accuracy: 0.6947\n",
            "Epoch 50/200\n",
            " - 1s - loss: 0.0839 - categorical_accuracy: 0.9684 - val_loss: 1.7938 - val_categorical_accuracy: 0.6421\n",
            "Epoch 51/200\n",
            " - 1s - loss: 0.0733 - categorical_accuracy: 0.9752 - val_loss: 1.9415 - val_categorical_accuracy: 0.6474\n",
            "Epoch 52/200\n",
            " - 1s - loss: 0.0623 - categorical_accuracy: 0.9729 - val_loss: 1.9955 - val_categorical_accuracy: 0.6632\n",
            "Epoch 53/200\n",
            " - 1s - loss: 0.0715 - categorical_accuracy: 0.9707 - val_loss: 2.2190 - val_categorical_accuracy: 0.6526\n",
            "Epoch 54/200\n",
            " - 1s - loss: 0.0919 - categorical_accuracy: 0.9684 - val_loss: 2.3584 - val_categorical_accuracy: 0.6579\n",
            "Epoch 55/200\n",
            " - 1s - loss: 0.1072 - categorical_accuracy: 0.9729 - val_loss: 2.4820 - val_categorical_accuracy: 0.6474\n",
            "Epoch 56/200\n",
            " - 1s - loss: 0.0482 - categorical_accuracy: 0.9865 - val_loss: 2.4190 - val_categorical_accuracy: 0.6737\n",
            "Epoch 57/200\n",
            " - 1s - loss: 0.0886 - categorical_accuracy: 0.9661 - val_loss: 2.3988 - val_categorical_accuracy: 0.6579\n",
            "Epoch 58/200\n",
            " - 1s - loss: 0.0628 - categorical_accuracy: 0.9729 - val_loss: 2.2477 - val_categorical_accuracy: 0.6737\n",
            "Epoch 59/200\n",
            " - 1s - loss: 0.0492 - categorical_accuracy: 0.9842 - val_loss: 2.2189 - val_categorical_accuracy: 0.6632\n",
            "Epoch 60/200\n",
            " - 1s - loss: 0.0805 - categorical_accuracy: 0.9729 - val_loss: 2.3459 - val_categorical_accuracy: 0.6526\n",
            "Epoch 61/200\n",
            " - 1s - loss: 0.0749 - categorical_accuracy: 0.9752 - val_loss: 2.2919 - val_categorical_accuracy: 0.6526\n",
            "Epoch 62/200\n",
            " - 1s - loss: 0.0703 - categorical_accuracy: 0.9819 - val_loss: 2.1706 - val_categorical_accuracy: 0.6684\n",
            "Epoch 63/200\n",
            " - 1s - loss: 0.0573 - categorical_accuracy: 0.9774 - val_loss: 2.0508 - val_categorical_accuracy: 0.6684\n",
            "Epoch 64/200\n",
            " - 1s - loss: 0.0760 - categorical_accuracy: 0.9752 - val_loss: 1.8489 - val_categorical_accuracy: 0.6789\n",
            "Epoch 65/200\n",
            " - 1s - loss: 0.0770 - categorical_accuracy: 0.9752 - val_loss: 1.7745 - val_categorical_accuracy: 0.6789\n",
            "Epoch 66/200\n",
            " - 1s - loss: 0.0509 - categorical_accuracy: 0.9797 - val_loss: 1.7907 - val_categorical_accuracy: 0.6632\n",
            "Epoch 67/200\n",
            " - 1s - loss: 0.0409 - categorical_accuracy: 0.9910 - val_loss: 1.9245 - val_categorical_accuracy: 0.6105\n",
            "Epoch 68/200\n",
            " - 1s - loss: 0.0627 - categorical_accuracy: 0.9752 - val_loss: 1.9883 - val_categorical_accuracy: 0.6105\n",
            "Epoch 69/200\n",
            " - 1s - loss: 0.0326 - categorical_accuracy: 0.9842 - val_loss: 2.1440 - val_categorical_accuracy: 0.6158\n",
            "Epoch 70/200\n",
            " - 1s - loss: 0.0295 - categorical_accuracy: 0.9932 - val_loss: 2.1472 - val_categorical_accuracy: 0.6316\n",
            "Epoch 71/200\n",
            " - 1s - loss: 0.0510 - categorical_accuracy: 0.9887 - val_loss: 2.1809 - val_categorical_accuracy: 0.6632\n",
            "Epoch 72/200\n",
            " - 1s - loss: 0.0454 - categorical_accuracy: 0.9842 - val_loss: 2.2339 - val_categorical_accuracy: 0.6421\n",
            "Epoch 73/200\n",
            " - 1s - loss: 0.0218 - categorical_accuracy: 0.9910 - val_loss: 2.2840 - val_categorical_accuracy: 0.6263\n",
            "Epoch 74/200\n",
            " - 1s - loss: 0.0397 - categorical_accuracy: 0.9865 - val_loss: 2.2501 - val_categorical_accuracy: 0.6579\n",
            "Epoch 75/200\n",
            " - 1s - loss: 0.0395 - categorical_accuracy: 0.9842 - val_loss: 2.3792 - val_categorical_accuracy: 0.6947\n",
            "Epoch 76/200\n",
            " - 1s - loss: 0.0262 - categorical_accuracy: 0.9910 - val_loss: 2.4991 - val_categorical_accuracy: 0.6895\n",
            "Epoch 77/200\n",
            " - 1s - loss: 0.0562 - categorical_accuracy: 0.9842 - val_loss: 2.6303 - val_categorical_accuracy: 0.6737\n",
            "Epoch 78/200\n",
            " - 1s - loss: 0.0698 - categorical_accuracy: 0.9797 - val_loss: 2.6284 - val_categorical_accuracy: 0.6632\n",
            "Epoch 79/200\n",
            " - 1s - loss: 0.0674 - categorical_accuracy: 0.9729 - val_loss: 2.4178 - val_categorical_accuracy: 0.6789\n",
            "Epoch 80/200\n",
            " - 1s - loss: 0.0274 - categorical_accuracy: 0.9932 - val_loss: 2.2204 - val_categorical_accuracy: 0.6684\n",
            "Epoch 81/200\n",
            " - 1s - loss: 0.0505 - categorical_accuracy: 0.9842 - val_loss: 2.2061 - val_categorical_accuracy: 0.6579\n",
            "Epoch 82/200\n",
            " - 1s - loss: 0.0291 - categorical_accuracy: 0.9842 - val_loss: 2.2773 - val_categorical_accuracy: 0.6421\n",
            "Epoch 83/200\n",
            " - 1s - loss: 0.0440 - categorical_accuracy: 0.9819 - val_loss: 2.3506 - val_categorical_accuracy: 0.6211\n",
            "Epoch 84/200\n",
            " - 1s - loss: 0.0201 - categorical_accuracy: 0.9932 - val_loss: 2.6006 - val_categorical_accuracy: 0.5632\n",
            "Epoch 85/200\n",
            " - 1s - loss: 0.0737 - categorical_accuracy: 0.9819 - val_loss: 2.4733 - val_categorical_accuracy: 0.5895\n",
            "Epoch 86/200\n",
            " - 1s - loss: 0.0340 - categorical_accuracy: 0.9887 - val_loss: 2.3291 - val_categorical_accuracy: 0.6421\n",
            "Epoch 87/200\n",
            " - 1s - loss: 0.0207 - categorical_accuracy: 0.9932 - val_loss: 2.3122 - val_categorical_accuracy: 0.6789\n",
            "Epoch 88/200\n",
            " - 1s - loss: 0.0229 - categorical_accuracy: 0.9887 - val_loss: 2.3116 - val_categorical_accuracy: 0.6737\n",
            "Epoch 89/200\n",
            " - 1s - loss: 0.0266 - categorical_accuracy: 0.9977 - val_loss: 2.3481 - val_categorical_accuracy: 0.6526\n",
            "Epoch 90/200\n",
            " - 1s - loss: 0.0702 - categorical_accuracy: 0.9797 - val_loss: 2.3065 - val_categorical_accuracy: 0.6579\n",
            "Epoch 91/200\n",
            " - 1s - loss: 0.0347 - categorical_accuracy: 0.9887 - val_loss: 2.3323 - val_categorical_accuracy: 0.6842\n",
            "Epoch 92/200\n",
            " - 1s - loss: 0.0243 - categorical_accuracy: 0.9955 - val_loss: 2.3573 - val_categorical_accuracy: 0.6842\n",
            "Epoch 93/200\n",
            " - 1s - loss: 0.0230 - categorical_accuracy: 0.9932 - val_loss: 2.3546 - val_categorical_accuracy: 0.6684\n",
            "Epoch 94/200\n",
            " - 1s - loss: 0.0370 - categorical_accuracy: 0.9932 - val_loss: 2.3346 - val_categorical_accuracy: 0.6737\n",
            "Epoch 95/200\n",
            " - 1s - loss: 0.0192 - categorical_accuracy: 0.9955 - val_loss: 2.2947 - val_categorical_accuracy: 0.6737\n",
            "Epoch 96/200\n",
            " - 1s - loss: 0.0229 - categorical_accuracy: 0.9932 - val_loss: 2.2739 - val_categorical_accuracy: 0.6737\n",
            "Epoch 97/200\n",
            " - 1s - loss: 0.0208 - categorical_accuracy: 0.9932 - val_loss: 2.3001 - val_categorical_accuracy: 0.6632\n",
            "Epoch 98/200\n",
            " - 1s - loss: 0.0106 - categorical_accuracy: 1.0000 - val_loss: 2.3564 - val_categorical_accuracy: 0.6579\n",
            "Epoch 99/200\n",
            " - 1s - loss: 0.0066 - categorical_accuracy: 0.9977 - val_loss: 2.4322 - val_categorical_accuracy: 0.6526\n",
            "Epoch 100/200\n"
          ],
          "name": "stdout"
        },
        {
          "output_type": "error",
          "ename": "KeyboardInterrupt",
          "evalue": "ignored",
          "traceback": [
            "\u001b[0;31m---------------------------------------------------------------------------\u001b[0m",
            "\u001b[0;31mKeyboardInterrupt\u001b[0m                         Traceback (most recent call last)",
            "\u001b[0;32m<ipython-input-49-07a6252cbefc>\u001b[0m in \u001b[0;36m<module>\u001b[0;34m()\u001b[0m\n\u001b[1;32m      5\u001b[0m           \u001b[0mcallbacks\u001b[0m\u001b[0;34m=\u001b[0m\u001b[0mcb\u001b[0m\u001b[0;34m,\u001b[0m\u001b[0;34m\u001b[0m\u001b[0;34m\u001b[0m\u001b[0m\n\u001b[1;32m      6\u001b[0m           \u001b[0mvalidation_split\u001b[0m\u001b[0;34m=\u001b[0m\u001b[0;36m0.3\u001b[0m\u001b[0;34m,\u001b[0m\u001b[0;34m\u001b[0m\u001b[0;34m\u001b[0m\u001b[0m\n\u001b[0;32m----> 7\u001b[0;31m           shuffle=True)\n\u001b[0m",
            "\u001b[0;32m/usr/local/lib/python3.6/dist-packages/keras/engine/training.py\u001b[0m in \u001b[0;36mfit\u001b[0;34m(self, x, y, batch_size, epochs, verbose, callbacks, validation_split, validation_data, shuffle, class_weight, sample_weight, initial_epoch, steps_per_epoch, validation_steps, **kwargs)\u001b[0m\n\u001b[1;32m   1037\u001b[0m                                         \u001b[0minitial_epoch\u001b[0m\u001b[0;34m=\u001b[0m\u001b[0minitial_epoch\u001b[0m\u001b[0;34m,\u001b[0m\u001b[0;34m\u001b[0m\u001b[0;34m\u001b[0m\u001b[0m\n\u001b[1;32m   1038\u001b[0m                                         \u001b[0msteps_per_epoch\u001b[0m\u001b[0;34m=\u001b[0m\u001b[0msteps_per_epoch\u001b[0m\u001b[0;34m,\u001b[0m\u001b[0;34m\u001b[0m\u001b[0;34m\u001b[0m\u001b[0m\n\u001b[0;32m-> 1039\u001b[0;31m                                         validation_steps=validation_steps)\n\u001b[0m\u001b[1;32m   1040\u001b[0m \u001b[0;34m\u001b[0m\u001b[0m\n\u001b[1;32m   1041\u001b[0m     def evaluate(self, x=None, y=None,\n",
            "\u001b[0;32m/usr/local/lib/python3.6/dist-packages/keras/engine/training_arrays.py\u001b[0m in \u001b[0;36mfit_loop\u001b[0;34m(model, f, ins, out_labels, batch_size, epochs, verbose, callbacks, val_f, val_ins, shuffle, callback_metrics, initial_epoch, steps_per_epoch, validation_steps)\u001b[0m\n\u001b[1;32m    197\u001b[0m                     \u001b[0mins_batch\u001b[0m\u001b[0;34m[\u001b[0m\u001b[0mi\u001b[0m\u001b[0;34m]\u001b[0m \u001b[0;34m=\u001b[0m \u001b[0mins_batch\u001b[0m\u001b[0;34m[\u001b[0m\u001b[0mi\u001b[0m\u001b[0;34m]\u001b[0m\u001b[0;34m.\u001b[0m\u001b[0mtoarray\u001b[0m\u001b[0;34m(\u001b[0m\u001b[0;34m)\u001b[0m\u001b[0;34m\u001b[0m\u001b[0;34m\u001b[0m\u001b[0m\n\u001b[1;32m    198\u001b[0m \u001b[0;34m\u001b[0m\u001b[0m\n\u001b[0;32m--> 199\u001b[0;31m                 \u001b[0mouts\u001b[0m \u001b[0;34m=\u001b[0m \u001b[0mf\u001b[0m\u001b[0;34m(\u001b[0m\u001b[0mins_batch\u001b[0m\u001b[0;34m)\u001b[0m\u001b[0;34m\u001b[0m\u001b[0;34m\u001b[0m\u001b[0m\n\u001b[0m\u001b[1;32m    200\u001b[0m                 \u001b[0mouts\u001b[0m \u001b[0;34m=\u001b[0m \u001b[0mto_list\u001b[0m\u001b[0;34m(\u001b[0m\u001b[0mouts\u001b[0m\u001b[0;34m)\u001b[0m\u001b[0;34m\u001b[0m\u001b[0;34m\u001b[0m\u001b[0m\n\u001b[1;32m    201\u001b[0m                 \u001b[0;32mfor\u001b[0m \u001b[0ml\u001b[0m\u001b[0;34m,\u001b[0m \u001b[0mo\u001b[0m \u001b[0;32min\u001b[0m \u001b[0mzip\u001b[0m\u001b[0;34m(\u001b[0m\u001b[0mout_labels\u001b[0m\u001b[0;34m,\u001b[0m \u001b[0mouts\u001b[0m\u001b[0;34m)\u001b[0m\u001b[0;34m:\u001b[0m\u001b[0;34m\u001b[0m\u001b[0;34m\u001b[0m\u001b[0m\n",
            "\u001b[0;32m/usr/local/lib/python3.6/dist-packages/keras/backend/tensorflow_backend.py\u001b[0m in \u001b[0;36m__call__\u001b[0;34m(self, inputs)\u001b[0m\n\u001b[1;32m   2713\u001b[0m                 \u001b[0;32mreturn\u001b[0m \u001b[0mself\u001b[0m\u001b[0;34m.\u001b[0m\u001b[0m_legacy_call\u001b[0m\u001b[0;34m(\u001b[0m\u001b[0minputs\u001b[0m\u001b[0;34m)\u001b[0m\u001b[0;34m\u001b[0m\u001b[0;34m\u001b[0m\u001b[0m\n\u001b[1;32m   2714\u001b[0m \u001b[0;34m\u001b[0m\u001b[0m\n\u001b[0;32m-> 2715\u001b[0;31m             \u001b[0;32mreturn\u001b[0m \u001b[0mself\u001b[0m\u001b[0;34m.\u001b[0m\u001b[0m_call\u001b[0m\u001b[0;34m(\u001b[0m\u001b[0minputs\u001b[0m\u001b[0;34m)\u001b[0m\u001b[0;34m\u001b[0m\u001b[0;34m\u001b[0m\u001b[0m\n\u001b[0m\u001b[1;32m   2716\u001b[0m         \u001b[0;32melse\u001b[0m\u001b[0;34m:\u001b[0m\u001b[0;34m\u001b[0m\u001b[0;34m\u001b[0m\u001b[0m\n\u001b[1;32m   2717\u001b[0m             \u001b[0;32mif\u001b[0m \u001b[0mpy_any\u001b[0m\u001b[0;34m(\u001b[0m\u001b[0mis_tensor\u001b[0m\u001b[0;34m(\u001b[0m\u001b[0mx\u001b[0m\u001b[0;34m)\u001b[0m \u001b[0;32mfor\u001b[0m \u001b[0mx\u001b[0m \u001b[0;32min\u001b[0m \u001b[0minputs\u001b[0m\u001b[0;34m)\u001b[0m\u001b[0;34m:\u001b[0m\u001b[0;34m\u001b[0m\u001b[0;34m\u001b[0m\u001b[0m\n",
            "\u001b[0;32m/usr/local/lib/python3.6/dist-packages/keras/backend/tensorflow_backend.py\u001b[0m in \u001b[0;36m_call\u001b[0;34m(self, inputs)\u001b[0m\n\u001b[1;32m   2673\u001b[0m             \u001b[0mfetched\u001b[0m \u001b[0;34m=\u001b[0m \u001b[0mself\u001b[0m\u001b[0;34m.\u001b[0m\u001b[0m_callable_fn\u001b[0m\u001b[0;34m(\u001b[0m\u001b[0;34m*\u001b[0m\u001b[0marray_vals\u001b[0m\u001b[0;34m,\u001b[0m \u001b[0mrun_metadata\u001b[0m\u001b[0;34m=\u001b[0m\u001b[0mself\u001b[0m\u001b[0;34m.\u001b[0m\u001b[0mrun_metadata\u001b[0m\u001b[0;34m)\u001b[0m\u001b[0;34m\u001b[0m\u001b[0;34m\u001b[0m\u001b[0m\n\u001b[1;32m   2674\u001b[0m         \u001b[0;32melse\u001b[0m\u001b[0;34m:\u001b[0m\u001b[0;34m\u001b[0m\u001b[0;34m\u001b[0m\u001b[0m\n\u001b[0;32m-> 2675\u001b[0;31m             \u001b[0mfetched\u001b[0m \u001b[0;34m=\u001b[0m \u001b[0mself\u001b[0m\u001b[0;34m.\u001b[0m\u001b[0m_callable_fn\u001b[0m\u001b[0;34m(\u001b[0m\u001b[0;34m*\u001b[0m\u001b[0marray_vals\u001b[0m\u001b[0;34m)\u001b[0m\u001b[0;34m\u001b[0m\u001b[0;34m\u001b[0m\u001b[0m\n\u001b[0m\u001b[1;32m   2676\u001b[0m         \u001b[0;32mreturn\u001b[0m \u001b[0mfetched\u001b[0m\u001b[0;34m[\u001b[0m\u001b[0;34m:\u001b[0m\u001b[0mlen\u001b[0m\u001b[0;34m(\u001b[0m\u001b[0mself\u001b[0m\u001b[0;34m.\u001b[0m\u001b[0moutputs\u001b[0m\u001b[0;34m)\u001b[0m\u001b[0;34m]\u001b[0m\u001b[0;34m\u001b[0m\u001b[0;34m\u001b[0m\u001b[0m\n\u001b[1;32m   2677\u001b[0m \u001b[0;34m\u001b[0m\u001b[0m\n",
            "\u001b[0;32m/usr/local/lib/python3.6/dist-packages/tensorflow/python/client/session.py\u001b[0m in \u001b[0;36m__call__\u001b[0;34m(self, *args, **kwargs)\u001b[0m\n\u001b[1;32m   1437\u001b[0m           ret = tf_session.TF_SessionRunCallable(\n\u001b[1;32m   1438\u001b[0m               \u001b[0mself\u001b[0m\u001b[0;34m.\u001b[0m\u001b[0m_session\u001b[0m\u001b[0;34m.\u001b[0m\u001b[0m_session\u001b[0m\u001b[0;34m,\u001b[0m \u001b[0mself\u001b[0m\u001b[0;34m.\u001b[0m\u001b[0m_handle\u001b[0m\u001b[0;34m,\u001b[0m \u001b[0margs\u001b[0m\u001b[0;34m,\u001b[0m \u001b[0mstatus\u001b[0m\u001b[0;34m,\u001b[0m\u001b[0;34m\u001b[0m\u001b[0;34m\u001b[0m\u001b[0m\n\u001b[0;32m-> 1439\u001b[0;31m               run_metadata_ptr)\n\u001b[0m\u001b[1;32m   1440\u001b[0m         \u001b[0;32mif\u001b[0m \u001b[0mrun_metadata\u001b[0m\u001b[0;34m:\u001b[0m\u001b[0;34m\u001b[0m\u001b[0;34m\u001b[0m\u001b[0m\n\u001b[1;32m   1441\u001b[0m           \u001b[0mproto_data\u001b[0m \u001b[0;34m=\u001b[0m \u001b[0mtf_session\u001b[0m\u001b[0;34m.\u001b[0m\u001b[0mTF_GetBuffer\u001b[0m\u001b[0;34m(\u001b[0m\u001b[0mrun_metadata_ptr\u001b[0m\u001b[0;34m)\u001b[0m\u001b[0;34m\u001b[0m\u001b[0;34m\u001b[0m\u001b[0m\n",
            "\u001b[0;31mKeyboardInterrupt\u001b[0m: "
          ]
        }
      ]
    },
    {
      "metadata": {
        "id": "uEI2Avtc2-k6",
        "colab_type": "code",
        "outputId": "fddac295-c837-4941-e796-ec9eebaff6d3",
        "colab": {
          "base_uri": "https://localhost:8080/",
          "height": 735
        }
      },
      "cell_type": "code",
      "source": [
        "plt.plot(history.history['acc'])\n",
        "plt.plot(history.history['val_acc'])\n",
        "plt.title('Model accuracy')\n",
        "plt.ylabel('Accuracy')\n",
        "plt.xlabel('Epoch')\n",
        "plt.legend(['Train', 'Test'], loc='upper left')\n",
        "plt.show()\n",
        "\n",
        "# Plot training & validation loss values\n",
        "plt.plot(history.history['loss'])\n",
        "plt.plot(history.history['val_loss'])\n",
        "plt.title('Model loss')\n",
        "plt.ylabel('Loss')\n",
        "plt.xlabel('Epoch')\n",
        "plt.legend(['Train', 'Test'], loc='upper left')\n",
        "plt.show()"
      ],
      "execution_count": 50,
      "outputs": [
        {
          "output_type": "display_data",
          "data": {
            "image/png": "[encoded data removed]",
            "text/plain": [
              "<matplotlib.figure.Figure at 0x7f039a03f438>"
            ]
          },
          "metadata": {
            "tags": []
          }
        },
        {
          "output_type": "display_data",
          "data": {
            "image/png": "[encoded data removed]",
            "text/plain": [
              "<matplotlib.figure.Figure at 0x7f03a53eeeb8>"
            ]
          },
          "metadata": {
            "tags": []
          }
        }
      ]
    },
    {
      "metadata": {
        "id": "TmeX3XkNsQq3",
        "colab_type": "code",
        "colab": {}
      },
      "cell_type": "code",
      "source": [
        "y_pred = model.predict(X)\n",
        "def maxpos(li):\n",
        "      if (li[1]>li[0]) and (li[1]>li[2])  :\n",
        "        return 1\n",
        "      if (li[2]>li[0]) and (li[2]>li[1])  :\n",
        "        return 2     \n",
        "      return 0\n",
        "y_pre=[maxpos(y) for y in y_pred]\n",
        "y_tes=[maxpos(y) for y in Y]"
      ],
      "execution_count": 0,
      "outputs": []
    },
    {
      "metadata": {
        "id": "nysgimsIr7vc",
        "colab_type": "code",
        "colab": {
          "base_uri": "https://localhost:8080/",
          "height": 70
        },
        "outputId": "d5c70be8-56d3-44e7-ff8d-5ce1f1d17ec9"
      },
      "cell_type": "code",
      "source": [
        "confusion_matrix(y_true=y_tes,y_pred=y_pre)"
      ],
      "execution_count": 52,
      "outputs": [
        {
          "output_type": "execute_result",
          "data": {
            "text/plain": [
              "array([[101,   8,  16],\n",
              "       [  3, 120,  13],\n",
              "       [  2,  24, 346]])"
            ]
          },
          "metadata": {
            "tags": []
          },
          "execution_count": 52
        }
      ]
    },
    {
      "metadata": {
        "id": "LoEmYUS2PvEV",
        "colab_type": "code",
        "colab": {}
      },
      "cell_type": "code",
      "source": [
        "model.save('VGG-ish_73.model')"
      ],
      "execution_count": 0,
      "outputs": []
    }
  ]
}
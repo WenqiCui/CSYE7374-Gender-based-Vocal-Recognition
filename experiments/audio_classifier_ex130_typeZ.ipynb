{
  "nbformat": 4,
  "nbformat_minor": 0,
  "metadata": {
    "colab": {
      "name": "audio_classifier_ex130_typeZ.ipynb",
      "version": "0.3.2",
      "provenance": [],
      "collapsed_sections": []
    },
    "kernelspec": {
      "name": "python3",
      "display_name": "Python 3"
    },
    "accelerator": "GPU"
  },
  "cells": [
    {
      "metadata": {
        "id": "alqu6qvi2HXO",
        "colab_type": "code",
        "colab": {}
      },
      "cell_type": "code",
      "source": [
        "import os\n",
        "from Audio_reader import readtf\n",
        "from getman import getmanlist\n",
        "import gc\n",
        "import numpy as np\n",
        "import pandas as pd\n",
        "import pickle\n",
        "from keras.layers import Dense, Input, Dropout,Flatten,MaxPooling1D,SpatialDropout2D,SpatialDropout1D\n",
        "from keras.layers import Conv1D, MaxPooling2D,BatchNormalization,Conv2D\n",
        "from keras.models import Model\n",
        "from keras.models import Sequential\n",
        "from keras import optimizers\n",
        "from keras.utils import to_categorical\n",
        "import matplotlib.pyplot as plt\n",
        "from keras.callbacks import ReduceLROnPlateau, EarlyStopping\n",
        "from keras import regularizers\n",
        "from sklearn.metrics import confusion_matrix"
      ],
      "execution_count": 0,
      "outputs": []
    },
    {
      "metadata": {
        "id": "eBa8rJok2r6V",
        "colab_type": "code",
        "colab": {}
      },
      "cell_type": "code",
      "source": [
        "def check(y):\n",
        "    if 74 in y:\n",
        "        return 0 \n",
        "    #male\n",
        "    if 1 in y:\n",
        "        return 1\n",
        "    #female\n",
        "    if 2 in y:\n",
        "        return 2\n",
        "    #child\n",
        "    if 3 in y:\n",
        "        return 3\n",
        "    return 0"
      ],
      "execution_count": 0,
      "outputs": []
    },
    {
      "metadata": {
        "id": "gwVlmq5k2uiT",
        "colab_type": "code",
        "colab": {}
      },
      "cell_type": "code",
      "source": [
        "X = []\n",
        "Y = [] \n",
        "with open(\"X_list_eval.pickle\",\"rb\") as xf:\n",
        "    X.extend(pickle.load(xf))\n",
        "with open(\"Y_list_eval.pickle\",\"rb\") as xf:\n",
        "    Y.extend(pickle.load(xf))\n",
        "      \n",
        "with open(\"X_list.pickle\",\"rb\") as xf:\n",
        "    X.extend(pickle.load(xf))\n",
        "with open(\"Y_list.pickle\",\"rb\") as xf:\n",
        "    Y.extend(pickle.load(xf))\n",
        "\n",
        "X=np.array(X)\n",
        "X=np.reshape(X,(X.shape[0],X.shape[1],X.shape[2]))\n",
        "\n",
        "Y=np.array(Y)  \n",
        "\n",
        "X = X.astype('float32')    \n",
        "X /= 255\n",
        "\n"
      ],
      "execution_count": 0,
      "outputs": []
    },
    {
      "metadata": {
        "id": "sSOYwXU5ABzI",
        "colab_type": "code",
        "colab": {}
      },
      "cell_type": "code",
      "source": [
        "learning_rate=0.001\n",
        "decay=0.000001\n",
        "momentum=0.99\n",
        "dropout_rate_1 = 0.35\n",
        "\n",
        "dropout_rate = 0.2\n",
        "\n",
        "rglrzr = regularizers.l2(0.0003)"
      ],
      "execution_count": 0,
      "outputs": []
    },
    {
      "metadata": {
        "id": "yZr9ezVi22SF",
        "colab_type": "code",
        "outputId": "4c562224-eff0-4ee7-f33e-077008dac72f",
        "colab": {
          "base_uri": "https://localhost:8080/",
          "height": 817
        }
      },
      "cell_type": "code",
      "source": [
        "\n",
        "model = Sequential()\n",
        "\n",
        "model.add(Conv1D(64, 3, padding='same',activation='relu',input_shape=X.shape[1:]))\n",
        "model.add(BatchNormalization())\n",
        "model.add(Conv1D(64, 3, padding='same',activation='relu'))\n",
        "model.add(BatchNormalization())\n",
        "model.add(MaxPooling1D(pool_size=5,strides=2))\n",
        "model.add(Dropout(rate=dropout_rate_1))\n",
        "\n",
        "\n",
        "model.add(Conv1D(128, 3, padding='same',activation='relu'))\n",
        "model.add(BatchNormalization())\n",
        "model.add(MaxPooling1D(pool_size=3))\n",
        "model.add(Dropout(rate=dropout_rate_1))\n",
        "\n",
        "model.add(Flatten())\n",
        "\n",
        "model.add(Dense(128,activation='relu'))\n",
        "model.add(BatchNormalization())\n",
        "model.add(Dropout(rate=dropout_rate))\n",
        "\n",
        "model.add(Dense(64,activation='relu'))\n",
        "model.add(BatchNormalization())\n",
        "model.add(Dropout(rate=dropout_rate))\n",
        "\n",
        "\n",
        "model.add(Dense(32,activation='relu'))\n",
        "model.add(Dense(3,activation='softmax'))\n",
        "model.summary()\n"
      ],
      "execution_count": 167,
      "outputs": [
        {
          "output_type": "stream",
          "text": [
            "_________________________________________________________________\n",
            "Layer (type)                 Output Shape              Param #   \n",
            "=================================================================\n",
            "conv1d_39 (Conv1D)           (None, 10, 64)            24640     \n",
            "_________________________________________________________________\n",
            "batch_normalization_135 (Bat (None, 10, 64)            256       \n",
            "_________________________________________________________________\n",
            "conv1d_40 (Conv1D)           (None, 10, 64)            12352     \n",
            "_________________________________________________________________\n",
            "batch_normalization_136 (Bat (None, 10, 64)            256       \n",
            "_________________________________________________________________\n",
            "max_pooling1d_19 (MaxPooling (None, 3, 64)             0         \n",
            "_________________________________________________________________\n",
            "dropout_111 (Dropout)        (None, 3, 64)             0         \n",
            "_________________________________________________________________\n",
            "conv1d_41 (Conv1D)           (None, 3, 128)            24704     \n",
            "_________________________________________________________________\n",
            "batch_normalization_137 (Bat (None, 3, 128)            512       \n",
            "_________________________________________________________________\n",
            "max_pooling1d_20 (MaxPooling (None, 1, 128)            0         \n",
            "_________________________________________________________________\n",
            "dropout_112 (Dropout)        (None, 1, 128)            0         \n",
            "_________________________________________________________________\n",
            "flatten_35 (Flatten)         (None, 128)               0         \n",
            "_________________________________________________________________\n",
            "dense_154 (Dense)            (None, 128)               16512     \n",
            "_________________________________________________________________\n",
            "batch_normalization_138 (Bat (None, 128)               512       \n",
            "_________________________________________________________________\n",
            "dropout_113 (Dropout)        (None, 128)               0         \n",
            "_________________________________________________________________\n",
            "dense_155 (Dense)            (None, 64)                8256      \n",
            "_________________________________________________________________\n",
            "batch_normalization_139 (Bat (None, 64)                256       \n",
            "_________________________________________________________________\n",
            "dropout_114 (Dropout)        (None, 64)                0         \n",
            "_________________________________________________________________\n",
            "dense_156 (Dense)            (None, 32)                2080      \n",
            "_________________________________________________________________\n",
            "dense_157 (Dense)            (None, 3)                 99        \n",
            "=================================================================\n",
            "Total params: 90,435\n",
            "Trainable params: 89,539\n",
            "Non-trainable params: 896\n",
            "_________________________________________________________________\n"
          ],
          "name": "stdout"
        }
      ]
    },
    {
      "metadata": {
        "id": "MDFRkgSGaW7U",
        "colab_type": "code",
        "colab": {}
      },
      "cell_type": "code",
      "source": [
        "\n",
        "optimizer = optimizers.adam(lr=learning_rate,decay=decay)\n",
        "model.compile(loss='categorical_crossentropy',\n",
        "              optimizer=optimizer, \n",
        "              metrics=['accuracy'])"
      ],
      "execution_count": 0,
      "outputs": []
    },
    {
      "metadata": {
        "id": "H1pol6Jx8VZC",
        "colab_type": "code",
        "colab": {}
      },
      "cell_type": "code",
      "source": [
        "cb=[]\n",
        "\n",
        "#reduce_lr = ReduceLROnPlateau(monitor='val_loss', factor=0.8, patience=3, verbose=0, mode='auto')\n",
        "early_stopping = EarlyStopping(monitor='acc', min_delta=0, patience=30, verbose=0, mode='auto', baseline=None, restore_best_weights=True)\n",
        "\n",
        "#cb.append(reduce_lr)\n",
        "cb.append(early_stopping)"
      ],
      "execution_count": 0,
      "outputs": []
    },
    {
      "metadata": {
        "id": "Ytxt_BJs268t",
        "colab_type": "code",
        "colab": {}
      },
      "cell_type": "code",
      "source": [
        "history=model.fit(X, Y,\n",
        "          batch_size=32,\n",
        "          epochs=10,\n",
        "          verbose=2,\n",
        "          callbacks=cb,\n",
        "          validation_split=0.25,\n",
        "          shuffle=True)"
      ],
      "execution_count": 0,
      "outputs": []
    },
    {
      "metadata": {
        "id": "uEI2Avtc2-k6",
        "colab_type": "code",
        "outputId": "b2905120-5efa-41a5-b173-598978194951",
        "colab": {
          "base_uri": "https://localhost:8080/",
          "height": 735
        }
      },
      "cell_type": "code",
      "source": [
        "plt.plot(history.history['acc'])\n",
        "plt.plot(history.history['val_acc'])\n",
        "plt.title('Model accuracy')\n",
        "plt.ylabel('Accuracy')\n",
        "plt.xlabel('Epoch')\n",
        "plt.legend(['Train', 'Test'], loc='upper left')\n",
        "plt.show()\n",
        "\n",
        "# Plot training & validation loss values\n",
        "plt.plot(history.history['loss'])\n",
        "plt.plot(history.history['val_loss'])\n",
        "plt.title('Model loss')\n",
        "plt.ylabel('Loss')\n",
        "plt.xlabel('Epoch')\n",
        "plt.legend(['Train', 'Test'], loc='upper left')\n",
        "plt.show()"
      ],
      "execution_count": 166,
      "outputs": [
        {
          "output_type": "display_data",
          "data": {
            "image/png": "[encoded data removed]",
            "text/plain": [
              "<matplotlib.figure.Figure at 0x7f4a3fbfd518>"
            ]
          },
          "metadata": {
            "tags": []
          }
        },
        {
          "output_type": "display_data",
          "data": {
            "image/png": "[encoded data removed]",
            "text/plain": [
              "<matplotlib.figure.Figure at 0x7f4a3fadf048>"
            ]
          },
          "metadata": {
            "tags": []
          }
        }
      ]
    },
    {
      "metadata": {
        "id": "TmeX3XkNsQq3",
        "colab_type": "code",
        "colab": {}
      },
      "cell_type": "code",
      "source": [
        "y_pred = model.predict(X)\n",
        "def maxpos(li):\n",
        "      if (li[1]>li[0]) and (li[1]>li[2])  :\n",
        "        return 1\n",
        "      if (li[2]>li[0]) and (li[2]>li[1])  :\n",
        "        return 2     \n",
        "      return 0\n",
        "y_pre=[maxpos(y) for y in y_pred]\n",
        "y_tes=[maxpos(y) for y in Y]"
      ],
      "execution_count": 0,
      "outputs": []
    },
    {
      "metadata": {
        "id": "nysgimsIr7vc",
        "colab_type": "code",
        "outputId": "a4e24d40-5d79-4b6c-d885-8419453091b7",
        "colab": {
          "base_uri": "https://localhost:8080/",
          "height": 70
        }
      },
      "cell_type": "code",
      "source": [
        "confusion_matrix(y_true=y_tes,y_pred=y_pre)"
      ],
      "execution_count": 123,
      "outputs": [
        {
          "output_type": "execute_result",
          "data": {
            "text/plain": [
              "array([[118,   1,   6],\n",
              "       [  8, 117,  11],\n",
              "       [  3,   2, 367]])"
            ]
          },
          "metadata": {
            "tags": []
          },
          "execution_count": 123
        }
      ]
    },
    {
      "metadata": {
        "id": "LoEmYUS2PvEV",
        "colab_type": "code",
        "colab": {}
      },
      "cell_type": "code",
      "source": [
        "model.save('MLP_75.model')"
      ],
      "execution_count": 0,
      "outputs": []
    }
  ]
}
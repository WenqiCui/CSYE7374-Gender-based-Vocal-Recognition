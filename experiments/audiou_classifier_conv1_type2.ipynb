{
  "nbformat": 4,
  "nbformat_minor": 0,
  "metadata": {
    "colab": {
      "name": "audiou_classifier_conv1_type2.ipynb",
      "version": "0.3.2",
      "provenance": []
    },
    "kernelspec": {
      "name": "python3",
      "display_name": "Python 3"
    },
    "accelerator": "GPU"
  },
  "cells": [
    {
      "metadata": {
        "id": "bVzXNk-D_eAH",
        "colab_type": "code",
        "colab": {}
      },
      "cell_type": "code",
      "source": [
        "import os\n",
        "from Audio_reader import readtf\n",
        "from getman import getmanlist\n",
        "import gc\n",
        "import numpy as np\n",
        "import pandas as pd\n",
        "import pickle\n",
        "from keras.layers import Dense, Input, Dropout,Flatten,MaxPooling1D,SpatialDropout2D,SpatialDropout1D\n",
        "from keras.layers import Conv1D, MaxPooling2D,BatchNormalization,Conv2D\n",
        "from keras.models import Model\n",
        "from keras.models import Sequential\n",
        "from keras import optimizers\n",
        "from keras.utils import to_categorical\n",
        "import matplotlib.pyplot as plt\n",
        "from keras.callbacks import ReduceLROnPlateau, EarlyStopping\n",
        "from keras import regularizers\n",
        "from sklearn.metrics import confusion_matrix"
      ],
      "execution_count": 0,
      "outputs": []
    },
    {
      "metadata": {
        "id": "gZuqb_75_jyl",
        "colab_type": "code",
        "colab": {}
      },
      "cell_type": "code",
      "source": [
        "def check(y):\n",
        "    if 74 in y:\n",
        "        return 0 \n",
        "    #male\n",
        "    if 1 in y:\n",
        "        return 1\n",
        "    #female\n",
        "    if 2 in y:\n",
        "        return 2\n",
        "    #child\n",
        "    if 3 in y:\n",
        "        return 3\n",
        "    return 0"
      ],
      "execution_count": 0,
      "outputs": []
    },
    {
      "metadata": {
        "id": "YHcV5MDJ_lau",
        "colab_type": "code",
        "colab": {}
      },
      "cell_type": "code",
      "source": [
        "X = []\n",
        "Y = [] \n",
        "with open(\"X_list_eval.pickle\",\"rb\") as xf:\n",
        "    X.extend(pickle.load(xf))\n",
        "with open(\"Y_list_eval.pickle\",\"rb\") as xf:\n",
        "    Y.extend(pickle.load(xf))\n",
        "      \n",
        "with open(\"X_list.pickle\",\"rb\") as xf:\n",
        "    X.extend(pickle.load(xf))\n",
        "with open(\"Y_list.pickle\",\"rb\") as xf:\n",
        "    Y.extend(pickle.load(xf))\n",
        "\n",
        "X=np.array(X)\n",
        "X=np.reshape(X,(X.shape[0],X.shape[2],X.shape[1]))\n",
        "\n",
        "Y=np.array(Y)  \n",
        "\n",
        "X = X.astype('float32')    \n",
        "X /= 255\n"
      ],
      "execution_count": 0,
      "outputs": []
    },
    {
      "metadata": {
        "id": "g2EtvIpN_mYJ",
        "colab_type": "code",
        "colab": {}
      },
      "cell_type": "code",
      "source": [
        "learning_rate=0.001\n",
        "#decay=0.00003\n",
        "momentum=0.99\n",
        "dropout_rate = 0.22\n",
        "\n",
        "rglrzr = regularizers.l2(0.0015)"
      ],
      "execution_count": 0,
      "outputs": []
    },
    {
      "metadata": {
        "id": "ElT5KltM_pTU",
        "colab_type": "code",
        "colab": {
          "base_uri": "https://localhost:8080/",
          "height": 1706
        },
        "outputId": "2e67478e-c81c-4b32-d13f-866962119f17"
      },
      "cell_type": "code",
      "source": [
        "model = Sequential()\n",
        "model.add(Conv1D(64, 4, padding='same',activation='relu',input_shape=X.shape[1:]))\n",
        "model.add(BatchNormalization())\n",
        "model.add(Conv1D(64, 4, padding='same',activation='relu',input_shape=X.shape[1:]))\n",
        "model.add(BatchNormalization())\n",
        "model.add(MaxPooling1D(pool_size=4))\n",
        "model.add(Dropout(rate=dropout_rate))\n",
        "model.add(SpatialDropout1D(rate=dropout_rate))\n",
        "\n",
        "model.add(Conv1D(128, 2, padding='same',activation='relu',bias_regularizer=rglrzr))\n",
        "model.add(BatchNormalization())\n",
        "model.add(Conv1D(128, 2, padding='same',activation='relu',bias_regularizer=rglrzr))\n",
        "model.add(BatchNormalization())\n",
        "model.add(MaxPooling1D(pool_size=2))\n",
        "model.add(Dropout(rate=dropout_rate))\n",
        "model.add(SpatialDropout1D(rate=dropout_rate))\n",
        "\n",
        "\n",
        "model.add(Conv1D(256, 2, padding='same',activation='relu',bias_regularizer=rglrzr))\n",
        "model.add(BatchNormalization())\n",
        "model.add(Conv1D(256, 2, padding='same',activation='relu',bias_regularizer=rglrzr))\n",
        "model.add(BatchNormalization())\n",
        "model.add(Conv1D(256, 1, padding='same',activation='relu',bias_regularizer=rglrzr))\n",
        "model.add(BatchNormalization())\n",
        "model.add(MaxPooling1D(pool_size=2))\n",
        "model.add(Dropout(rate=dropout_rate))\n",
        "model.add(SpatialDropout1D(rate=dropout_rate))\n",
        "\n",
        "model.add(Conv1D(512, 2, padding='same',activation='relu',bias_regularizer=rglrzr))\n",
        "model.add(BatchNormalization())\n",
        "model.add(Conv1D(512, 2, padding='same',activation='relu',bias_regularizer=rglrzr))\n",
        "model.add(BatchNormalization())\n",
        "model.add(Conv1D(512, 1, padding='same',activation='relu',bias_regularizer=rglrzr))\n",
        "model.add(BatchNormalization())\n",
        "model.add(MaxPooling1D(pool_size=2))\n",
        "model.add(Dropout(rate=dropout_rate))\n",
        "model.add(SpatialDropout1D(rate=dropout_rate))\n",
        "\n",
        "\n",
        "model.add(Conv1D(512, 4, padding='same',activation='relu',bias_regularizer=rglrzr))\n",
        "model.add(BatchNormalization())\n",
        "model.add(Conv1D(512, 4, padding='same',activation='relu',bias_regularizer=rglrzr))\n",
        "model.add(BatchNormalization())\n",
        "model.add(Conv1D(512, 1, padding='same',activation='relu',bias_regularizer=rglrzr))\n",
        "model.add(BatchNormalization())\n",
        "model.add(MaxPooling1D(pool_size=4))\n",
        "model.add(Dropout(rate=dropout_rate))\n",
        "model.add(SpatialDropout1D(rate=dropout_rate))\n",
        "\n",
        "\n",
        "\n",
        "model.add(Flatten())\n",
        "model.add(Dense(64,activation='relu'))\n",
        "model.add(Dense(3,activation='softmax'))\n",
        "model.summary()\n"
      ],
      "execution_count": 56,
      "outputs": [
        {
          "output_type": "stream",
          "text": [
            "_________________________________________________________________\n",
            "Layer (type)                 Output Shape              Param #   \n",
            "=================================================================\n",
            "conv1d_157 (Conv1D)          (None, 128, 64)           2624      \n",
            "_________________________________________________________________\n",
            "batch_normalization_157 (Bat (None, 128, 64)           256       \n",
            "_________________________________________________________________\n",
            "conv1d_158 (Conv1D)          (None, 128, 64)           16448     \n",
            "_________________________________________________________________\n",
            "batch_normalization_158 (Bat (None, 128, 64)           256       \n",
            "_________________________________________________________________\n",
            "max_pooling1d_59 (MaxPooling (None, 32, 64)            0         \n",
            "_________________________________________________________________\n",
            "dropout_59 (Dropout)         (None, 32, 64)            0         \n",
            "_________________________________________________________________\n",
            "spatial_dropout1d_59 (Spatia (None, 32, 64)            0         \n",
            "_________________________________________________________________\n",
            "conv1d_159 (Conv1D)          (None, 32, 128)           16512     \n",
            "_________________________________________________________________\n",
            "batch_normalization_159 (Bat (None, 32, 128)           512       \n",
            "_________________________________________________________________\n",
            "conv1d_160 (Conv1D)          (None, 32, 128)           32896     \n",
            "_________________________________________________________________\n",
            "batch_normalization_160 (Bat (None, 32, 128)           512       \n",
            "_________________________________________________________________\n",
            "max_pooling1d_60 (MaxPooling (None, 16, 128)           0         \n",
            "_________________________________________________________________\n",
            "dropout_60 (Dropout)         (None, 16, 128)           0         \n",
            "_________________________________________________________________\n",
            "spatial_dropout1d_60 (Spatia (None, 16, 128)           0         \n",
            "_________________________________________________________________\n",
            "conv1d_161 (Conv1D)          (None, 16, 256)           65792     \n",
            "_________________________________________________________________\n",
            "batch_normalization_161 (Bat (None, 16, 256)           1024      \n",
            "_________________________________________________________________\n",
            "conv1d_162 (Conv1D)          (None, 16, 256)           131328    \n",
            "_________________________________________________________________\n",
            "batch_normalization_162 (Bat (None, 16, 256)           1024      \n",
            "_________________________________________________________________\n",
            "conv1d_163 (Conv1D)          (None, 16, 256)           65792     \n",
            "_________________________________________________________________\n",
            "batch_normalization_163 (Bat (None, 16, 256)           1024      \n",
            "_________________________________________________________________\n",
            "max_pooling1d_61 (MaxPooling (None, 8, 256)            0         \n",
            "_________________________________________________________________\n",
            "dropout_61 (Dropout)         (None, 8, 256)            0         \n",
            "_________________________________________________________________\n",
            "spatial_dropout1d_61 (Spatia (None, 8, 256)            0         \n",
            "_________________________________________________________________\n",
            "conv1d_164 (Conv1D)          (None, 8, 512)            262656    \n",
            "_________________________________________________________________\n",
            "batch_normalization_164 (Bat (None, 8, 512)            2048      \n",
            "_________________________________________________________________\n",
            "conv1d_165 (Conv1D)          (None, 8, 512)            524800    \n",
            "_________________________________________________________________\n",
            "batch_normalization_165 (Bat (None, 8, 512)            2048      \n",
            "_________________________________________________________________\n",
            "conv1d_166 (Conv1D)          (None, 8, 512)            262656    \n",
            "_________________________________________________________________\n",
            "batch_normalization_166 (Bat (None, 8, 512)            2048      \n",
            "_________________________________________________________________\n",
            "max_pooling1d_62 (MaxPooling (None, 4, 512)            0         \n",
            "_________________________________________________________________\n",
            "dropout_62 (Dropout)         (None, 4, 512)            0         \n",
            "_________________________________________________________________\n",
            "spatial_dropout1d_62 (Spatia (None, 4, 512)            0         \n",
            "_________________________________________________________________\n",
            "conv1d_167 (Conv1D)          (None, 4, 512)            1049088   \n",
            "_________________________________________________________________\n",
            "batch_normalization_167 (Bat (None, 4, 512)            2048      \n",
            "_________________________________________________________________\n",
            "conv1d_168 (Conv1D)          (None, 4, 512)            1049088   \n",
            "_________________________________________________________________\n",
            "batch_normalization_168 (Bat (None, 4, 512)            2048      \n",
            "_________________________________________________________________\n",
            "conv1d_169 (Conv1D)          (None, 4, 512)            262656    \n",
            "_________________________________________________________________\n",
            "batch_normalization_169 (Bat (None, 4, 512)            2048      \n",
            "_________________________________________________________________\n",
            "max_pooling1d_63 (MaxPooling (None, 1, 512)            0         \n",
            "_________________________________________________________________\n",
            "dropout_63 (Dropout)         (None, 1, 512)            0         \n",
            "_________________________________________________________________\n",
            "spatial_dropout1d_63 (Spatia (None, 1, 512)            0         \n",
            "_________________________________________________________________\n",
            "flatten_11 (Flatten)         (None, 512)               0         \n",
            "_________________________________________________________________\n",
            "dense_21 (Dense)             (None, 64)                32832     \n",
            "_________________________________________________________________\n",
            "dense_22 (Dense)             (None, 3)                 195       \n",
            "=================================================================\n",
            "Total params: 3,792,259\n",
            "Trainable params: 3,783,811\n",
            "Non-trainable params: 8,448\n",
            "_________________________________________________________________\n"
          ],
          "name": "stdout"
        }
      ]
    },
    {
      "metadata": {
        "id": "5tpHky8B_qRg",
        "colab_type": "code",
        "colab": {}
      },
      "cell_type": "code",
      "source": [
        "\n",
        "optimizer = optimizers.SGD(lr=learning_rate,momentum=momentum)\n",
        "model.compile(loss='categorical_crossentropy',\n",
        "              optimizer=optimizer, \n",
        "              metrics=['accuracy'])"
      ],
      "execution_count": 0,
      "outputs": []
    },
    {
      "metadata": {
        "id": "4YrIJndn_uKg",
        "colab_type": "code",
        "colab": {}
      },
      "cell_type": "code",
      "source": [
        "cb=[]\n",
        "\n",
        "reduce_lr = ReduceLROnPlateau(monitor='val_loss', factor=0.8, patience=3, verbose=0, mode='auto')\n",
        "early_stopping = EarlyStopping(monitor='acc', min_delta=0, patience=30, verbose=0, mode='auto', baseline=None, restore_best_weights=True)\n",
        "\n",
        "cb.append(reduce_lr)\n",
        "cb.append(early_stopping)"
      ],
      "execution_count": 0,
      "outputs": []
    },
    {
      "metadata": {
        "id": "9FusXBdl_vxs",
        "colab_type": "code",
        "colab": {
          "base_uri": "https://localhost:8080/",
          "height": 1279
        },
        "outputId": "eac57cd9-5c88-4865-ec96-5a07543562da"
      },
      "cell_type": "code",
      "source": [
        "history=model.fit(X, Y,\n",
        "          batch_size=32,\n",
        "          epochs=200,\n",
        "          verbose=2,\n",
        "          callbacks=cb,\n",
        "          validation_split=0.2,\n",
        "          shuffle=True)"
      ],
      "execution_count": 59,
      "outputs": [
        {
          "output_type": "stream",
          "text": [
            "Train on 506 samples, validate on 127 samples\n",
            "Epoch 1/200\n",
            " - 15s - loss: 2.2101 - acc: 0.4684 - val_loss: 2.8539 - val_acc: 0.5118\n",
            "Epoch 2/200\n",
            " - 1s - loss: 1.6333 - acc: 0.3360 - val_loss: 7.5888 - val_acc: 0.5197\n",
            "Epoch 3/200\n",
            " - 1s - loss: 1.1806 - acc: 0.4585 - val_loss: 7.7420 - val_acc: 0.5197\n",
            "Epoch 4/200\n",
            " - 1s - loss: 1.0100 - acc: 0.6028 - val_loss: 7.7421 - val_acc: 0.5197\n",
            "Epoch 5/200\n",
            " - 1s - loss: 0.9547 - acc: 0.6067 - val_loss: 7.7423 - val_acc: 0.5197\n",
            "Epoch 6/200\n",
            " - 1s - loss: 0.9840 - acc: 0.6028 - val_loss: 7.7424 - val_acc: 0.5197\n",
            "Epoch 7/200\n",
            " - 1s - loss: 0.9679 - acc: 0.6047 - val_loss: 7.7426 - val_acc: 0.5197\n",
            "Epoch 8/200\n",
            " - 1s - loss: 0.9549 - acc: 0.6047 - val_loss: 7.7427 - val_acc: 0.5197\n",
            "Epoch 9/200\n",
            " - 1s - loss: 0.9467 - acc: 0.6047 - val_loss: 7.7429 - val_acc: 0.5197\n",
            "Epoch 10/200\n",
            " - 1s - loss: 0.9812 - acc: 0.6047 - val_loss: 7.6191 - val_acc: 0.5197\n",
            "Epoch 11/200\n",
            " - 1s - loss: 0.9332 - acc: 0.6047 - val_loss: 2.7196 - val_acc: 0.5197\n",
            "Epoch 12/200\n",
            " - 1s - loss: 0.9390 - acc: 0.6047 - val_loss: 1.2346 - val_acc: 0.5197\n",
            "Epoch 13/200\n",
            " - 1s - loss: 0.9544 - acc: 0.6047 - val_loss: 1.2919 - val_acc: 0.5197\n",
            "Epoch 14/200\n",
            " - 1s - loss: 0.9478 - acc: 0.6047 - val_loss: 1.5206 - val_acc: 0.5197\n",
            "Epoch 15/200\n",
            " - 1s - loss: 0.9369 - acc: 0.6047 - val_loss: 2.3519 - val_acc: 0.5197\n",
            "Epoch 16/200\n",
            " - 1s - loss: 0.9369 - acc: 0.6047 - val_loss: 3.2952 - val_acc: 0.5197\n",
            "Epoch 17/200\n",
            " - 1s - loss: 0.9269 - acc: 0.6047 - val_loss: 3.5023 - val_acc: 0.5197\n",
            "Epoch 18/200\n",
            " - 1s - loss: 0.9446 - acc: 0.6047 - val_loss: 2.9146 - val_acc: 0.5197\n",
            "Epoch 19/200\n",
            " - 1s - loss: 0.9329 - acc: 0.6047 - val_loss: 2.0548 - val_acc: 0.5197\n",
            "Epoch 20/200\n",
            " - 1s - loss: 0.9465 - acc: 0.6047 - val_loss: 1.4134 - val_acc: 0.5197\n",
            "Epoch 21/200\n",
            " - 1s - loss: 0.9394 - acc: 0.6047 - val_loss: 1.1345 - val_acc: 0.5197\n",
            "Epoch 22/200\n",
            " - 1s - loss: 0.9344 - acc: 0.6047 - val_loss: 1.0484 - val_acc: 0.5197\n",
            "Epoch 23/200\n",
            " - 1s - loss: 0.9380 - acc: 0.6047 - val_loss: 1.0308 - val_acc: 0.5197\n",
            "Epoch 24/200\n",
            " - 1s - loss: 0.9308 - acc: 0.6047 - val_loss: 1.0240 - val_acc: 0.5197\n",
            "Epoch 25/200\n",
            " - 1s - loss: 0.9336 - acc: 0.6047 - val_loss: 1.0325 - val_acc: 0.5197\n",
            "Epoch 26/200\n",
            " - 1s - loss: 0.9186 - acc: 0.6047 - val_loss: 1.0465 - val_acc: 0.5197\n",
            "Epoch 27/200\n",
            " - 1s - loss: 0.9323 - acc: 0.6047 - val_loss: 1.0557 - val_acc: 0.5197\n",
            "Epoch 28/200\n",
            " - 1s - loss: 0.9261 - acc: 0.6047 - val_loss: 1.0611 - val_acc: 0.5197\n",
            "Epoch 29/200\n",
            " - 1s - loss: 0.9289 - acc: 0.6047 - val_loss: 1.0595 - val_acc: 0.5197\n",
            "Epoch 30/200\n",
            " - 1s - loss: 0.9337 - acc: 0.6047 - val_loss: 1.0513 - val_acc: 0.5197\n",
            "Epoch 31/200\n",
            " - 1s - loss: 0.9249 - acc: 0.6047 - val_loss: 1.0386 - val_acc: 0.5197\n",
            "Epoch 32/200\n",
            " - 1s - loss: 0.9366 - acc: 0.6047 - val_loss: 1.0250 - val_acc: 0.5197\n",
            "Epoch 33/200\n",
            " - 1s - loss: 0.9235 - acc: 0.6047 - val_loss: 1.0146 - val_acc: 0.5197\n",
            "Epoch 34/200\n",
            " - 1s - loss: 0.9408 - acc: 0.6047 - val_loss: 1.0105 - val_acc: 0.5197\n",
            "Epoch 35/200\n",
            " - 1s - loss: 0.9248 - acc: 0.6047 - val_loss: 1.0098 - val_acc: 0.5197\n"
          ],
          "name": "stdout"
        }
      ]
    },
    {
      "metadata": {
        "id": "GpKtpQkHErzu",
        "colab_type": "code",
        "colab": {
          "base_uri": "https://localhost:8080/",
          "height": 735
        },
        "outputId": "f24fd303-5b0f-4c48-8db7-9ff9d73a1621"
      },
      "cell_type": "code",
      "source": [
        "plt.plot(history.history['acc'])\n",
        "plt.plot(history.history['val_acc'])\n",
        "plt.title('Model accuracy')\n",
        "plt.ylabel('Accuracy')\n",
        "plt.xlabel('Epoch')\n",
        "plt.legend(['Train', 'Test'], loc='upper left')\n",
        "plt.show()\n",
        "\n",
        "# Plot training & validation loss values\n",
        "plt.plot(history.history['loss'])\n",
        "plt.plot(history.history['val_loss'])\n",
        "plt.title('Model loss')\n",
        "plt.ylabel('Loss')\n",
        "plt.xlabel('Epoch')\n",
        "plt.legend(['Train', 'Test'], loc='upper left')\n",
        "plt.show()"
      ],
      "execution_count": 60,
      "outputs": [
        {
          "output_type": "display_data",
          "data": {
            "image/png": "[encoded data removed]",
            "text/plain": [
              "<matplotlib.figure.Figure at 0x7f480adde588>"
            ]
          },
          "metadata": {
            "tags": []
          }
        },
        {
          "output_type": "display_data",
          "data": {
            "image/png": "[encoded data removed]",
            "text/plain": [
              "<matplotlib.figure.Figure at 0x7f480ad9a160>"
            ]
          },
          "metadata": {
            "tags": []
          }
        }
      ]
    },
    {
      "metadata": {
        "id": "auY1jYcAEzTg",
        "colab_type": "code",
        "colab": {}
      },
      "cell_type": "code",
      "source": [
        "y_pred = model.predict(X)\n",
        "def maxpos(li):\n",
        "      if (li[1]>li[0]) and (li[1]>li[2])  :\n",
        "        return 1\n",
        "      if (li[2]>li[0]) and (li[2]>li[1])  :\n",
        "        return 2     \n",
        "      return 0\n",
        "y_pre=[maxpos(y) for y in y_pred]\n",
        "y_tes=[maxpos(y) for y in Y]"
      ],
      "execution_count": 0,
      "outputs": []
    },
    {
      "metadata": {
        "id": "7b9zEdC1E12x",
        "colab_type": "code",
        "colab": {
          "base_uri": "https://localhost:8080/",
          "height": 70
        },
        "outputId": "4b4c82c8-75e8-4d4e-eed2-33cde96f0006"
      },
      "cell_type": "code",
      "source": [
        "confusion_matrix(y_true=y_tes,y_pred=y_pre)"
      ],
      "execution_count": 62,
      "outputs": [
        {
          "output_type": "execute_result",
          "data": {
            "text/plain": [
              "array([[  0,   0, 125],\n",
              "       [  0,   0, 136],\n",
              "       [  0,   0, 372]])"
            ]
          },
          "metadata": {
            "tags": []
          },
          "execution_count": 62
        }
      ]
    },
    {
      "metadata": {
        "id": "vSiYQUmeE4bJ",
        "colab_type": "code",
        "colab": {}
      },
      "cell_type": "code",
      "source": [
        "model.save('VGG-ish_74_ex65.model')"
      ],
      "execution_count": 0,
      "outputs": []
    }
  ]
}
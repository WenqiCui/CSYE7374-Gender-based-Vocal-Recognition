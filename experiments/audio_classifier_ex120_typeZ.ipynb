{
  "nbformat": 4,
  "nbformat_minor": 0,
  "metadata": {
    "colab": {
      "name": "audio_classifier_ex120_typeZ.ipynb",
      "version": "0.3.2",
      "provenance": [],
      "collapsed_sections": []
    },
    "kernelspec": {
      "name": "python3",
      "display_name": "Python 3"
    },
    "accelerator": "GPU"
  },
  "cells": [
    {
      "metadata": {
        "id": "alqu6qvi2HXO",
        "colab_type": "code",
        "colab": {}
      },
      "cell_type": "code",
      "source": [
        "import os\n",
        "from Audio_reader import readtf\n",
        "from getman import getmanlist\n",
        "import gc\n",
        "import numpy as np\n",
        "import pandas as pd\n",
        "import pickle\n",
        "from keras.layers import Dense, Input, Dropout,Flatten,MaxPooling1D,SpatialDropout2D,SpatialDropout1D\n",
        "from keras.layers import Conv1D, MaxPooling2D,BatchNormalization,Conv2D\n",
        "from keras.models import Model\n",
        "from keras.models import Sequential\n",
        "from keras import optimizers\n",
        "from keras.utils import to_categorical\n",
        "import matplotlib.pyplot as plt\n",
        "from keras.callbacks import ReduceLROnPlateau, EarlyStopping\n",
        "from keras import regularizers\n",
        "from sklearn.metrics import confusion_matrix"
      ],
      "execution_count": 0,
      "outputs": []
    },
    {
      "metadata": {
        "id": "eBa8rJok2r6V",
        "colab_type": "code",
        "colab": {}
      },
      "cell_type": "code",
      "source": [
        "def check(y):\n",
        "    if 74 in y:\n",
        "        return 0 \n",
        "    #male\n",
        "    if 1 in y:\n",
        "        return 1\n",
        "    #female\n",
        "    if 2 in y:\n",
        "        return 2\n",
        "    #child\n",
        "    if 3 in y:\n",
        "        return 3\n",
        "    return 0"
      ],
      "execution_count": 0,
      "outputs": []
    },
    {
      "metadata": {
        "id": "gwVlmq5k2uiT",
        "colab_type": "code",
        "colab": {}
      },
      "cell_type": "code",
      "source": [
        "X = []\n",
        "Y = [] \n",
        "with open(\"X_list_eval.pickle\",\"rb\") as xf:\n",
        "    X.extend(pickle.load(xf))\n",
        "with open(\"Y_list_eval.pickle\",\"rb\") as xf:\n",
        "    Y.extend(pickle.load(xf))\n",
        "      \n",
        "with open(\"X_list.pickle\",\"rb\") as xf:\n",
        "    X.extend(pickle.load(xf))\n",
        "with open(\"Y_list.pickle\",\"rb\") as xf:\n",
        "    Y.extend(pickle.load(xf))\n",
        "\n",
        "X=np.array(X)\n",
        "X=np.reshape(X,(X.shape[0],X.shape[1],X.shape[2]))\n",
        "\n",
        "Y=np.array(Y)  \n",
        "\n",
        "X = X.astype('float32')    \n",
        "X /= 255\n",
        "\n"
      ],
      "execution_count": 0,
      "outputs": []
    },
    {
      "metadata": {
        "id": "sSOYwXU5ABzI",
        "colab_type": "code",
        "colab": {}
      },
      "cell_type": "code",
      "source": [
        "learning_rate=0.001\n",
        "decay=0.000001\n",
        "momentum=0.99\n",
        "dropout_rate_1 = 0.35\n",
        "\n",
        "dropout_rate = 0.4\n",
        "\n",
        "rglrzr = regularizers.l2(0.0003)"
      ],
      "execution_count": 0,
      "outputs": []
    },
    {
      "metadata": {
        "id": "yZr9ezVi22SF",
        "colab_type": "code",
        "outputId": "265017f4-ad83-4de3-cedc-4603534c9a59",
        "colab": {
          "base_uri": "https://localhost:8080/",
          "height": 817
        }
      },
      "cell_type": "code",
      "source": [
        "\n",
        "model = Sequential()\n",
        "\n",
        "model.add(Conv1D(64, 3, padding='same',activation='relu',input_shape=X.shape[1:]))\n",
        "model.add(BatchNormalization())\n",
        "model.add(Conv1D(64, 3, padding='same',activation='relu'))\n",
        "model.add(BatchNormalization())\n",
        "model.add(MaxPooling1D(pool_size=4,strides=2))\n",
        "model.add(Dropout(rate=dropout_rate_1))\n",
        "\n",
        "\n",
        "model.add(Conv1D(128, 3, padding='same',activation='relu'))\n",
        "model.add(BatchNormalization())\n",
        "model.add(MaxPooling1D(pool_size=4))\n",
        "model.add(Dropout(rate=dropout_rate_1))\n",
        "\n",
        "model.add(Flatten())\n",
        "\n",
        "model.add(Dense(128,activation='relu'))\n",
        "model.add(BatchNormalization())\n",
        "model.add(Dropout(rate=dropout_rate))\n",
        "\n",
        "model.add(Dense(64,activation='relu'))\n",
        "model.add(BatchNormalization())\n",
        "model.add(Dropout(rate=dropout_rate))\n",
        "\n",
        "\n",
        "model.add(Dense(32,activation='relu'))\n",
        "model.add(Dense(3,activation='softmax'))\n",
        "model.summary()\n"
      ],
      "execution_count": 150,
      "outputs": [
        {
          "output_type": "stream",
          "text": [
            "_________________________________________________________________\n",
            "Layer (type)                 Output Shape              Param #   \n",
            "=================================================================\n",
            "conv1d_24 (Conv1D)           (None, 10, 64)            24640     \n",
            "_________________________________________________________________\n",
            "batch_normalization_110 (Bat (None, 10, 64)            256       \n",
            "_________________________________________________________________\n",
            "conv1d_25 (Conv1D)           (None, 10, 64)            12352     \n",
            "_________________________________________________________________\n",
            "batch_normalization_111 (Bat (None, 10, 64)            256       \n",
            "_________________________________________________________________\n",
            "max_pooling1d_9 (MaxPooling1 (None, 4, 64)             0         \n",
            "_________________________________________________________________\n",
            "dropout_91 (Dropout)         (None, 4, 64)             0         \n",
            "_________________________________________________________________\n",
            "conv1d_26 (Conv1D)           (None, 4, 128)            24704     \n",
            "_________________________________________________________________\n",
            "batch_normalization_112 (Bat (None, 4, 128)            512       \n",
            "_________________________________________________________________\n",
            "max_pooling1d_10 (MaxPooling (None, 1, 128)            0         \n",
            "_________________________________________________________________\n",
            "dropout_92 (Dropout)         (None, 1, 128)            0         \n",
            "_________________________________________________________________\n",
            "flatten_30 (Flatten)         (None, 128)               0         \n",
            "_________________________________________________________________\n",
            "dense_134 (Dense)            (None, 128)               16512     \n",
            "_________________________________________________________________\n",
            "batch_normalization_113 (Bat (None, 128)               512       \n",
            "_________________________________________________________________\n",
            "dropout_93 (Dropout)         (None, 128)               0         \n",
            "_________________________________________________________________\n",
            "dense_135 (Dense)            (None, 64)                8256      \n",
            "_________________________________________________________________\n",
            "batch_normalization_114 (Bat (None, 64)                256       \n",
            "_________________________________________________________________\n",
            "dropout_94 (Dropout)         (None, 64)                0         \n",
            "_________________________________________________________________\n",
            "dense_136 (Dense)            (None, 32)                2080      \n",
            "_________________________________________________________________\n",
            "dense_137 (Dense)            (None, 3)                 99        \n",
            "=================================================================\n",
            "Total params: 90,435\n",
            "Trainable params: 89,539\n",
            "Non-trainable params: 896\n",
            "_________________________________________________________________\n"
          ],
          "name": "stdout"
        }
      ]
    },
    {
      "metadata": {
        "id": "MDFRkgSGaW7U",
        "colab_type": "code",
        "colab": {}
      },
      "cell_type": "code",
      "source": [
        "\n",
        "optimizer = optimizers.adam(lr=learning_rate,decay=decay)\n",
        "model.compile(loss='categorical_crossentropy',\n",
        "              optimizer=optimizer, \n",
        "              metrics=['accuracy'])"
      ],
      "execution_count": 0,
      "outputs": []
    },
    {
      "metadata": {
        "id": "H1pol6Jx8VZC",
        "colab_type": "code",
        "colab": {}
      },
      "cell_type": "code",
      "source": [
        "cb=[]\n",
        "\n",
        "#reduce_lr = ReduceLROnPlateau(monitor='val_loss', factor=0.8, patience=3, verbose=0, mode='auto')\n",
        "early_stopping = EarlyStopping(monitor='acc', min_delta=0, patience=30, verbose=0, mode='auto', baseline=None, restore_best_weights=True)\n",
        "\n",
        "#cb.append(reduce_lr)\n",
        "cb.append(early_stopping)"
      ],
      "execution_count": 0,
      "outputs": []
    },
    {
      "metadata": {
        "id": "Ytxt_BJs268t",
        "colab_type": "code",
        "outputId": "c14281f5-79c7-47e6-d50b-3774d214a715",
        "colab": {
          "base_uri": "https://localhost:8080/",
          "height": 1812
        }
      },
      "cell_type": "code",
      "source": [
        "history=model.fit(X, Y,\n",
        "          batch_size=32,\n",
        "          epochs=50,\n",
        "          verbose=2,\n",
        "          callbacks=cb,\n",
        "          validation_split=0.25,\n",
        "          shuffle=True)"
      ],
      "execution_count": 153,
      "outputs": [
        {
          "output_type": "stream",
          "text": [
            "Train on 474 samples, validate on 159 samples\n",
            "Epoch 1/50\n",
            " - 9s - loss: 2.1943 - acc: 0.2300 - val_loss: 1.1757 - val_acc: 0.3082\n",
            "Epoch 2/50\n",
            " - 0s - loss: 1.6041 - acc: 0.3418 - val_loss: 0.9774 - val_acc: 0.5849\n",
            "Epoch 3/50\n",
            " - 0s - loss: 1.1787 - acc: 0.4684 - val_loss: 0.9054 - val_acc: 0.6415\n",
            "Epoch 4/50\n",
            " - 0s - loss: 0.9891 - acc: 0.5591 - val_loss: 0.8298 - val_acc: 0.6352\n",
            "Epoch 5/50\n",
            " - 0s - loss: 0.8495 - acc: 0.6139 - val_loss: 0.8351 - val_acc: 0.6415\n",
            "Epoch 6/50\n",
            " - 0s - loss: 0.7817 - acc: 0.6582 - val_loss: 0.9815 - val_acc: 0.6101\n",
            "Epoch 7/50\n",
            " - 0s - loss: 0.7772 - acc: 0.6751 - val_loss: 0.9185 - val_acc: 0.6164\n",
            "Epoch 8/50\n",
            " - 0s - loss: 0.6432 - acc: 0.6899 - val_loss: 0.7745 - val_acc: 0.6918\n",
            "Epoch 9/50\n",
            " - 0s - loss: 0.6319 - acc: 0.7426 - val_loss: 0.7989 - val_acc: 0.7170\n",
            "Epoch 10/50\n",
            " - 0s - loss: 0.6454 - acc: 0.7300 - val_loss: 0.7925 - val_acc: 0.7233\n",
            "Epoch 11/50\n",
            " - 0s - loss: 0.5897 - acc: 0.7426 - val_loss: 0.8053 - val_acc: 0.6667\n",
            "Epoch 12/50\n",
            " - 0s - loss: 0.5378 - acc: 0.7806 - val_loss: 0.8708 - val_acc: 0.6415\n",
            "Epoch 13/50\n",
            " - 0s - loss: 0.5324 - acc: 0.7679 - val_loss: 0.8746 - val_acc: 0.6289\n",
            "Epoch 14/50\n",
            " - 0s - loss: 0.4980 - acc: 0.7827 - val_loss: 0.7592 - val_acc: 0.7170\n",
            "Epoch 15/50\n",
            " - 0s - loss: 0.5082 - acc: 0.7954 - val_loss: 0.7567 - val_acc: 0.7358\n",
            "Epoch 16/50\n",
            " - 0s - loss: 0.4635 - acc: 0.8228 - val_loss: 0.7748 - val_acc: 0.7421\n",
            "Epoch 17/50\n",
            " - 0s - loss: 0.4645 - acc: 0.8038 - val_loss: 0.8042 - val_acc: 0.6981\n",
            "Epoch 18/50\n",
            " - 0s - loss: 0.4368 - acc: 0.8439 - val_loss: 0.8132 - val_acc: 0.6855\n",
            "Epoch 19/50\n",
            " - 0s - loss: 0.3709 - acc: 0.8608 - val_loss: 0.8479 - val_acc: 0.6855\n",
            "Epoch 20/50\n",
            " - 0s - loss: 0.3599 - acc: 0.8608 - val_loss: 0.8261 - val_acc: 0.7107\n",
            "Epoch 21/50\n",
            " - 0s - loss: 0.3128 - acc: 0.8755 - val_loss: 0.8139 - val_acc: 0.7296\n",
            "Epoch 22/50\n",
            " - 0s - loss: 0.3091 - acc: 0.8819 - val_loss: 0.8436 - val_acc: 0.7421\n",
            "Epoch 23/50\n",
            " - 0s - loss: 0.2655 - acc: 0.9008 - val_loss: 0.8900 - val_acc: 0.7421\n",
            "Epoch 24/50\n",
            " - 0s - loss: 0.2531 - acc: 0.8987 - val_loss: 0.8702 - val_acc: 0.7421\n",
            "Epoch 25/50\n",
            " - 0s - loss: 0.2525 - acc: 0.9156 - val_loss: 0.9188 - val_acc: 0.7296\n",
            "Epoch 26/50\n",
            " - 0s - loss: 0.2274 - acc: 0.9283 - val_loss: 1.0334 - val_acc: 0.7170\n",
            "Epoch 27/50\n",
            " - 0s - loss: 0.2072 - acc: 0.9198 - val_loss: 0.9841 - val_acc: 0.7044\n",
            "Epoch 28/50\n",
            " - 0s - loss: 0.1958 - acc: 0.9325 - val_loss: 1.3424 - val_acc: 0.6667\n",
            "Epoch 29/50\n",
            " - 0s - loss: 0.2040 - acc: 0.9219 - val_loss: 1.1553 - val_acc: 0.6855\n",
            "Epoch 30/50\n",
            " - 0s - loss: 0.1615 - acc: 0.9346 - val_loss: 1.3277 - val_acc: 0.6164\n",
            "Epoch 31/50\n",
            " - 0s - loss: 0.2083 - acc: 0.9346 - val_loss: 1.3171 - val_acc: 0.6289\n",
            "Epoch 32/50\n",
            " - 0s - loss: 0.1724 - acc: 0.9494 - val_loss: 1.4913 - val_acc: 0.5660\n",
            "Epoch 33/50\n",
            " - 0s - loss: 0.1590 - acc: 0.9388 - val_loss: 1.2981 - val_acc: 0.6478\n",
            "Epoch 34/50\n",
            " - 0s - loss: 0.1821 - acc: 0.9409 - val_loss: 1.2820 - val_acc: 0.6478\n",
            "Epoch 35/50\n",
            " - 0s - loss: 0.1162 - acc: 0.9641 - val_loss: 1.2059 - val_acc: 0.6981\n",
            "Epoch 36/50\n",
            " - 0s - loss: 0.1398 - acc: 0.9451 - val_loss: 1.1864 - val_acc: 0.6981\n",
            "Epoch 37/50\n",
            " - 0s - loss: 0.1061 - acc: 0.9620 - val_loss: 1.1044 - val_acc: 0.7044\n",
            "Epoch 38/50\n",
            " - 0s - loss: 0.1340 - acc: 0.9536 - val_loss: 1.1170 - val_acc: 0.6792\n",
            "Epoch 39/50\n",
            " - 0s - loss: 0.0844 - acc: 0.9662 - val_loss: 1.4345 - val_acc: 0.6352\n",
            "Epoch 40/50\n",
            " - 0s - loss: 0.1281 - acc: 0.9536 - val_loss: 1.3381 - val_acc: 0.6730\n",
            "Epoch 41/50\n",
            " - 0s - loss: 0.0716 - acc: 0.9789 - val_loss: 1.4907 - val_acc: 0.6478\n",
            "Epoch 42/50\n",
            " - 0s - loss: 0.0771 - acc: 0.9768 - val_loss: 1.7703 - val_acc: 0.6226\n",
            "Epoch 43/50\n",
            " - 0s - loss: 0.0887 - acc: 0.9684 - val_loss: 1.4563 - val_acc: 0.6604\n",
            "Epoch 44/50\n",
            " - 0s - loss: 0.0647 - acc: 0.9789 - val_loss: 1.3405 - val_acc: 0.7107\n",
            "Epoch 45/50\n",
            " - 0s - loss: 0.0489 - acc: 0.9873 - val_loss: 1.5457 - val_acc: 0.7044\n",
            "Epoch 46/50\n",
            " - 0s - loss: 0.0493 - acc: 0.9852 - val_loss: 1.7194 - val_acc: 0.7170\n",
            "Epoch 47/50\n",
            " - 0s - loss: 0.1565 - acc: 0.9536 - val_loss: 1.3962 - val_acc: 0.6667\n",
            "Epoch 48/50\n",
            " - 0s - loss: 0.0441 - acc: 0.9810 - val_loss: 1.5237 - val_acc: 0.6541\n",
            "Epoch 49/50\n",
            " - 0s - loss: 0.0997 - acc: 0.9641 - val_loss: 1.6121 - val_acc: 0.6541\n",
            "Epoch 50/50\n",
            " - 0s - loss: 0.0481 - acc: 0.9831 - val_loss: 1.4991 - val_acc: 0.6541\n"
          ],
          "name": "stdout"
        }
      ]
    },
    {
      "metadata": {
        "id": "uEI2Avtc2-k6",
        "colab_type": "code",
        "outputId": "d9e1bca6-0ef1-429d-a531-6dcb632081e6",
        "colab": {
          "base_uri": "https://localhost:8080/",
          "height": 735
        }
      },
      "cell_type": "code",
      "source": [
        "plt.plot(history.history['acc'])\n",
        "plt.plot(history.history['val_acc'])\n",
        "plt.title('Model accuracy')\n",
        "plt.ylabel('Accuracy')\n",
        "plt.xlabel('Epoch')\n",
        "plt.legend(['Train', 'Test'], loc='upper left')\n",
        "plt.show()\n",
        "\n",
        "# Plot training & validation loss values\n",
        "plt.plot(history.history['loss'])\n",
        "plt.plot(history.history['val_loss'])\n",
        "plt.title('Model loss')\n",
        "plt.ylabel('Loss')\n",
        "plt.xlabel('Epoch')\n",
        "plt.legend(['Train', 'Test'], loc='upper left')\n",
        "plt.show()"
      ],
      "execution_count": 154,
      "outputs": [
        {
          "output_type": "display_data",
          "data": {
            "image/png": "[encoded data removed]",
            "text/plain": [
              "<matplotlib.figure.Figure at 0x7f4a4371d8d0>"
            ]
          },
          "metadata": {
            "tags": []
          }
        },
        {
          "output_type": "display_data",
          "data": {
            "image/png": "[encoded data removed]",
            "text/plain": [
              "<matplotlib.figure.Figure at 0x7f4a43729278>"
            ]
          },
          "metadata": {
            "tags": []
          }
        }
      ]
    },
    {
      "metadata": {
        "id": "TmeX3XkNsQq3",
        "colab_type": "code",
        "colab": {}
      },
      "cell_type": "code",
      "source": [
        "y_pred = model.predict(X)\n",
        "def maxpos(li):\n",
        "      if (li[1]>li[0]) and (li[1]>li[2])  :\n",
        "        return 1\n",
        "      if (li[2]>li[0]) and (li[2]>li[1])  :\n",
        "        return 2     \n",
        "      return 0\n",
        "y_pre=[maxpos(y) for y in y_pred]\n",
        "y_tes=[maxpos(y) for y in Y]"
      ],
      "execution_count": 0,
      "outputs": []
    },
    {
      "metadata": {
        "id": "nysgimsIr7vc",
        "colab_type": "code",
        "outputId": "a4e24d40-5d79-4b6c-d885-8419453091b7",
        "colab": {
          "base_uri": "https://localhost:8080/",
          "height": 70
        }
      },
      "cell_type": "code",
      "source": [
        "confusion_matrix(y_true=y_tes,y_pred=y_pre)"
      ],
      "execution_count": 123,
      "outputs": [
        {
          "output_type": "execute_result",
          "data": {
            "text/plain": [
              "array([[118,   1,   6],\n",
              "       [  8, 117,  11],\n",
              "       [  3,   2, 367]])"
            ]
          },
          "metadata": {
            "tags": []
          },
          "execution_count": 123
        }
      ]
    },
    {
      "metadata": {
        "id": "LoEmYUS2PvEV",
        "colab_type": "code",
        "colab": {}
      },
      "cell_type": "code",
      "source": [
        "model.save('MLP_75.model')"
      ],
      "execution_count": 0,
      "outputs": []
    }
  ]
}
{
  "nbformat": 4,
  "nbformat_minor": 0,
  "metadata": {
    "colab": {
      "name": "audio_classifier_exinfinity_typeZ.ipynb",
      "version": "0.3.2",
      "provenance": [],
      "collapsed_sections": []
    },
    "kernelspec": {
      "name": "python3",
      "display_name": "Python 3"
    },
    "accelerator": "GPU"
  },
  "cells": [
    {
      "metadata": {
        "id": "alqu6qvi2HXO",
        "colab_type": "code",
        "colab": {}
      },
      "cell_type": "code",
      "source": [
        "import os\n",
        "from Audio_reader import readtf\n",
        "from getman import getmanlist\n",
        "import gc\n",
        "import numpy as np\n",
        "import pandas as pd\n",
        "import pickle\n",
        "from keras.layers import Dense, Input, Dropout,Flatten,MaxPooling1D,SpatialDropout2D,SpatialDropout1D\n",
        "from keras.layers import Conv1D, MaxPooling2D,BatchNormalization,Conv2D\n",
        "from keras.models import Model\n",
        "from keras.models import Sequential\n",
        "from keras import optimizers\n",
        "from keras.utils import to_categorical\n",
        "import matplotlib.pyplot as plt\n",
        "from keras.callbacks import ReduceLROnPlateau, EarlyStopping\n",
        "from keras import regularizers\n",
        "from sklearn.metrics import confusion_matrix"
      ],
      "execution_count": 0,
      "outputs": []
    },
    {
      "metadata": {
        "id": "eBa8rJok2r6V",
        "colab_type": "code",
        "colab": {}
      },
      "cell_type": "code",
      "source": [
        "def check(y):\n",
        "    if 74 in y:\n",
        "        return 0 \n",
        "    #male\n",
        "    if 1 in y:\n",
        "        return 1\n",
        "    #female\n",
        "    if 2 in y:\n",
        "        return 2\n",
        "    #child\n",
        "    if 3 in y:\n",
        "        return 3\n",
        "    return 0"
      ],
      "execution_count": 0,
      "outputs": []
    },
    {
      "metadata": {
        "id": "gwVlmq5k2uiT",
        "colab_type": "code",
        "colab": {}
      },
      "cell_type": "code",
      "source": [
        "X = []\n",
        "Y = [] \n",
        "with open(\"X_list_eval.pickle\",\"rb\") as xf:\n",
        "    X.extend(pickle.load(xf))\n",
        "with open(\"Y_list_eval.pickle\",\"rb\") as xf:\n",
        "    Y.extend(pickle.load(xf))\n",
        "      \n",
        "with open(\"X_list.pickle\",\"rb\") as xf:\n",
        "    X.extend(pickle.load(xf))\n",
        "with open(\"Y_list.pickle\",\"rb\") as xf:\n",
        "    Y.extend(pickle.load(xf))\n",
        "\n",
        "X=np.array(X)\n",
        "X=np.reshape(X,(X.shape[0],X.shape[1],X.shape[2]))\n",
        "\n",
        "Y=np.array(Y)  \n",
        "\n",
        "X = X.astype('float32')    \n",
        "X /= 255\n",
        "\n"
      ],
      "execution_count": 0,
      "outputs": []
    },
    {
      "metadata": {
        "id": "sSOYwXU5ABzI",
        "colab_type": "code",
        "colab": {}
      },
      "cell_type": "code",
      "source": [
        "learning_rate=0.0001\n",
        "decay=0.0000001\n",
        "momentum=0.99\n",
        "dropout_rate_1 = 0.4\n",
        "\n",
        "dropout_rate = 0.15\n",
        "\n",
        "rglrzr = regularizers.l2(0.0003)"
      ],
      "execution_count": 0,
      "outputs": []
    },
    {
      "metadata": {
        "id": "yZr9ezVi22SF",
        "colab_type": "code",
        "outputId": "1f1eb077-233c-440b-e11f-cf1cbf1ef513",
        "colab": {
          "base_uri": "https://localhost:8080/",
          "height": 817
        }
      },
      "cell_type": "code",
      "source": [
        "\n",
        "model = Sequential()\n",
        "\n",
        "model.add(Conv1D(64, 3, padding='same',activation='relu',input_shape=X.shape[1:]))\n",
        "model.add(BatchNormalization())\n",
        "model.add(Conv1D(64, 3, padding='same',activation='relu'))\n",
        "model.add(BatchNormalization())\n",
        "model.add(MaxPooling1D(pool_size=5,strides=2))\n",
        "model.add(Dropout(rate=dropout_rate_1))\n",
        "\n",
        "\n",
        "model.add(Conv1D(128, 3, padding='same',activation='relu'))\n",
        "model.add(BatchNormalization())\n",
        "model.add(MaxPooling1D(pool_size=3))\n",
        "model.add(Dropout(rate=dropout_rate_1))\n",
        "\n",
        "model.add(Flatten())\n",
        "\n",
        "model.add(Dense(128,activation='relu'))\n",
        "model.add(BatchNormalization())\n",
        "model.add(Dropout(rate=dropout_rate))\n",
        "\n",
        "model.add(Dense(64,activation='relu'))\n",
        "model.add(BatchNormalization())\n",
        "model.add(Dropout(rate=dropout_rate))\n",
        "\n",
        "\n",
        "model.add(Dense(32,activation='relu'))\n",
        "model.add(Dense(3,activation='softmax'))\n",
        "model.summary()\n"
      ],
      "execution_count": 0,
      "outputs": [
        {
          "output_type": "stream",
          "text": [
            "_________________________________________________________________\n",
            "Layer (type)                 Output Shape              Param #   \n",
            "=================================================================\n",
            "conv1d_63 (Conv1D)           (None, 10, 64)            24640     \n",
            "_________________________________________________________________\n",
            "batch_normalization_175 (Bat (None, 10, 64)            256       \n",
            "_________________________________________________________________\n",
            "conv1d_64 (Conv1D)           (None, 10, 64)            12352     \n",
            "_________________________________________________________________\n",
            "batch_normalization_176 (Bat (None, 10, 64)            256       \n",
            "_________________________________________________________________\n",
            "max_pooling1d_35 (MaxPooling (None, 3, 64)             0         \n",
            "_________________________________________________________________\n",
            "dropout_143 (Dropout)        (None, 3, 64)             0         \n",
            "_________________________________________________________________\n",
            "conv1d_65 (Conv1D)           (None, 3, 128)            24704     \n",
            "_________________________________________________________________\n",
            "batch_normalization_177 (Bat (None, 3, 128)            512       \n",
            "_________________________________________________________________\n",
            "max_pooling1d_36 (MaxPooling (None, 1, 128)            0         \n",
            "_________________________________________________________________\n",
            "dropout_144 (Dropout)        (None, 1, 128)            0         \n",
            "_________________________________________________________________\n",
            "flatten_43 (Flatten)         (None, 128)               0         \n",
            "_________________________________________________________________\n",
            "dense_186 (Dense)            (None, 128)               16512     \n",
            "_________________________________________________________________\n",
            "batch_normalization_178 (Bat (None, 128)               512       \n",
            "_________________________________________________________________\n",
            "dropout_145 (Dropout)        (None, 128)               0         \n",
            "_________________________________________________________________\n",
            "dense_187 (Dense)            (None, 64)                8256      \n",
            "_________________________________________________________________\n",
            "batch_normalization_179 (Bat (None, 64)                256       \n",
            "_________________________________________________________________\n",
            "dropout_146 (Dropout)        (None, 64)                0         \n",
            "_________________________________________________________________\n",
            "dense_188 (Dense)            (None, 32)                2080      \n",
            "_________________________________________________________________\n",
            "dense_189 (Dense)            (None, 3)                 99        \n",
            "=================================================================\n",
            "Total params: 90,435\n",
            "Trainable params: 89,539\n",
            "Non-trainable params: 896\n",
            "_________________________________________________________________\n"
          ],
          "name": "stdout"
        }
      ]
    },
    {
      "metadata": {
        "id": "MDFRkgSGaW7U",
        "colab_type": "code",
        "colab": {}
      },
      "cell_type": "code",
      "source": [
        "\n",
        "optimizer = optimizers.adam(lr=learning_rate,decay=decay)\n",
        "model.compile(loss='categorical_crossentropy',\n",
        "              optimizer=optimizer, \n",
        "              metrics=['accuracy'])"
      ],
      "execution_count": 0,
      "outputs": []
    },
    {
      "metadata": {
        "id": "H1pol6Jx8VZC",
        "colab_type": "code",
        "colab": {}
      },
      "cell_type": "code",
      "source": [
        "cb=[]\n",
        "\n",
        "#reduce_lr = ReduceLROnPlateau(monitor='val_loss', factor=0.8, patience=3, verbose=0, mode='auto')\n",
        "early_stopping = EarlyStopping(monitor='acc', min_delta=0, patience=30, verbose=0, mode='auto', baseline=None, restore_best_weights=True)\n",
        "\n",
        "#cb.append(reduce_lr)\n",
        "cb.append(early_stopping)"
      ],
      "execution_count": 0,
      "outputs": []
    },
    {
      "metadata": {
        "id": "Ytxt_BJs268t",
        "colab_type": "code",
        "outputId": "cd49ee75-b0dc-447d-8ef1-bef8f6a2e52c",
        "colab": {
          "base_uri": "https://localhost:8080/",
          "height": 3590
        }
      },
      "cell_type": "code",
      "source": [
        "history=model.fit(X, Y,\n",
        "          batch_size=32,\n",
        "          epochs=100,\n",
        "          verbose=2,\n",
        "          callbacks=cb,\n",
        "          validation_split=0.3,\n",
        "          shuffle=True)"
      ],
      "execution_count": 0,
      "outputs": [
        {
          "output_type": "stream",
          "text": [
            "Train on 443 samples, validate on 190 samples\n",
            "Epoch 1/100\n",
            " - 14s - loss: 1.5688 - acc: 0.2596 - val_loss: 1.4540 - val_acc: 0.2105\n",
            "Epoch 2/100\n",
            " - 0s - loss: 1.5178 - acc: 0.2889 - val_loss: 1.4102 - val_acc: 0.2368\n",
            "Epoch 3/100\n",
            " - 0s - loss: 1.4387 - acc: 0.3093 - val_loss: 1.3628 - val_acc: 0.2474\n",
            "Epoch 4/100\n",
            " - 0s - loss: 1.4737 - acc: 0.2596 - val_loss: 1.3254 - val_acc: 0.2526\n",
            "Epoch 5/100\n",
            " - 0s - loss: 1.4318 - acc: 0.3093 - val_loss: 1.2943 - val_acc: 0.2579\n",
            "Epoch 6/100\n",
            " - 0s - loss: 1.3719 - acc: 0.3273 - val_loss: 1.2471 - val_acc: 0.3053\n",
            "Epoch 7/100\n",
            " - 0s - loss: 1.2571 - acc: 0.3770 - val_loss: 1.2081 - val_acc: 0.3263\n",
            "Epoch 8/100\n",
            " - 0s - loss: 1.2151 - acc: 0.3905 - val_loss: 1.1899 - val_acc: 0.3474\n",
            "Epoch 9/100\n",
            " - 0s - loss: 1.2189 - acc: 0.3928 - val_loss: 1.1558 - val_acc: 0.3789\n",
            "Epoch 10/100\n",
            " - 0s - loss: 1.1916 - acc: 0.4018 - val_loss: 1.1271 - val_acc: 0.4000\n",
            "Epoch 11/100\n",
            " - 0s - loss: 1.1797 - acc: 0.3950 - val_loss: 1.0941 - val_acc: 0.4316\n",
            "Epoch 12/100\n",
            " - 0s - loss: 1.1417 - acc: 0.4063 - val_loss: 1.0636 - val_acc: 0.4421\n",
            "Epoch 13/100\n",
            " - 0s - loss: 1.1487 - acc: 0.4312 - val_loss: 1.0373 - val_acc: 0.4684\n",
            "Epoch 14/100\n",
            " - 0s - loss: 1.1900 - acc: 0.4041 - val_loss: 1.0133 - val_acc: 0.5105\n",
            "Epoch 15/100\n",
            " - 0s - loss: 1.0751 - acc: 0.4740 - val_loss: 0.9917 - val_acc: 0.5000\n",
            "Epoch 16/100\n",
            " - 0s - loss: 1.1038 - acc: 0.4989 - val_loss: 0.9734 - val_acc: 0.5263\n",
            "Epoch 17/100\n",
            " - 0s - loss: 1.0866 - acc: 0.4808 - val_loss: 0.9476 - val_acc: 0.5474\n",
            "Epoch 18/100\n",
            " - 0s - loss: 1.0386 - acc: 0.5282 - val_loss: 0.9481 - val_acc: 0.5684\n",
            "Epoch 19/100\n",
            " - 0s - loss: 0.9874 - acc: 0.5282 - val_loss: 0.9432 - val_acc: 0.5368\n",
            "Epoch 20/100\n",
            " - 0s - loss: 1.0268 - acc: 0.5034 - val_loss: 0.9283 - val_acc: 0.5421\n",
            "Epoch 21/100\n",
            " - 0s - loss: 0.9500 - acc: 0.5327 - val_loss: 0.9167 - val_acc: 0.5684\n",
            "Epoch 22/100\n",
            " - 0s - loss: 0.9736 - acc: 0.5463 - val_loss: 0.8855 - val_acc: 0.5895\n",
            "Epoch 23/100\n",
            " - 0s - loss: 0.9351 - acc: 0.5576 - val_loss: 0.8851 - val_acc: 0.5632\n",
            "Epoch 24/100\n",
            " - 0s - loss: 0.9138 - acc: 0.5643 - val_loss: 0.8746 - val_acc: 0.5947\n",
            "Epoch 25/100\n",
            " - 0s - loss: 0.9194 - acc: 0.5666 - val_loss: 0.8773 - val_acc: 0.5579\n",
            "Epoch 26/100\n",
            " - 0s - loss: 0.9153 - acc: 0.5869 - val_loss: 0.8694 - val_acc: 0.6105\n",
            "Epoch 27/100\n",
            " - 0s - loss: 0.9185 - acc: 0.5914 - val_loss: 0.8688 - val_acc: 0.6211\n",
            "Epoch 28/100\n",
            " - 0s - loss: 0.8871 - acc: 0.5982 - val_loss: 0.8589 - val_acc: 0.6053\n",
            "Epoch 29/100\n",
            " - 0s - loss: 0.8870 - acc: 0.5688 - val_loss: 0.8496 - val_acc: 0.6053\n",
            "Epoch 30/100\n",
            " - 0s - loss: 0.8473 - acc: 0.6027 - val_loss: 0.8315 - val_acc: 0.6105\n",
            "Epoch 31/100\n",
            " - 0s - loss: 0.8581 - acc: 0.6027 - val_loss: 0.8255 - val_acc: 0.6316\n",
            "Epoch 32/100\n",
            " - 0s - loss: 0.8350 - acc: 0.5982 - val_loss: 0.8286 - val_acc: 0.5947\n",
            "Epoch 33/100\n",
            " - 0s - loss: 0.8282 - acc: 0.6230 - val_loss: 0.8284 - val_acc: 0.5947\n",
            "Epoch 34/100\n",
            " - 0s - loss: 0.8121 - acc: 0.6546 - val_loss: 0.8146 - val_acc: 0.6158\n",
            "Epoch 35/100\n",
            " - 0s - loss: 0.7510 - acc: 0.6501 - val_loss: 0.8015 - val_acc: 0.6158\n",
            "Epoch 36/100\n",
            " - 0s - loss: 0.7289 - acc: 0.6772 - val_loss: 0.7852 - val_acc: 0.6421\n",
            "Epoch 37/100\n",
            " - 0s - loss: 0.8016 - acc: 0.6230 - val_loss: 0.7819 - val_acc: 0.6421\n",
            "Epoch 38/100\n",
            " - 0s - loss: 0.7772 - acc: 0.6411 - val_loss: 0.7788 - val_acc: 0.6474\n",
            "Epoch 39/100\n",
            " - 0s - loss: 0.7619 - acc: 0.6772 - val_loss: 0.7766 - val_acc: 0.6368\n",
            "Epoch 40/100\n",
            " - 0s - loss: 0.7337 - acc: 0.6727 - val_loss: 0.7731 - val_acc: 0.6579\n",
            "Epoch 41/100\n",
            " - 0s - loss: 0.7322 - acc: 0.6614 - val_loss: 0.7756 - val_acc: 0.6526\n",
            "Epoch 42/100\n",
            " - 0s - loss: 0.7487 - acc: 0.6659 - val_loss: 0.7704 - val_acc: 0.6526\n",
            "Epoch 43/100\n",
            " - 0s - loss: 0.6976 - acc: 0.7020 - val_loss: 0.7600 - val_acc: 0.6684\n",
            "Epoch 44/100\n",
            " - 0s - loss: 0.6757 - acc: 0.6975 - val_loss: 0.7552 - val_acc: 0.6684\n",
            "Epoch 45/100\n",
            " - 0s - loss: 0.6983 - acc: 0.7020 - val_loss: 0.7560 - val_acc: 0.6737\n",
            "Epoch 46/100\n",
            " - 0s - loss: 0.6587 - acc: 0.7178 - val_loss: 0.7484 - val_acc: 0.6895\n",
            "Epoch 47/100\n",
            " - 0s - loss: 0.6731 - acc: 0.7336 - val_loss: 0.7373 - val_acc: 0.7053\n",
            "Epoch 48/100\n",
            " - 0s - loss: 0.7183 - acc: 0.6817 - val_loss: 0.7385 - val_acc: 0.7053\n",
            "Epoch 49/100\n",
            " - 0s - loss: 0.6722 - acc: 0.7088 - val_loss: 0.7390 - val_acc: 0.7211\n",
            "Epoch 50/100\n",
            " - 0s - loss: 0.6466 - acc: 0.7336 - val_loss: 0.7358 - val_acc: 0.7158\n",
            "Epoch 51/100\n",
            " - 0s - loss: 0.6564 - acc: 0.7178 - val_loss: 0.7282 - val_acc: 0.7000\n",
            "Epoch 52/100\n",
            " - 0s - loss: 0.6873 - acc: 0.6840 - val_loss: 0.7225 - val_acc: 0.6947\n",
            "Epoch 53/100\n",
            " - 0s - loss: 0.6365 - acc: 0.7178 - val_loss: 0.7257 - val_acc: 0.6895\n",
            "Epoch 54/100\n",
            " - 0s - loss: 0.6403 - acc: 0.7336 - val_loss: 0.7274 - val_acc: 0.6789\n",
            "Epoch 55/100\n",
            " - 0s - loss: 0.6285 - acc: 0.7359 - val_loss: 0.7238 - val_acc: 0.6842\n",
            "Epoch 56/100\n",
            " - 0s - loss: 0.6214 - acc: 0.7246 - val_loss: 0.7172 - val_acc: 0.7000\n",
            "Epoch 57/100\n",
            " - 0s - loss: 0.5865 - acc: 0.7494 - val_loss: 0.7127 - val_acc: 0.6947\n",
            "Epoch 58/100\n",
            " - 0s - loss: 0.5649 - acc: 0.7765 - val_loss: 0.7081 - val_acc: 0.6947\n",
            "Epoch 59/100\n",
            " - 0s - loss: 0.5913 - acc: 0.7427 - val_loss: 0.7007 - val_acc: 0.7105\n",
            "Epoch 60/100\n",
            " - 0s - loss: 0.6233 - acc: 0.7359 - val_loss: 0.6905 - val_acc: 0.6947\n",
            "Epoch 61/100\n",
            " - 0s - loss: 0.5888 - acc: 0.7630 - val_loss: 0.6877 - val_acc: 0.7000\n",
            "Epoch 62/100\n",
            " - 0s - loss: 0.6046 - acc: 0.7449 - val_loss: 0.6931 - val_acc: 0.7000\n",
            "Epoch 63/100\n",
            " - 0s - loss: 0.5612 - acc: 0.7675 - val_loss: 0.6943 - val_acc: 0.7105\n",
            "Epoch 64/100\n",
            " - 0s - loss: 0.5574 - acc: 0.7720 - val_loss: 0.6879 - val_acc: 0.7105\n",
            "Epoch 65/100\n",
            " - 0s - loss: 0.5167 - acc: 0.7810 - val_loss: 0.6907 - val_acc: 0.7053\n",
            "Epoch 66/100\n",
            " - 0s - loss: 0.5555 - acc: 0.7743 - val_loss: 0.6948 - val_acc: 0.6947\n",
            "Epoch 67/100\n",
            " - 0s - loss: 0.5805 - acc: 0.7517 - val_loss: 0.6897 - val_acc: 0.7053\n",
            "Epoch 68/100\n",
            " - 0s - loss: 0.5728 - acc: 0.7743 - val_loss: 0.6824 - val_acc: 0.7053\n",
            "Epoch 69/100\n",
            " - 0s - loss: 0.5761 - acc: 0.7720 - val_loss: 0.6845 - val_acc: 0.7105\n",
            "Epoch 70/100\n",
            " - 0s - loss: 0.5509 - acc: 0.7630 - val_loss: 0.6835 - val_acc: 0.7158\n",
            "Epoch 71/100\n",
            " - 0s - loss: 0.5078 - acc: 0.7991 - val_loss: 0.6883 - val_acc: 0.7316\n",
            "Epoch 72/100\n",
            " - 0s - loss: 0.4909 - acc: 0.7968 - val_loss: 0.6946 - val_acc: 0.7263\n",
            "Epoch 73/100\n",
            " - 0s - loss: 0.4744 - acc: 0.8172 - val_loss: 0.7031 - val_acc: 0.7211\n",
            "Epoch 74/100\n",
            " - 0s - loss: 0.5395 - acc: 0.7630 - val_loss: 0.7008 - val_acc: 0.7211\n",
            "Epoch 75/100\n",
            " - 0s - loss: 0.5004 - acc: 0.7968 - val_loss: 0.6989 - val_acc: 0.7211\n",
            "Epoch 76/100\n",
            " - 0s - loss: 0.4789 - acc: 0.8239 - val_loss: 0.6935 - val_acc: 0.7158\n",
            "Epoch 77/100\n",
            " - 0s - loss: 0.4689 - acc: 0.8172 - val_loss: 0.6839 - val_acc: 0.7053\n",
            "Epoch 78/100\n",
            " - 0s - loss: 0.4639 - acc: 0.8217 - val_loss: 0.6853 - val_acc: 0.7158\n",
            "Epoch 79/100\n",
            " - 0s - loss: 0.4442 - acc: 0.8262 - val_loss: 0.6815 - val_acc: 0.7211\n",
            "Epoch 80/100\n",
            " - 0s - loss: 0.4755 - acc: 0.8126 - val_loss: 0.6826 - val_acc: 0.7211\n",
            "Epoch 81/100\n",
            " - 0s - loss: 0.4412 - acc: 0.8397 - val_loss: 0.6871 - val_acc: 0.7158\n",
            "Epoch 82/100\n",
            " - 0s - loss: 0.4138 - acc: 0.8262 - val_loss: 0.6869 - val_acc: 0.7263\n",
            "Epoch 83/100\n",
            " - 0s - loss: 0.4664 - acc: 0.8217 - val_loss: 0.6919 - val_acc: 0.6842\n",
            "Epoch 84/100\n",
            " - 0s - loss: 0.5084 - acc: 0.8014 - val_loss: 0.6925 - val_acc: 0.6895\n",
            "Epoch 85/100\n",
            " - 0s - loss: 0.4407 - acc: 0.8442 - val_loss: 0.6959 - val_acc: 0.7158\n",
            "Epoch 86/100\n",
            " - 0s - loss: 0.3919 - acc: 0.8555 - val_loss: 0.6879 - val_acc: 0.7211\n",
            "Epoch 87/100\n",
            " - 0s - loss: 0.4180 - acc: 0.8352 - val_loss: 0.6901 - val_acc: 0.7263\n",
            "Epoch 88/100\n",
            " - 0s - loss: 0.4158 - acc: 0.8284 - val_loss: 0.6888 - val_acc: 0.7316\n",
            "Epoch 89/100\n",
            " - 0s - loss: 0.4168 - acc: 0.8330 - val_loss: 0.6869 - val_acc: 0.7316\n",
            "Epoch 90/100\n",
            " - 0s - loss: 0.4339 - acc: 0.8262 - val_loss: 0.6910 - val_acc: 0.7316\n",
            "Epoch 91/100\n",
            " - 0s - loss: 0.4254 - acc: 0.8397 - val_loss: 0.6962 - val_acc: 0.7368\n",
            "Epoch 92/100\n",
            " - 0s - loss: 0.3773 - acc: 0.8465 - val_loss: 0.6990 - val_acc: 0.7158\n",
            "Epoch 93/100\n",
            " - 0s - loss: 0.3878 - acc: 0.8488 - val_loss: 0.7036 - val_acc: 0.7211\n",
            "Epoch 94/100\n",
            " - 0s - loss: 0.3699 - acc: 0.8510 - val_loss: 0.7117 - val_acc: 0.7211\n",
            "Epoch 95/100\n",
            " - 0s - loss: 0.3672 - acc: 0.8510 - val_loss: 0.7172 - val_acc: 0.7105\n",
            "Epoch 96/100\n",
            " - 0s - loss: 0.3586 - acc: 0.8713 - val_loss: 0.7243 - val_acc: 0.7000\n",
            "Epoch 97/100\n",
            " - 0s - loss: 0.3442 - acc: 0.8736 - val_loss: 0.7293 - val_acc: 0.6947\n",
            "Epoch 98/100\n",
            " - 0s - loss: 0.3830 - acc: 0.8465 - val_loss: 0.7201 - val_acc: 0.7158\n",
            "Epoch 99/100\n",
            " - 0s - loss: 0.3470 - acc: 0.8894 - val_loss: 0.7188 - val_acc: 0.7263\n",
            "Epoch 100/100\n",
            " - 0s - loss: 0.3372 - acc: 0.8691 - val_loss: 0.7226 - val_acc: 0.7316\n"
          ],
          "name": "stdout"
        }
      ]
    },
    {
      "metadata": {
        "id": "uEI2Avtc2-k6",
        "colab_type": "code",
        "outputId": "87860573-483b-4fda-9471-25e3190543e2",
        "colab": {
          "base_uri": "https://localhost:8080/",
          "height": 735
        }
      },
      "cell_type": "code",
      "source": [
        "plt.plot(history.history['acc'])\n",
        "plt.plot(history.history['val_acc'])\n",
        "plt.title('Model accuracy')\n",
        "plt.ylabel('Accuracy')\n",
        "plt.xlabel('Epoch')\n",
        "plt.legend(['Train', 'Test'], loc='upper left')\n",
        "plt.show()\n",
        "\n",
        "# Plot training & validation loss values\n",
        "plt.plot(history.history['loss'])\n",
        "plt.plot(history.history['val_loss'])\n",
        "plt.title('Model loss')\n",
        "plt.ylabel('Loss')\n",
        "plt.xlabel('Epoch')\n",
        "plt.legend(['Train', 'Test'], loc='upper left')\n",
        "plt.show()"
      ],
      "execution_count": 0,
      "outputs": [
        {
          "output_type": "display_data",
          "data": {
            "image/png": "[encoded data removed]",
            "text/plain": [
              "<matplotlib.figure.Figure at 0x7f4a32cfb048>"
            ]
          },
          "metadata": {
            "tags": []
          }
        },
        {
          "output_type": "display_data",
          "data": {
            "image/png": "[encoded data removed]",
            "text/plain": [
              "<matplotlib.figure.Figure at 0x7f4a3b54b9e8>"
            ]
          },
          "metadata": {
            "tags": []
          }
        }
      ]
    },
    {
      "metadata": {
        "id": "TmeX3XkNsQq3",
        "colab_type": "code",
        "colab": {}
      },
      "cell_type": "code",
      "source": [
        "y_pred = model.predict(X)\n",
        "def maxpos(li):\n",
        "      if (li[1]>li[0]) and (li[1]>li[2])  :\n",
        "        return 1\n",
        "      if (li[2]>li[0]) and (li[2]>li[1])  :\n",
        "        return 2     \n",
        "      return 0\n",
        "y_pre=[maxpos(y) for y in y_pred]\n",
        "y_tes=[maxpos(y) for y in Y]"
      ],
      "execution_count": 0,
      "outputs": []
    },
    {
      "metadata": {
        "id": "nysgimsIr7vc",
        "colab_type": "code",
        "outputId": "c978f23f-a161-4a6f-bd13-7e46137c135c",
        "colab": {
          "base_uri": "https://localhost:8080/",
          "height": 70
        }
      },
      "cell_type": "code",
      "source": [
        "confusion_matrix(y_true=y_tes,y_pred=y_pre)"
      ],
      "execution_count": 0,
      "outputs": [
        {
          "output_type": "execute_result",
          "data": {
            "text/plain": [
              "array([[107,   7,  11],\n",
              "       [  6, 120,  10],\n",
              "       [ 11,  25, 336]])"
            ]
          },
          "metadata": {
            "tags": []
          },
          "execution_count": 208
        }
      ]
    },
    {
      "metadata": {
        "id": "LoEmYUS2PvEV",
        "colab_type": "code",
        "colab": {}
      },
      "cell_type": "code",
      "source": [
        "model.save('Conv1D.model')"
      ],
      "execution_count": 0,
      "outputs": []
    }
  ]
}
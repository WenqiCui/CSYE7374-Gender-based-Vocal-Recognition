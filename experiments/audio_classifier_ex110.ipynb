{
 "cells": [
  {
   "cell_type": "code",
   "execution_count": 0,
   "metadata": {
    "colab": {},
    "colab_type": "code",
    "id": "alqu6qvi2HXO"
   },
   "outputs": [],
   "source": [
    "import os\n",
    "from Audio_reader import readtf\n",
    "from getman import getmanlist\n",
    "import gc\n",
    "import numpy as np\n",
    "import pandas as pd\n",
    "import pickle\n",
    "from keras.layers import Dense, Input, Dropout,Flatten,MaxPooling1D,SpatialDropout2D,SpatialDropout1D\n",
    "from keras.layers import Conv1D, MaxPooling2D,BatchNormalization,Conv2D\n",
    "from keras.models import Model\n",
    "from keras.models import Sequential\n",
    "from keras import optimizers\n",
    "from keras.utils import to_categorical\n",
    "import matplotlib.pyplot as plt\n",
    "from keras.callbacks import ReduceLROnPlateau, EarlyStopping\n",
    "from keras import regularizers\n",
    "from sklearn.metrics import confusion_matrix"
   ]
  },
  {
   "cell_type": "code",
   "execution_count": 0,
   "metadata": {
    "colab": {},
    "colab_type": "code",
    "id": "eBa8rJok2r6V"
   },
   "outputs": [],
   "source": [
    "def check(y):\n",
    "    if 74 in y:\n",
    "        return 0 \n",
    "    #male\n",
    "    if 1 in y:\n",
    "        return 1\n",
    "    #female\n",
    "    if 2 in y:\n",
    "        return 2\n",
    "    #child\n",
    "    if 3 in y:\n",
    "        return 3\n",
    "    return 0"
   ]
  },
  {
   "cell_type": "code",
   "execution_count": 0,
   "metadata": {
    "colab": {},
    "colab_type": "code",
    "id": "gwVlmq5k2uiT"
   },
   "outputs": [],
   "source": [
    "X = []\n",
    "Y = [] \n",
    "with open(\"X_list_eval.pickle\",\"rb\") as xf:\n",
    "    X.extend(pickle.load(xf))\n",
    "with open(\"Y_list_eval.pickle\",\"rb\") as xf:\n",
    "    Y.extend(pickle.load(xf))\n",
    "      \n",
    "with open(\"X_list.pickle\",\"rb\") as xf:\n",
    "    X.extend(pickle.load(xf))\n",
    "with open(\"Y_list.pickle\",\"rb\") as xf:\n",
    "    Y.extend(pickle.load(xf))\n",
    "\n",
    "X=np.array(X)\n",
    "X=np.reshape(X,(X.shape[0],X.shape[1],X.shape[2]))\n",
    "\n",
    "Y=np.array(Y)  \n",
    "\n",
    "X = X.astype('float32')    \n",
    "X /= 255\n",
    "\n"
   ]
  },
  {
   "cell_type": "code",
   "execution_count": 0,
   "metadata": {
    "colab": {},
    "colab_type": "code",
    "id": "sSOYwXU5ABzI"
   },
   "outputs": [],
   "source": [
    "learning_rate=0.001\n",
    "decay=0.000001\n",
    "momentum=0.99\n",
    "dropout_rate = 0.35\n",
    "\n",
    "rglrzr = regularizers.l2(0.0003)"
   ]
  },
  {
   "cell_type": "code",
   "execution_count": 49,
   "metadata": {
    "colab": {
     "base_uri": "https://localhost:8080/",
     "height": 604
    },
    "colab_type": "code",
    "id": "yZr9ezVi22SF",
    "outputId": "46e28af1-a8ec-4565-920b-e0deebdfba5c"
   },
   "outputs": [
    {
     "name": "stdout",
     "output_type": "stream",
     "text": [
      "_________________________________________________________________\n",
      "Layer (type)                 Output Shape              Param #   \n",
      "=================================================================\n",
      "flatten_8 (Flatten)          (None, 1280)              0         \n",
      "_________________________________________________________________\n",
      "dense_39 (Dense)             (None, 1280)              1639680   \n",
      "_________________________________________________________________\n",
      "batch_normalization_46 (Batc (None, 1280)              5120      \n",
      "_________________________________________________________________\n",
      "dropout_37 (Dropout)         (None, 1280)              0         \n",
      "_________________________________________________________________\n",
      "dense_40 (Dense)             (None, 1280)              1639680   \n",
      "_________________________________________________________________\n",
      "batch_normalization_47 (Batc (None, 1280)              5120      \n",
      "_________________________________________________________________\n",
      "dropout_38 (Dropout)         (None, 1280)              0         \n",
      "_________________________________________________________________\n",
      "dense_41 (Dense)             (None, 320)               409920    \n",
      "_________________________________________________________________\n",
      "batch_normalization_48 (Batc (None, 320)               1280      \n",
      "_________________________________________________________________\n",
      "dropout_39 (Dropout)         (None, 320)               0         \n",
      "_________________________________________________________________\n",
      "dense_42 (Dense)             (None, 40)                12840     \n",
      "_________________________________________________________________\n",
      "batch_normalization_49 (Batc (None, 40)                160       \n",
      "_________________________________________________________________\n",
      "dense_43 (Dense)             (None, 3)                 123       \n",
      "=================================================================\n",
      "Total params: 3,713,923\n",
      "Trainable params: 3,708,083\n",
      "Non-trainable params: 5,840\n",
      "_________________________________________________________________\n"
     ]
    }
   ],
   "source": [
    "\n",
    "model = Sequential()\n",
    "model.add(Flatten(input_shape=X.shape[1:]))\n",
    "\n",
    "model.add(Dense(1280,activation='relu'))\n",
    "model.add(BatchNormalization())\n",
    "model.add(Dropout(rate=dropout_rate))\n",
    "\n",
    "model.add(Dense(1280,activation='relu'))\n",
    "model.add(BatchNormalization())\n",
    "model.add(Dropout(rate=dropout_rate))\n",
    "\n",
    "model.add(Dense(320,activation='relu'))\n",
    "model.add(BatchNormalization())\n",
    "model.add(Dropout(rate=dropout_rate))\n",
    "\n",
    "model.add(Dense(40,activation='relu'))\n",
    "model.add(BatchNormalization())\n",
    "\n",
    "model.add(Dense(3,activation='softmax'))\n",
    "model.summary()\n"
   ]
  },
  {
   "cell_type": "code",
   "execution_count": 0,
   "metadata": {
    "colab": {},
    "colab_type": "code",
    "id": "MDFRkgSGaW7U"
   },
   "outputs": [],
   "source": [
    "\n",
    "optimizer = optimizers.SGD(lr=learning_rate,momentum=momentum,decay=decay)\n",
    "model.compile(loss='categorical_crossentropy',\n",
    "              optimizer=optimizer, \n",
    "              metrics=['accuracy'])"
   ]
  },
  {
   "cell_type": "code",
   "execution_count": 0,
   "metadata": {
    "colab": {},
    "colab_type": "code",
    "id": "H1pol6Jx8VZC"
   },
   "outputs": [],
   "source": [
    "cb=[]\n",
    "\n",
    "#reduce_lr = ReduceLROnPlateau(monitor='val_loss', factor=0.8, patience=3, verbose=0, mode='auto')\n",
    "early_stopping = EarlyStopping(monitor='acc', min_delta=0, patience=30, verbose=0, mode='auto', baseline=None, restore_best_weights=True)\n",
    "\n",
    "#cb.append(reduce_lr)\n",
    "cb.append(early_stopping)"
   ]
  },
  {
   "cell_type": "code",
   "execution_count": 52,
   "metadata": {
    "colab": {
     "base_uri": "https://localhost:8080/",
     "height": 1812
    },
    "colab_type": "code",
    "id": "Ytxt_BJs268t",
    "outputId": "e27d41a9-4241-4a4b-c0c7-48ddc868e1c2"
   },
   "outputs": [
    {
     "name": "stdout",
     "output_type": "stream",
     "text": [
      "Train on 443 samples, validate on 190 samples\n",
      "Epoch 1/200\n",
      " - 3s - loss: 1.5371 - acc: 0.3476 - val_loss: 0.9550 - val_acc: 0.5316\n",
      "Epoch 2/200\n",
      " - 0s - loss: 0.9232 - acc: 0.5756 - val_loss: 0.7907 - val_acc: 0.6579\n",
      "Epoch 3/200\n",
      " - 0s - loss: 0.5878 - acc: 0.7540 - val_loss: 0.8065 - val_acc: 0.6842\n",
      "Epoch 4/200\n",
      " - 0s - loss: 0.4708 - acc: 0.8284 - val_loss: 0.8758 - val_acc: 0.6684\n",
      "Epoch 5/200\n",
      " - 0s - loss: 0.3020 - acc: 0.8849 - val_loss: 0.8739 - val_acc: 0.6842\n",
      "Epoch 6/200\n",
      " - 0s - loss: 0.2749 - acc: 0.9142 - val_loss: 0.8331 - val_acc: 0.7316\n",
      "Epoch 7/200\n",
      " - 0s - loss: 0.2199 - acc: 0.9120 - val_loss: 0.7914 - val_acc: 0.7263\n",
      "Epoch 8/200\n",
      " - 0s - loss: 0.1853 - acc: 0.9368 - val_loss: 0.7851 - val_acc: 0.7158\n",
      "Epoch 9/200\n",
      " - 0s - loss: 0.1517 - acc: 0.9391 - val_loss: 0.8117 - val_acc: 0.6842\n",
      "Epoch 10/200\n",
      " - 0s - loss: 0.1223 - acc: 0.9594 - val_loss: 0.8438 - val_acc: 0.6789\n",
      "Epoch 11/200\n",
      " - 0s - loss: 0.0878 - acc: 0.9797 - val_loss: 0.8789 - val_acc: 0.6789\n",
      "Epoch 12/200\n",
      " - 0s - loss: 0.0562 - acc: 0.9932 - val_loss: 0.8659 - val_acc: 0.7263\n",
      "Epoch 13/200\n",
      " - 0s - loss: 0.0750 - acc: 0.9752 - val_loss: 0.8761 - val_acc: 0.7158\n",
      "Epoch 14/200\n",
      " - 0s - loss: 0.0460 - acc: 0.9865 - val_loss: 0.8952 - val_acc: 0.7053\n",
      "Epoch 15/200\n",
      " - 0s - loss: 0.0392 - acc: 0.9910 - val_loss: 0.9428 - val_acc: 0.7105\n",
      "Epoch 16/200\n",
      " - 0s - loss: 0.0296 - acc: 0.9932 - val_loss: 0.9924 - val_acc: 0.7053\n",
      "Epoch 17/200\n",
      " - 0s - loss: 0.0262 - acc: 0.9932 - val_loss: 1.0302 - val_acc: 0.7158\n",
      "Epoch 18/200\n",
      " - 0s - loss: 0.0119 - acc: 0.9977 - val_loss: 1.0431 - val_acc: 0.7316\n",
      "Epoch 19/200\n",
      " - 0s - loss: 0.0242 - acc: 0.9887 - val_loss: 1.0603 - val_acc: 0.7316\n",
      "Epoch 20/200\n",
      " - 0s - loss: 0.0114 - acc: 1.0000 - val_loss: 1.0964 - val_acc: 0.7263\n",
      "Epoch 21/200\n",
      " - 0s - loss: 0.0081 - acc: 1.0000 - val_loss: 1.1286 - val_acc: 0.7158\n",
      "Epoch 22/200\n",
      " - 0s - loss: 0.0120 - acc: 0.9955 - val_loss: 1.1629 - val_acc: 0.7158\n",
      "Epoch 23/200\n",
      " - 0s - loss: 0.0104 - acc: 0.9977 - val_loss: 1.1827 - val_acc: 0.7316\n",
      "Epoch 24/200\n",
      " - 0s - loss: 0.0115 - acc: 0.9932 - val_loss: 1.1954 - val_acc: 0.7211\n",
      "Epoch 25/200\n",
      " - 0s - loss: 0.0170 - acc: 0.9955 - val_loss: 1.2114 - val_acc: 0.7211\n",
      "Epoch 26/200\n",
      " - 0s - loss: 0.0076 - acc: 0.9977 - val_loss: 1.2311 - val_acc: 0.7211\n",
      "Epoch 27/200\n",
      " - 0s - loss: 0.0157 - acc: 0.9932 - val_loss: 1.2421 - val_acc: 0.7211\n",
      "Epoch 28/200\n",
      " - 0s - loss: 0.0310 - acc: 0.9887 - val_loss: 1.2492 - val_acc: 0.7211\n",
      "Epoch 29/200\n",
      " - 0s - loss: 0.0163 - acc: 0.9955 - val_loss: 1.2752 - val_acc: 0.7211\n",
      "Epoch 30/200\n",
      " - 0s - loss: 0.0081 - acc: 0.9977 - val_loss: 1.3132 - val_acc: 0.7316\n",
      "Epoch 31/200\n",
      " - 0s - loss: 0.0099 - acc: 0.9977 - val_loss: 1.3502 - val_acc: 0.7368\n",
      "Epoch 32/200\n",
      " - 0s - loss: 0.0106 - acc: 0.9977 - val_loss: 1.3801 - val_acc: 0.7368\n",
      "Epoch 33/200\n",
      " - 0s - loss: 0.0081 - acc: 0.9977 - val_loss: 1.4065 - val_acc: 0.7368\n",
      "Epoch 34/200\n",
      " - 0s - loss: 0.0070 - acc: 0.9977 - val_loss: 1.4290 - val_acc: 0.7368\n",
      "Epoch 35/200\n",
      " - 0s - loss: 0.0028 - acc: 1.0000 - val_loss: 1.4469 - val_acc: 0.7368\n",
      "Epoch 36/200\n",
      " - 0s - loss: 0.0150 - acc: 0.9955 - val_loss: 1.4517 - val_acc: 0.7316\n",
      "Epoch 37/200\n",
      " - 0s - loss: 0.0111 - acc: 0.9955 - val_loss: 1.4471 - val_acc: 0.7316\n",
      "Epoch 38/200\n",
      " - 0s - loss: 0.0140 - acc: 0.9932 - val_loss: 1.4464 - val_acc: 0.7474\n",
      "Epoch 39/200\n",
      " - 0s - loss: 0.0056 - acc: 1.0000 - val_loss: 1.4508 - val_acc: 0.7421\n",
      "Epoch 40/200\n",
      " - 0s - loss: 0.0055 - acc: 1.0000 - val_loss: 1.4554 - val_acc: 0.7368\n",
      "Epoch 41/200\n",
      " - 0s - loss: 0.0281 - acc: 0.9910 - val_loss: 1.4649 - val_acc: 0.7368\n",
      "Epoch 42/200\n",
      " - 0s - loss: 0.0047 - acc: 1.0000 - val_loss: 1.4769 - val_acc: 0.7316\n",
      "Epoch 43/200\n",
      " - 0s - loss: 0.0083 - acc: 0.9977 - val_loss: 1.4910 - val_acc: 0.7368\n",
      "Epoch 44/200\n",
      " - 0s - loss: 0.0043 - acc: 0.9977 - val_loss: 1.5007 - val_acc: 0.7368\n",
      "Epoch 45/200\n",
      " - 0s - loss: 0.0161 - acc: 0.9932 - val_loss: 1.5062 - val_acc: 0.7421\n",
      "Epoch 46/200\n",
      " - 0s - loss: 0.0377 - acc: 0.9910 - val_loss: 1.5252 - val_acc: 0.7421\n",
      "Epoch 47/200\n",
      " - 0s - loss: 0.0024 - acc: 1.0000 - val_loss: 1.5355 - val_acc: 0.7421\n",
      "Epoch 48/200\n",
      " - 0s - loss: 0.0086 - acc: 0.9977 - val_loss: 1.5446 - val_acc: 0.7421\n",
      "Epoch 49/200\n",
      " - 0s - loss: 0.0025 - acc: 1.0000 - val_loss: 1.5462 - val_acc: 0.7474\n",
      "Epoch 50/200\n",
      " - 0s - loss: 0.0508 - acc: 0.9842 - val_loss: 1.5553 - val_acc: 0.7579\n"
     ]
    }
   ],
   "source": [
    "history=model.fit(X, Y,\n",
    "          batch_size=32,\n",
    "          epochs=200,\n",
    "          verbose=2,\n",
    "          callbacks=cb,\n",
    "          validation_split=0.3,\n",
    "          shuffle=True)"
   ]
  },
  {
   "cell_type": "code",
   "execution_count": 53,
   "metadata": {
    "colab": {
     "base_uri": "https://localhost:8080/",
     "height": 735
    },
    "colab_type": "code",
    "id": "uEI2Avtc2-k6",
    "outputId": "846c821e-8ef8-4bf3-aa82-e1e3ef788ecf"
   },
   "outputs": [
    {
     "data": {
      "image/png": "[encoded data removed]",
      "text/plain": [
       "<matplotlib.figure.Figure at 0x7f4a56994a90>"
      ]
     },
     "metadata": {
      "tags": []
     },
     "output_type": "display_data"
    },
    {
     "data": {
      "image/png": "[encoded data removed]",
      "text/plain": [
       "<matplotlib.figure.Figure at 0x7f4a5daf8550>"
      ]
     },
     "metadata": {
      "tags": []
     },
     "output_type": "display_data"
    }
   ],
   "source": [
    "plt.plot(history.history['acc'])\n",
    "plt.plot(history.history['val_acc'])\n",
    "plt.title('Model accuracy')\n",
    "plt.ylabel('Accuracy')\n",
    "plt.xlabel('Epoch')\n",
    "plt.legend(['Train', 'Test'], loc='upper left')\n",
    "plt.show()\n",
    "\n",
    "# Plot training & validation loss values\n",
    "plt.plot(history.history['loss'])\n",
    "plt.plot(history.history['val_loss'])\n",
    "plt.title('Model loss')\n",
    "plt.ylabel('Loss')\n",
    "plt.xlabel('Epoch')\n",
    "plt.legend(['Train', 'Test'], loc='upper left')\n",
    "plt.show()"
   ]
  },
  {
   "cell_type": "code",
   "execution_count": 0,
   "metadata": {
    "colab": {},
    "colab_type": "code",
    "id": "TmeX3XkNsQq3"
   },
   "outputs": [],
   "source": [
    "y_pred = model.predict(X)\n",
    "def maxpos(li):\n",
    "      if (li[1]>li[0]) and (li[1]>li[2])  :\n",
    "        return 1\n",
    "      if (li[2]>li[0]) and (li[2]>li[1])  :\n",
    "        return 2     \n",
    "      return 0\n",
    "y_pre=[maxpos(y) for y in y_pred]\n",
    "y_tes=[maxpos(y) for y in Y]"
   ]
  },
  {
   "cell_type": "code",
   "execution_count": 24,
   "metadata": {
    "colab": {
     "base_uri": "https://localhost:8080/",
     "height": 70
    },
    "colab_type": "code",
    "id": "nysgimsIr7vc",
    "outputId": "d2ec711e-e80f-4870-8655-cae07c885332"
   },
   "outputs": [
    {
     "data": {
      "text/plain": [
       "array([[107,   5,  13],\n",
       "       [  2, 121,  13],\n",
       "       [  5,   8, 359]])"
      ]
     },
     "execution_count": 24,
     "metadata": {
      "tags": []
     },
     "output_type": "execute_result"
    }
   ],
   "source": [
    "confusion_matrix(y_true=y_tes,y_pred=y_pre)"
   ]
  },
  {
   "cell_type": "code",
   "execution_count": 0,
   "metadata": {
    "colab": {},
    "colab_type": "code",
    "id": "LoEmYUS2PvEV"
   },
   "outputs": [],
   "source": [
    "model.save('VGG-ish_74_ex65.model')"
   ]
  }
 ],
 "metadata": {
  "accelerator": "GPU",
  "colab": {
   "collapsed_sections": [],
   "name": "audio_classifier_ex110.ipynb",
   "provenance": [],
   "version": "0.3.2"
  },
  "kernelspec": {
   "display_name": "Python 3",
   "language": "python",
   "name": "python3"
  },
  "language_info": {
   "codemirror_mode": {
    "name": "ipython",
    "version": 3
   },
   "file_extension": ".py",
   "mimetype": "text/x-python",
   "name": "python",
   "nbconvert_exporter": "python",
   "pygments_lexer": "ipython3",
   "version": "3.6.5"
  }
 },
 "nbformat": 4,
 "nbformat_minor": 1
}

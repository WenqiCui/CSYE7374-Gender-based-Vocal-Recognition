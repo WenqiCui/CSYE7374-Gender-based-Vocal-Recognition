{
 "cells": [
  {
   "cell_type": "code",
   "execution_count": 0,
   "metadata": {
    "colab": {},
    "colab_type": "code",
    "id": "alqu6qvi2HXO"
   },
   "outputs": [],
   "source": [
    "import os\n",
    "from Audio_reader import readtf\n",
    "from getman import getmanlist\n",
    "import gc\n",
    "import numpy as np\n",
    "import pandas as pd\n",
    "import pickle\n",
    "from keras.layers import Dense, Input, Dropout,Flatten,MaxPooling1D,SpatialDropout2D\n",
    "from keras.layers import Conv1D, MaxPooling2D,BatchNormalization,Conv2D\n",
    "from keras.models import Model\n",
    "from keras.models import Sequential\n",
    "from keras import optimizers\n",
    "from keras.utils import to_categorical\n",
    "import matplotlib.pyplot as plt\n",
    "from keras.callbacks import ReduceLROnPlateau, EarlyStopping\n",
    "from keras import regularizers\n",
    "from sklearn.metrics import confusion_matrix"
   ]
  },
  {
   "cell_type": "code",
   "execution_count": 0,
   "metadata": {
    "colab": {},
    "colab_type": "code",
    "id": "eBa8rJok2r6V"
   },
   "outputs": [],
   "source": [
    "def check(y):\n",
    "    if 74 in y:\n",
    "        return 0 \n",
    "    #male\n",
    "    if 1 in y:\n",
    "        return 1\n",
    "    #female\n",
    "    if 2 in y:\n",
    "        return 2\n",
    "    #child\n",
    "    if 3 in y:\n",
    "        return 3\n",
    "    return 0"
   ]
  },
  {
   "cell_type": "code",
   "execution_count": 0,
   "metadata": {
    "colab": {},
    "colab_type": "code",
    "id": "gwVlmq5k2uiT"
   },
   "outputs": [],
   "source": [
    "X = []\n",
    "Y = [] \n",
    "with open(\"X_list_eval.pickle\",\"rb\") as xf:\n",
    "    X.extend(pickle.load(xf))\n",
    "with open(\"Y_list_eval.pickle\",\"rb\") as xf:\n",
    "    Y.extend(pickle.load(xf))\n",
    "      \n",
    "with open(\"X_list.pickle\",\"rb\") as xf:\n",
    "    X.extend(pickle.load(xf))\n",
    "with open(\"Y_list.pickle\",\"rb\") as xf:\n",
    "    Y.extend(pickle.load(xf))\n",
    "\n",
    "X=np.array(X)\n",
    "Y=np.array(Y)  \n",
    "\n",
    "X = X.astype('float32')    \n",
    "X /= 255\n",
    "\n"
   ]
  },
  {
   "cell_type": "code",
   "execution_count": 0,
   "metadata": {
    "colab": {},
    "colab_type": "code",
    "id": "sSOYwXU5ABzI"
   },
   "outputs": [],
   "source": [
    "learning_rate=0.001\n",
    "decay=0.000001\n",
    "momentum=0.99\n",
    "dropout_rate = 0.3\n",
    "\n",
    "rglrzr = regularizers.l2(0.002)"
   ]
  },
  {
   "cell_type": "code",
   "execution_count": 64,
   "metadata": {
    "colab": {
     "base_uri": "https://localhost:8080/",
     "height": 1172
    },
    "colab_type": "code",
    "id": "yZr9ezVi22SF",
    "outputId": "655b572e-8359-4797-f288-c15af68f6ebf"
   },
   "outputs": [
    {
     "name": "stdout",
     "output_type": "stream",
     "text": [
      "_________________________________________________________________\n",
      "Layer (type)                 Output Shape              Param #   \n",
      "=================================================================\n",
      "conv2d_134 (Conv2D)          (None, 10, 128, 64)       640       \n",
      "_________________________________________________________________\n",
      "batch_normalization_134 (Bat (None, 10, 128, 64)       256       \n",
      "_________________________________________________________________\n",
      "max_pooling2d_56 (MaxPooling (None, 5, 64, 64)         0         \n",
      "_________________________________________________________________\n",
      "dropout_31 (Dropout)         (None, 5, 64, 64)         0         \n",
      "_________________________________________________________________\n",
      "conv2d_135 (Conv2D)          (None, 5, 64, 128)        73856     \n",
      "_________________________________________________________________\n",
      "batch_normalization_135 (Bat (None, 5, 64, 128)        512       \n",
      "_________________________________________________________________\n",
      "max_pooling2d_57 (MaxPooling (None, 5, 32, 128)        0         \n",
      "_________________________________________________________________\n",
      "dropout_32 (Dropout)         (None, 5, 32, 128)        0         \n",
      "_________________________________________________________________\n",
      "conv2d_136 (Conv2D)          (None, 5, 32, 256)        295168    \n",
      "_________________________________________________________________\n",
      "batch_normalization_136 (Bat (None, 5, 32, 256)        1024      \n",
      "_________________________________________________________________\n",
      "conv2d_137 (Conv2D)          (None, 5, 32, 256)        590080    \n",
      "_________________________________________________________________\n",
      "batch_normalization_137 (Bat (None, 5, 32, 256)        1024      \n",
      "_________________________________________________________________\n",
      "max_pooling2d_58 (MaxPooling (None, 2, 16, 256)        0         \n",
      "_________________________________________________________________\n",
      "dropout_33 (Dropout)         (None, 2, 16, 256)        0         \n",
      "_________________________________________________________________\n",
      "conv2d_138 (Conv2D)          (None, 2, 16, 512)        1180160   \n",
      "_________________________________________________________________\n",
      "batch_normalization_138 (Bat (None, 2, 16, 512)        2048      \n",
      "_________________________________________________________________\n",
      "conv2d_139 (Conv2D)          (None, 2, 16, 512)        2359808   \n",
      "_________________________________________________________________\n",
      "batch_normalization_139 (Bat (None, 2, 16, 512)        2048      \n",
      "_________________________________________________________________\n",
      "max_pooling2d_59 (MaxPooling (None, 2, 8, 512)         0         \n",
      "_________________________________________________________________\n",
      "dropout_34 (Dropout)         (None, 2, 8, 512)         0         \n",
      "_________________________________________________________________\n",
      "conv2d_140 (Conv2D)          (None, 2, 8, 512)         2359808   \n",
      "_________________________________________________________________\n",
      "batch_normalization_140 (Bat (None, 2, 8, 512)         2048      \n",
      "_________________________________________________________________\n",
      "conv2d_141 (Conv2D)          (None, 2, 8, 512)         2359808   \n",
      "_________________________________________________________________\n",
      "batch_normalization_141 (Bat (None, 2, 8, 512)         2048      \n",
      "_________________________________________________________________\n",
      "max_pooling2d_60 (MaxPooling (None, 1, 4, 512)         0         \n",
      "_________________________________________________________________\n",
      "dropout_35 (Dropout)         (None, 1, 4, 512)         0         \n",
      "_________________________________________________________________\n",
      "flatten_12 (Flatten)         (None, 2048)              0         \n",
      "_________________________________________________________________\n",
      "dense_23 (Dense)             (None, 128)               262272    \n",
      "_________________________________________________________________\n",
      "dense_24 (Dense)             (None, 3)                 387       \n",
      "=================================================================\n",
      "Total params: 9,492,995\n",
      "Trainable params: 9,487,491\n",
      "Non-trainable params: 5,504\n",
      "_________________________________________________________________\n"
     ]
    }
   ],
   "source": [
    "model = Sequential()\n",
    "model.add(Conv2D(64, (3, 3), padding='same',activation='relu',input_shape=X.shape[1:]))\n",
    "model.add(BatchNormalization())\n",
    "\n",
    "model.add(MaxPooling2D(pool_size=(2, 2)))\n",
    "model.add(Dropout(rate=dropout_rate))\n",
    "\n",
    "model.add(Conv2D(128, (3, 3), padding='same',activation='relu',bias_regularizer=rglrzr))\n",
    "model.add(BatchNormalization())\n",
    "\n",
    "model.add(MaxPooling2D(pool_size=(1, 2)))\n",
    "model.add(Dropout(rate=dropout_rate))\n",
    "\n",
    "\n",
    "\n",
    "model.add(Conv2D(256, (3, 3), padding='same',activation='relu',bias_regularizer=rglrzr))\n",
    "model.add(BatchNormalization())\n",
    "model.add(Conv2D(256, (3, 3), padding='same',activation='relu',bias_regularizer=rglrzr))\n",
    "model.add(BatchNormalization())\n",
    "\n",
    "model.add(MaxPooling2D(pool_size=(2, 2)))\n",
    "model.add(Dropout(rate=dropout_rate))\n",
    "\n",
    "\n",
    "model.add(Conv2D(512, (3, 3), padding='same',activation='relu',bias_regularizer=rglrzr))\n",
    "model.add(BatchNormalization())\n",
    "model.add(Conv2D(512, (3, 3), padding='same',activation='relu',bias_regularizer=rglrzr))\n",
    "model.add(BatchNormalization())\n",
    "\n",
    "model.add(MaxPooling2D(pool_size=(1, 2)))\n",
    "model.add(Dropout(rate=dropout_rate))\n",
    "\n",
    "\n",
    "\n",
    "model.add(Conv2D(512, (3, 3), padding='same',activation='relu',bias_regularizer=rglrzr))\n",
    "model.add(BatchNormalization())\n",
    "model.add(Conv2D(512, (3, 3), padding='same',activation='relu',bias_regularizer=rglrzr))\n",
    "model.add(BatchNormalization())\n",
    "\n",
    "model.add(MaxPooling2D(pool_size=(2, 2)))\n",
    "model.add(Dropout(rate=dropout_rate))\n",
    "\n",
    "\n",
    "\n",
    "\n",
    "model.add(Flatten())\n",
    "model.add(Dense(128,activation='relu'))\n",
    "model.add(Dense(3,activation='softmax'))\n",
    "model.summary()\n"
   ]
  },
  {
   "cell_type": "code",
   "execution_count": 0,
   "metadata": {
    "colab": {},
    "colab_type": "code",
    "id": "MDFRkgSGaW7U"
   },
   "outputs": [],
   "source": [
    "\n",
    "optimizer = optimizers.SGD(lr=learning_rate,momentum=momentum,decay=decay)\n",
    "model.compile(loss='categorical_crossentropy',\n",
    "              optimizer=optimizer, \n",
    "              metrics=['accuracy'])"
   ]
  },
  {
   "cell_type": "code",
   "execution_count": 0,
   "metadata": {
    "colab": {},
    "colab_type": "code",
    "id": "H1pol6Jx8VZC"
   },
   "outputs": [],
   "source": [
    "cb=[]\n",
    "\n",
    "#reduce_lr = ReduceLROnPlateau(monitor='val_loss', factor=0.8, patience=3, verbose=0, mode='auto')\n",
    "early_stopping = EarlyStopping(monitor='acc', min_delta=0, patience=30, verbose=0, mode='auto', baseline=None, restore_best_weights=True)\n",
    "\n",
    "#cb.append(reduce_lr)\n",
    "cb.append(early_stopping)"
   ]
  },
  {
   "cell_type": "code",
   "execution_count": 68,
   "metadata": {
    "colab": {
     "base_uri": "https://localhost:8080/",
     "height": 3768
    },
    "colab_type": "code",
    "id": "Ytxt_BJs268t",
    "outputId": "fe16e38d-ac67-4399-e15d-16eb4f0f2f22"
   },
   "outputs": [
    {
     "name": "stdout",
     "output_type": "stream",
     "text": [
      "Train on 443 samples, validate on 190 samples\n",
      "Epoch 1/200\n",
      " - 9s - loss: 2.2520 - acc: 0.4018 - val_loss: 1.0396 - val_acc: 0.5368\n",
      "Epoch 2/200\n",
      " - 1s - loss: 1.2770 - acc: 0.5305 - val_loss: 6.0390 - val_acc: 0.5789\n",
      "Epoch 3/200\n",
      " - 1s - loss: 1.0306 - acc: 0.5237 - val_loss: 4.1757 - val_acc: 0.5789\n",
      "Epoch 4/200\n",
      " - 1s - loss: 0.9302 - acc: 0.5801 - val_loss: 6.7099 - val_acc: 0.5789\n",
      "Epoch 5/200\n",
      " - 1s - loss: 0.9285 - acc: 0.6185 - val_loss: 12.4705 - val_acc: 0.2263\n",
      "Epoch 6/200\n",
      " - 1s - loss: 0.9001 - acc: 0.6117 - val_loss: 6.2114 - val_acc: 0.2263\n",
      "Epoch 7/200\n",
      " - 1s - loss: 0.8747 - acc: 0.6095 - val_loss: 3.8915 - val_acc: 0.5789\n",
      "Epoch 8/200\n",
      " - 1s - loss: 0.8588 - acc: 0.6208 - val_loss: 1.1314 - val_acc: 0.5789\n",
      "Epoch 9/200\n",
      " - 1s - loss: 0.8365 - acc: 0.6388 - val_loss: 1.3493 - val_acc: 0.5789\n",
      "Epoch 10/200\n",
      " - 1s - loss: 0.8309 - acc: 0.6140 - val_loss: 2.1156 - val_acc: 0.5789\n",
      "Epoch 11/200\n",
      " - 1s - loss: 0.7980 - acc: 0.6388 - val_loss: 1.3937 - val_acc: 0.5789\n",
      "Epoch 12/200\n",
      " - 1s - loss: 0.8177 - acc: 0.6388 - val_loss: 1.2036 - val_acc: 0.5789\n",
      "Epoch 13/200\n",
      " - 1s - loss: 0.7638 - acc: 0.6637 - val_loss: 1.0826 - val_acc: 0.5789\n",
      "Epoch 14/200\n",
      " - 1s - loss: 0.7731 - acc: 0.6659 - val_loss: 1.0772 - val_acc: 0.5789\n",
      "Epoch 15/200\n",
      " - 1s - loss: 0.7397 - acc: 0.6862 - val_loss: 1.0701 - val_acc: 0.5789\n",
      "Epoch 16/200\n",
      " - 1s - loss: 0.7337 - acc: 0.6772 - val_loss: 1.0549 - val_acc: 0.5789\n",
      "Epoch 17/200\n",
      " - 1s - loss: 0.7600 - acc: 0.6501 - val_loss: 1.0230 - val_acc: 0.5789\n",
      "Epoch 18/200\n",
      " - 1s - loss: 0.7054 - acc: 0.6907 - val_loss: 1.1028 - val_acc: 0.5789\n",
      "Epoch 19/200\n",
      " - 1s - loss: 0.6832 - acc: 0.6953 - val_loss: 1.0489 - val_acc: 0.5789\n",
      "Epoch 20/200\n",
      " - 1s - loss: 0.6878 - acc: 0.6749 - val_loss: 1.2062 - val_acc: 0.4263\n",
      "Epoch 21/200\n",
      " - 1s - loss: 0.6580 - acc: 0.6998 - val_loss: 1.2490 - val_acc: 0.3263\n",
      "Epoch 22/200\n",
      " - 1s - loss: 0.5940 - acc: 0.7427 - val_loss: 1.2317 - val_acc: 0.5421\n",
      "Epoch 23/200\n",
      " - 1s - loss: 0.5954 - acc: 0.7585 - val_loss: 1.2707 - val_acc: 0.6000\n",
      "Epoch 24/200\n",
      " - 1s - loss: 0.5509 - acc: 0.7630 - val_loss: 1.1573 - val_acc: 0.5684\n",
      "Epoch 25/200\n",
      " - 1s - loss: 0.5303 - acc: 0.7878 - val_loss: 1.1944 - val_acc: 0.5316\n",
      "Epoch 26/200\n",
      " - 1s - loss: 0.4968 - acc: 0.7878 - val_loss: 1.3873 - val_acc: 0.6368\n",
      "Epoch 27/200\n",
      " - 1s - loss: 0.4525 - acc: 0.8014 - val_loss: 1.4171 - val_acc: 0.5684\n",
      "Epoch 28/200\n",
      " - 1s - loss: 0.4164 - acc: 0.8194 - val_loss: 1.4139 - val_acc: 0.5895\n",
      "Epoch 29/200\n",
      " - 1s - loss: 0.4535 - acc: 0.8262 - val_loss: 1.5174 - val_acc: 0.6263\n",
      "Epoch 30/200\n",
      " - 1s - loss: 0.4014 - acc: 0.8149 - val_loss: 1.2766 - val_acc: 0.6368\n",
      "Epoch 31/200\n",
      " - 1s - loss: 0.3623 - acc: 0.8442 - val_loss: 1.4610 - val_acc: 0.6263\n",
      "Epoch 32/200\n",
      " - 1s - loss: 0.3642 - acc: 0.8420 - val_loss: 1.3025 - val_acc: 0.6474\n",
      "Epoch 33/200\n",
      " - 1s - loss: 0.3349 - acc: 0.8600 - val_loss: 1.4558 - val_acc: 0.6474\n",
      "Epoch 34/200\n",
      " - 1s - loss: 0.3564 - acc: 0.8420 - val_loss: 1.8794 - val_acc: 0.6211\n",
      "Epoch 35/200\n",
      " - 1s - loss: 0.3396 - acc: 0.8578 - val_loss: 1.6325 - val_acc: 0.6474\n",
      "Epoch 36/200\n",
      " - 1s - loss: 0.3017 - acc: 0.8781 - val_loss: 1.8202 - val_acc: 0.5842\n",
      "Epoch 37/200\n",
      " - 1s - loss: 0.3300 - acc: 0.8646 - val_loss: 1.5655 - val_acc: 0.6579\n",
      "Epoch 38/200\n",
      " - 1s - loss: 0.2923 - acc: 0.9097 - val_loss: 1.7550 - val_acc: 0.6579\n",
      "Epoch 39/200\n",
      " - 1s - loss: 0.2617 - acc: 0.8894 - val_loss: 1.8931 - val_acc: 0.6053\n",
      "Epoch 40/200\n",
      " - 1s - loss: 0.2561 - acc: 0.9074 - val_loss: 1.6077 - val_acc: 0.6421\n",
      "Epoch 41/200\n",
      " - 1s - loss: 0.2470 - acc: 0.9052 - val_loss: 1.6073 - val_acc: 0.6474\n",
      "Epoch 42/200\n",
      " - 1s - loss: 0.1976 - acc: 0.9210 - val_loss: 1.6786 - val_acc: 0.6632\n",
      "Epoch 43/200\n",
      " - 1s - loss: 0.2882 - acc: 0.9074 - val_loss: 1.6661 - val_acc: 0.6474\n",
      "Epoch 44/200\n",
      " - 1s - loss: 0.1912 - acc: 0.9255 - val_loss: 1.8149 - val_acc: 0.6526\n",
      "Epoch 45/200\n",
      " - 1s - loss: 0.2039 - acc: 0.9074 - val_loss: 1.8025 - val_acc: 0.6632\n",
      "Epoch 46/200\n",
      " - 1s - loss: 0.1343 - acc: 0.9391 - val_loss: 1.7584 - val_acc: 0.6474\n",
      "Epoch 47/200\n",
      " - 1s - loss: 0.1779 - acc: 0.9368 - val_loss: 1.9055 - val_acc: 0.6632\n",
      "Epoch 48/200\n",
      " - 1s - loss: 0.1253 - acc: 0.9503 - val_loss: 1.8165 - val_acc: 0.6737\n",
      "Epoch 49/200\n",
      " - 1s - loss: 0.1060 - acc: 0.9616 - val_loss: 1.7735 - val_acc: 0.6789\n",
      "Epoch 50/200\n",
      " - 1s - loss: 0.1167 - acc: 0.9549 - val_loss: 1.7167 - val_acc: 0.7053\n",
      "Epoch 51/200\n",
      " - 1s - loss: 0.1330 - acc: 0.9503 - val_loss: 1.7954 - val_acc: 0.6842\n",
      "Epoch 52/200\n",
      " - 1s - loss: 0.0909 - acc: 0.9639 - val_loss: 1.8637 - val_acc: 0.6789\n",
      "Epoch 53/200\n",
      " - 1s - loss: 0.1239 - acc: 0.9571 - val_loss: 2.0235 - val_acc: 0.7000\n",
      "Epoch 54/200\n",
      " - 1s - loss: 0.1346 - acc: 0.9549 - val_loss: 2.0828 - val_acc: 0.6947\n",
      "Epoch 55/200\n",
      " - 1s - loss: 0.0691 - acc: 0.9729 - val_loss: 1.8749 - val_acc: 0.6789\n",
      "Epoch 56/200\n",
      " - 1s - loss: 0.1319 - acc: 0.9639 - val_loss: 1.8962 - val_acc: 0.6737\n",
      "Epoch 57/200\n",
      " - 1s - loss: 0.0745 - acc: 0.9752 - val_loss: 2.0491 - val_acc: 0.6895\n",
      "Epoch 58/200\n",
      " - 1s - loss: 0.0912 - acc: 0.9661 - val_loss: 2.0643 - val_acc: 0.7053\n",
      "Epoch 59/200\n",
      " - 1s - loss: 0.0938 - acc: 0.9684 - val_loss: 2.0875 - val_acc: 0.6895\n",
      "Epoch 60/200\n",
      " - 1s - loss: 0.0769 - acc: 0.9684 - val_loss: 2.0366 - val_acc: 0.6789\n",
      "Epoch 61/200\n",
      " - 1s - loss: 0.0872 - acc: 0.9684 - val_loss: 2.1886 - val_acc: 0.6684\n",
      "Epoch 62/200\n",
      " - 1s - loss: 0.0808 - acc: 0.9639 - val_loss: 2.2922 - val_acc: 0.6737\n",
      "Epoch 63/200\n",
      " - 1s - loss: 0.0880 - acc: 0.9594 - val_loss: 2.1518 - val_acc: 0.6895\n",
      "Epoch 64/200\n",
      " - 1s - loss: 0.0444 - acc: 0.9842 - val_loss: 2.2676 - val_acc: 0.6895\n",
      "Epoch 65/200\n",
      " - 1s - loss: 0.0677 - acc: 0.9752 - val_loss: 2.0677 - val_acc: 0.7053\n",
      "Epoch 66/200\n",
      " - 1s - loss: 0.0552 - acc: 0.9842 - val_loss: 1.9496 - val_acc: 0.7053\n",
      "Epoch 67/200\n",
      " - 1s - loss: 0.0475 - acc: 0.9887 - val_loss: 2.0460 - val_acc: 0.6895\n",
      "Epoch 68/200\n",
      " - 1s - loss: 0.0728 - acc: 0.9842 - val_loss: 2.2048 - val_acc: 0.6789\n",
      "Epoch 69/200\n",
      " - 1s - loss: 0.0654 - acc: 0.9842 - val_loss: 2.0412 - val_acc: 0.6789\n",
      "Epoch 70/200\n",
      " - 1s - loss: 0.0306 - acc: 0.9887 - val_loss: 1.9906 - val_acc: 0.6737\n",
      "Epoch 71/200\n",
      " - 1s - loss: 0.0730 - acc: 0.9865 - val_loss: 2.1759 - val_acc: 0.6895\n",
      "Epoch 72/200\n",
      " - 1s - loss: 0.0306 - acc: 0.9887 - val_loss: 2.4146 - val_acc: 0.7000\n",
      "Epoch 73/200\n",
      " - 1s - loss: 0.0507 - acc: 0.9774 - val_loss: 2.5348 - val_acc: 0.6684\n",
      "Epoch 74/200\n",
      " - 1s - loss: 0.0336 - acc: 0.9819 - val_loss: 2.4737 - val_acc: 0.6895\n",
      "Epoch 75/200\n",
      " - 1s - loss: 0.0196 - acc: 1.0000 - val_loss: 2.3726 - val_acc: 0.7000\n",
      "Epoch 76/200\n",
      " - 1s - loss: 0.0403 - acc: 0.9887 - val_loss: 2.3517 - val_acc: 0.7105\n",
      "Epoch 77/200\n",
      " - 1s - loss: 0.0452 - acc: 0.9865 - val_loss: 2.3297 - val_acc: 0.7000\n",
      "Epoch 78/200\n",
      " - 1s - loss: 0.0458 - acc: 0.9842 - val_loss: 2.3784 - val_acc: 0.7000\n",
      "Epoch 79/200\n",
      " - 1s - loss: 0.0548 - acc: 0.9842 - val_loss: 2.4171 - val_acc: 0.6789\n",
      "Epoch 80/200\n",
      " - 1s - loss: 0.0261 - acc: 0.9865 - val_loss: 2.4855 - val_acc: 0.6947\n",
      "Epoch 81/200\n",
      " - 1s - loss: 0.0949 - acc: 0.9684 - val_loss: 2.4785 - val_acc: 0.7000\n",
      "Epoch 82/200\n",
      " - 1s - loss: 0.0455 - acc: 0.9842 - val_loss: 2.4276 - val_acc: 0.7316\n",
      "Epoch 83/200\n",
      " - 1s - loss: 0.0356 - acc: 0.9887 - val_loss: 2.9101 - val_acc: 0.6842\n",
      "Epoch 84/200\n",
      " - 1s - loss: 0.0529 - acc: 0.9819 - val_loss: 2.9422 - val_acc: 0.6842\n",
      "Epoch 85/200\n",
      " - 1s - loss: 0.0365 - acc: 0.9865 - val_loss: 2.6677 - val_acc: 0.6947\n",
      "Epoch 86/200\n",
      " - 1s - loss: 0.0131 - acc: 0.9955 - val_loss: 2.6527 - val_acc: 0.6895\n",
      "Epoch 87/200\n",
      " - 1s - loss: 0.0559 - acc: 0.9774 - val_loss: 2.7918 - val_acc: 0.6895\n",
      "Epoch 88/200\n",
      " - 1s - loss: 0.0265 - acc: 0.9910 - val_loss: 2.8928 - val_acc: 0.7000\n",
      "Epoch 89/200\n",
      " - 1s - loss: 0.0177 - acc: 0.9932 - val_loss: 2.8910 - val_acc: 0.7053\n",
      "Epoch 90/200\n",
      " - 1s - loss: 0.0485 - acc: 0.9887 - val_loss: 2.9068 - val_acc: 0.7053\n",
      "Epoch 91/200\n",
      " - 1s - loss: 0.0286 - acc: 0.9910 - val_loss: 2.8398 - val_acc: 0.7053\n",
      "Epoch 92/200\n",
      " - 1s - loss: 0.0403 - acc: 0.9932 - val_loss: 2.7493 - val_acc: 0.7053\n",
      "Epoch 93/200\n",
      " - 1s - loss: 0.0231 - acc: 0.9887 - val_loss: 2.6689 - val_acc: 0.7105\n",
      "Epoch 94/200\n",
      " - 1s - loss: 0.0452 - acc: 0.9865 - val_loss: 2.7040 - val_acc: 0.7053\n",
      "Epoch 95/200\n",
      " - 1s - loss: 0.0441 - acc: 0.9865 - val_loss: 2.7525 - val_acc: 0.7211\n",
      "Epoch 96/200\n",
      " - 1s - loss: 0.0195 - acc: 0.9932 - val_loss: 2.7746 - val_acc: 0.7158\n",
      "Epoch 97/200\n",
      " - 1s - loss: 0.0433 - acc: 0.9865 - val_loss: 2.7961 - val_acc: 0.7421\n",
      "Epoch 98/200\n",
      " - 1s - loss: 0.0647 - acc: 0.9887 - val_loss: 2.8152 - val_acc: 0.7368\n",
      "Epoch 99/200\n",
      " - 1s - loss: 0.1055 - acc: 0.9842 - val_loss: 2.5878 - val_acc: 0.7263\n",
      "Epoch 100/200\n",
      " - 1s - loss: 0.0590 - acc: 0.9910 - val_loss: 2.1936 - val_acc: 0.7158\n",
      "Epoch 101/200\n",
      " - 1s - loss: 0.0545 - acc: 0.9910 - val_loss: 1.9135 - val_acc: 0.7211\n",
      "Epoch 102/200\n",
      " - 1s - loss: 0.0652 - acc: 0.9797 - val_loss: 1.9166 - val_acc: 0.7211\n",
      "Epoch 103/200\n",
      " - 1s - loss: 0.0481 - acc: 0.9797 - val_loss: 2.2289 - val_acc: 0.7211\n",
      "Epoch 104/200\n",
      " - 1s - loss: 0.0525 - acc: 0.9887 - val_loss: 2.3158 - val_acc: 0.7474\n",
      "Epoch 105/200\n",
      " - 1s - loss: 0.0555 - acc: 0.9774 - val_loss: 2.3106 - val_acc: 0.7421\n"
     ]
    }
   ],
   "source": [
    "history=model.fit(X, Y,\n",
    "          batch_size=32,\n",
    "          epochs=200,\n",
    "          verbose=2,\n",
    "          callbacks=cb,\n",
    "          validation_split=0.3,\n",
    "          shuffle=True)"
   ]
  },
  {
   "cell_type": "code",
   "execution_count": 70,
   "metadata": {
    "colab": {
     "base_uri": "https://localhost:8080/",
     "height": 735
    },
    "colab_type": "code",
    "id": "uEI2Avtc2-k6",
    "outputId": "543f1561-3575-4ffe-e2f8-63e54642544f"
   },
   "outputs": [
    {
     "data": {
      "image/png": "[encoded data removed]",
      "text/plain": [
       "<matplotlib.figure.Figure at 0x7f0397870be0>"
      ]
     },
     "metadata": {
      "tags": []
     },
     "output_type": "display_data"
    },
    {
     "data": {
      "image/png": "[encoded data removed]",
      "text/plain": [
       "<matplotlib.figure.Figure at 0x7f03963f8c88>"
      ]
     },
     "metadata": {
      "tags": []
     },
     "output_type": "display_data"
    }
   ],
   "source": [
    "plt.plot(history.history['acc'])\n",
    "plt.plot(history.history['val_acc'])\n",
    "plt.title('Model accuracy')\n",
    "plt.ylabel('Accuracy')\n",
    "plt.xlabel('Epoch')\n",
    "plt.legend(['Train', 'Test'], loc='upper left')\n",
    "plt.show()\n",
    "\n",
    "# Plot training & validation loss values\n",
    "plt.plot(history.history['loss'])\n",
    "plt.plot(history.history['val_loss'])\n",
    "plt.title('Model loss')\n",
    "plt.ylabel('Loss')\n",
    "plt.xlabel('Epoch')\n",
    "plt.legend(['Train', 'Test'], loc='upper left')\n",
    "plt.show()"
   ]
  },
  {
   "cell_type": "code",
   "execution_count": 0,
   "metadata": {
    "colab": {},
    "colab_type": "code",
    "id": "TmeX3XkNsQq3"
   },
   "outputs": [],
   "source": [
    "y_pred = model.predict(X)\n",
    "def maxpos(li):\n",
    "      if (li[1]>li[0]) and (li[1]>li[2])  :\n",
    "        return 1\n",
    "      if (li[2]>li[0]) and (li[2]>li[1])  :\n",
    "        return 2     \n",
    "      return 0\n",
    "y_pre=[maxpos(y) for y in y_pred]\n",
    "y_tes=[maxpos(y) for y in Y]"
   ]
  },
  {
   "cell_type": "code",
   "execution_count": 72,
   "metadata": {
    "colab": {
     "base_uri": "https://localhost:8080/",
     "height": 70
    },
    "colab_type": "code",
    "id": "nysgimsIr7vc",
    "outputId": "943a4dac-ec89-4ac9-9b94-ac8550ca3dfe"
   },
   "outputs": [
    {
     "data": {
      "text/plain": [
       "array([[109,   1,  15],\n",
       "       [ 11, 115,  10],\n",
       "       [ 12,   8, 352]])"
      ]
     },
     "execution_count": 72,
     "metadata": {
      "tags": []
     },
     "output_type": "execute_result"
    }
   ],
   "source": [
    "confusion_matrix(y_true=y_tes,y_pred=y_pre)"
   ]
  },
  {
   "cell_type": "code",
   "execution_count": 0,
   "metadata": {
    "colab": {},
    "colab_type": "code",
    "id": "LoEmYUS2PvEV"
   },
   "outputs": [],
   "source": [
    "model.save('VGG-ish_74_ex65.model')"
   ]
  }
 ],
 "metadata": {
  "accelerator": "GPU",
  "colab": {
   "collapsed_sections": [],
   "name": "audio_classifier_ex65.ipynb",
   "provenance": [],
   "version": "0.3.2"
  },
  "kernelspec": {
   "display_name": "Python 3",
   "language": "python",
   "name": "python3"
  },
  "language_info": {
   "codemirror_mode": {
    "name": "ipython",
    "version": 3
   },
   "file_extension": ".py",
   "mimetype": "text/x-python",
   "name": "python",
   "nbconvert_exporter": "python",
   "pygments_lexer": "ipython3",
   "version": "3.6.5"
  }
 },
 "nbformat": 4,
 "nbformat_minor": 1
}

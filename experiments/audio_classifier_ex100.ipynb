{
 "cells": [
  {
   "cell_type": "code",
   "execution_count": 0,
   "metadata": {
    "colab": {},
    "colab_type": "code",
    "id": "alqu6qvi2HXO"
   },
   "outputs": [],
   "source": [
    "import os\n",
    "from Audio_reader import readtf\n",
    "from getman import getmanlist\n",
    "import gc\n",
    "import numpy as np\n",
    "import pandas as pd\n",
    "import pickle\n",
    "from keras.layers import Dense, Input, Dropout,Flatten,MaxPooling1D,SpatialDropout2D,SpatialDropout1D\n",
    "from keras.layers import Conv1D, MaxPooling2D,BatchNormalization,Conv2D\n",
    "from keras.models import Model\n",
    "from keras.models import Sequential\n",
    "from keras import optimizers\n",
    "from keras.utils import to_categorical\n",
    "import matplotlib.pyplot as plt\n",
    "from keras.callbacks import ReduceLROnPlateau, EarlyStopping\n",
    "from keras import regularizers\n",
    "from sklearn.metrics import confusion_matrix"
   ]
  },
  {
   "cell_type": "code",
   "execution_count": 0,
   "metadata": {
    "colab": {},
    "colab_type": "code",
    "id": "eBa8rJok2r6V"
   },
   "outputs": [],
   "source": [
    "def check(y):\n",
    "    if 74 in y:\n",
    "        return 0 \n",
    "    #male\n",
    "    if 1 in y:\n",
    "        return 1\n",
    "    #female\n",
    "    if 2 in y:\n",
    "        return 2\n",
    "    #child\n",
    "    if 3 in y:\n",
    "        return 3\n",
    "    return 0"
   ]
  },
  {
   "cell_type": "code",
   "execution_count": 0,
   "metadata": {
    "colab": {},
    "colab_type": "code",
    "id": "gwVlmq5k2uiT"
   },
   "outputs": [],
   "source": [
    "X = []\n",
    "Y = [] \n",
    "with open(\"X_list_eval.pickle\",\"rb\") as xf:\n",
    "    X.extend(pickle.load(xf))\n",
    "with open(\"Y_list_eval.pickle\",\"rb\") as xf:\n",
    "    Y.extend(pickle.load(xf))\n",
    "      \n",
    "with open(\"X_list.pickle\",\"rb\") as xf:\n",
    "    X.extend(pickle.load(xf))\n",
    "with open(\"Y_list.pickle\",\"rb\") as xf:\n",
    "    Y.extend(pickle.load(xf))\n",
    "\n",
    "X=np.array(X)\n",
    "X=np.reshape(X,(X.shape[0],X.shape[1],X.shape[2]))\n",
    "\n",
    "Y=np.array(Y)  \n",
    "\n",
    "X = X.astype('float32')    \n",
    "X /= 255\n",
    "\n"
   ]
  },
  {
   "cell_type": "code",
   "execution_count": 0,
   "metadata": {
    "colab": {},
    "colab_type": "code",
    "id": "sSOYwXU5ABzI"
   },
   "outputs": [],
   "source": [
    "learning_rate=0.001\n",
    "decay=0.000001\n",
    "momentum=0.99\n",
    "dropout_rate = 0.3\n",
    "\n",
    "rglrzr = regularizers.l2(0.002)"
   ]
  },
  {
   "cell_type": "code",
   "execution_count": 18,
   "metadata": {
    "colab": {
     "base_uri": "https://localhost:8080/",
     "height": 746
    },
    "colab_type": "code",
    "id": "yZr9ezVi22SF",
    "outputId": "fe4dfab5-cda3-4b03-a198-7c5dc2d1ddf6"
   },
   "outputs": [
    {
     "name": "stdout",
     "output_type": "stream",
     "text": [
      "_________________________________________________________________\n",
      "Layer (type)                 Output Shape              Param #   \n",
      "=================================================================\n",
      "flatten_2 (Flatten)          (None, 1280)              0         \n",
      "_________________________________________________________________\n",
      "dense_3 (Dense)              (None, 1280)              1639680   \n",
      "_________________________________________________________________\n",
      "batch_normalization_16 (Batc (None, 1280)              5120      \n",
      "_________________________________________________________________\n",
      "dropout_7 (Dropout)          (None, 1280)              0         \n",
      "_________________________________________________________________\n",
      "dense_4 (Dense)              (None, 640)               819840    \n",
      "_________________________________________________________________\n",
      "batch_normalization_17 (Batc (None, 640)               2560      \n",
      "_________________________________________________________________\n",
      "dropout_8 (Dropout)          (None, 640)               0         \n",
      "_________________________________________________________________\n",
      "dense_5 (Dense)              (None, 320)               205120    \n",
      "_________________________________________________________________\n",
      "batch_normalization_18 (Batc (None, 320)               1280      \n",
      "_________________________________________________________________\n",
      "dropout_9 (Dropout)          (None, 320)               0         \n",
      "_________________________________________________________________\n",
      "dense_6 (Dense)              (None, 160)               51360     \n",
      "_________________________________________________________________\n",
      "batch_normalization_19 (Batc (None, 160)               640       \n",
      "_________________________________________________________________\n",
      "dropout_10 (Dropout)         (None, 160)               0         \n",
      "_________________________________________________________________\n",
      "dense_7 (Dense)              (None, 40)                6440      \n",
      "_________________________________________________________________\n",
      "batch_normalization_20 (Batc (None, 40)                160       \n",
      "_________________________________________________________________\n",
      "dropout_11 (Dropout)         (None, 40)                0         \n",
      "_________________________________________________________________\n",
      "dense_8 (Dense)              (None, 3)                 123       \n",
      "=================================================================\n",
      "Total params: 2,732,323\n",
      "Trainable params: 2,727,443\n",
      "Non-trainable params: 4,880\n",
      "_________________________________________________________________\n"
     ]
    }
   ],
   "source": [
    "\n",
    "model = Sequential()\n",
    "model.add(Flatten(input_shape=X.shape[1:]))\n",
    "\n",
    "model.add(Dense(1280,activation='relu'))\n",
    "model.add(BatchNormalization())\n",
    "model.add(Dropout(rate=dropout_rate))\n",
    "\n",
    "model.add(Dense(640,activation='relu'))\n",
    "model.add(BatchNormalization())\n",
    "model.add(Dropout(rate=dropout_rate))\n",
    "\n",
    "model.add(Dense(320,activation='relu'))\n",
    "model.add(BatchNormalization())\n",
    "model.add(Dropout(rate=dropout_rate))\n",
    "\n",
    "model.add(Dense(160,activation='relu'))\n",
    "model.add(BatchNormalization())\n",
    "model.add(Dropout(rate=dropout_rate))\n",
    "\n",
    "model.add(Dense(40,activation='relu'))\n",
    "model.add(BatchNormalization())\n",
    "model.add(Dropout(rate=dropout_rate))\n",
    "\n",
    "\n",
    "model.add(Dense(3,activation='softmax'))\n",
    "model.summary()\n"
   ]
  },
  {
   "cell_type": "code",
   "execution_count": 0,
   "metadata": {
    "colab": {},
    "colab_type": "code",
    "id": "MDFRkgSGaW7U"
   },
   "outputs": [],
   "source": [
    "\n",
    "optimizer = optimizers.SGD(lr=learning_rate,momentum=momentum,decay=decay)\n",
    "model.compile(loss='categorical_crossentropy',\n",
    "              optimizer=optimizer, \n",
    "              metrics=['accuracy'])"
   ]
  },
  {
   "cell_type": "code",
   "execution_count": 0,
   "metadata": {
    "colab": {},
    "colab_type": "code",
    "id": "H1pol6Jx8VZC"
   },
   "outputs": [],
   "source": [
    "cb=[]\n",
    "\n",
    "#reduce_lr = ReduceLROnPlateau(monitor='val_loss', factor=0.8, patience=3, verbose=0, mode='auto')\n",
    "early_stopping = EarlyStopping(monitor='acc', min_delta=0, patience=30, verbose=0, mode='auto', baseline=None, restore_best_weights=True)\n",
    "\n",
    "#cb.append(reduce_lr)\n",
    "cb.append(early_stopping)"
   ]
  },
  {
   "cell_type": "code",
   "execution_count": 21,
   "metadata": {
    "colab": {
     "base_uri": "https://localhost:8080/",
     "height": 2950
    },
    "colab_type": "code",
    "id": "Ytxt_BJs268t",
    "outputId": "bf9c5dc6-f9f4-4f3f-9a00-11c14066bf54"
   },
   "outputs": [
    {
     "name": "stdout",
     "output_type": "stream",
     "text": [
      "Train on 443 samples, validate on 190 samples\n",
      "Epoch 1/200\n",
      " - 2s - loss: 1.7924 - acc: 0.3363 - val_loss: 1.1323 - val_acc: 0.5158\n",
      "Epoch 2/200\n",
      " - 0s - loss: 1.2992 - acc: 0.4808 - val_loss: 1.4688 - val_acc: 0.4632\n",
      "Epoch 3/200\n",
      " - 0s - loss: 0.8789 - acc: 0.6185 - val_loss: 1.4712 - val_acc: 0.5526\n",
      "Epoch 4/200\n",
      " - 0s - loss: 0.5899 - acc: 0.7630 - val_loss: 1.3208 - val_acc: 0.6526\n",
      "Epoch 5/200\n",
      " - 0s - loss: 0.5258 - acc: 0.7856 - val_loss: 1.3038 - val_acc: 0.6632\n",
      "Epoch 6/200\n",
      " - 0s - loss: 0.4673 - acc: 0.8059 - val_loss: 1.2477 - val_acc: 0.6842\n",
      "Epoch 7/200\n",
      " - 0s - loss: 0.3760 - acc: 0.8420 - val_loss: 1.1966 - val_acc: 0.6789\n",
      "Epoch 8/200\n",
      " - 0s - loss: 0.3801 - acc: 0.8465 - val_loss: 1.1427 - val_acc: 0.6684\n",
      "Epoch 9/200\n",
      " - 0s - loss: 0.3234 - acc: 0.8668 - val_loss: 1.1175 - val_acc: 0.6684\n",
      "Epoch 10/200\n",
      " - 0s - loss: 0.2585 - acc: 0.8962 - val_loss: 1.1235 - val_acc: 0.6632\n",
      "Epoch 11/200\n",
      " - 0s - loss: 0.2258 - acc: 0.9052 - val_loss: 1.1537 - val_acc: 0.6579\n",
      "Epoch 12/200\n",
      " - 0s - loss: 0.1924 - acc: 0.9323 - val_loss: 1.1559 - val_acc: 0.6684\n",
      "Epoch 13/200\n",
      " - 0s - loss: 0.1495 - acc: 0.9549 - val_loss: 1.1894 - val_acc: 0.6526\n",
      "Epoch 14/200\n",
      " - 0s - loss: 0.1314 - acc: 0.9549 - val_loss: 1.2467 - val_acc: 0.6421\n",
      "Epoch 15/200\n",
      " - 0s - loss: 0.1553 - acc: 0.9526 - val_loss: 1.2404 - val_acc: 0.6421\n",
      "Epoch 16/200\n",
      " - 0s - loss: 0.0998 - acc: 0.9729 - val_loss: 1.2220 - val_acc: 0.6684\n",
      "Epoch 17/200\n",
      " - 0s - loss: 0.0590 - acc: 0.9842 - val_loss: 1.1861 - val_acc: 0.6947\n",
      "Epoch 18/200\n",
      " - 0s - loss: 0.0833 - acc: 0.9707 - val_loss: 1.1248 - val_acc: 0.6895\n",
      "Epoch 19/200\n",
      " - 0s - loss: 0.0418 - acc: 0.9887 - val_loss: 1.0823 - val_acc: 0.7158\n",
      "Epoch 20/200\n",
      " - 0s - loss: 0.0696 - acc: 0.9819 - val_loss: 1.0787 - val_acc: 0.7105\n",
      "Epoch 21/200\n",
      " - 0s - loss: 0.0656 - acc: 0.9774 - val_loss: 1.0628 - val_acc: 0.7263\n",
      "Epoch 22/200\n",
      " - 0s - loss: 0.0348 - acc: 0.9887 - val_loss: 1.0286 - val_acc: 0.7526\n",
      "Epoch 23/200\n",
      " - 0s - loss: 0.0394 - acc: 0.9842 - val_loss: 1.0293 - val_acc: 0.7632\n",
      "Epoch 24/200\n",
      " - 0s - loss: 0.0419 - acc: 0.9865 - val_loss: 1.0414 - val_acc: 0.7684\n",
      "Epoch 25/200\n",
      " - 0s - loss: 0.0256 - acc: 0.9910 - val_loss: 1.0618 - val_acc: 0.7737\n",
      "Epoch 26/200\n",
      " - 0s - loss: 0.0277 - acc: 0.9932 - val_loss: 1.0866 - val_acc: 0.7789\n",
      "Epoch 27/200\n",
      " - 0s - loss: 0.0541 - acc: 0.9865 - val_loss: 1.1152 - val_acc: 0.7895\n",
      "Epoch 28/200\n",
      " - 0s - loss: 0.0133 - acc: 0.9977 - val_loss: 1.1483 - val_acc: 0.7895\n",
      "Epoch 29/200\n",
      " - 0s - loss: 0.0269 - acc: 0.9932 - val_loss: 1.1726 - val_acc: 0.7947\n",
      "Epoch 30/200\n",
      " - 0s - loss: 0.0814 - acc: 0.9729 - val_loss: 1.1906 - val_acc: 0.7895\n",
      "Epoch 31/200\n",
      " - 0s - loss: 0.0212 - acc: 0.9932 - val_loss: 1.2034 - val_acc: 0.7895\n",
      "Epoch 32/200\n",
      " - 0s - loss: 0.0110 - acc: 0.9955 - val_loss: 1.2145 - val_acc: 0.7842\n",
      "Epoch 33/200\n",
      " - 0s - loss: 0.0147 - acc: 0.9955 - val_loss: 1.2319 - val_acc: 0.7842\n",
      "Epoch 34/200\n",
      " - 0s - loss: 0.0392 - acc: 0.9842 - val_loss: 1.2522 - val_acc: 0.7737\n",
      "Epoch 35/200\n",
      " - 0s - loss: 0.0214 - acc: 0.9932 - val_loss: 1.2702 - val_acc: 0.7789\n",
      "Epoch 36/200\n",
      " - 0s - loss: 0.0102 - acc: 0.9977 - val_loss: 1.2913 - val_acc: 0.7895\n",
      "Epoch 37/200\n",
      " - 0s - loss: 0.0424 - acc: 0.9842 - val_loss: 1.3051 - val_acc: 0.7895\n",
      "Epoch 38/200\n",
      " - 0s - loss: 0.0446 - acc: 0.9752 - val_loss: 1.3136 - val_acc: 0.7789\n",
      "Epoch 39/200\n",
      " - 0s - loss: 0.0182 - acc: 0.9910 - val_loss: 1.3347 - val_acc: 0.7684\n",
      "Epoch 40/200\n",
      " - 0s - loss: 0.0204 - acc: 0.9932 - val_loss: 1.3696 - val_acc: 0.7684\n",
      "Epoch 41/200\n",
      " - 0s - loss: 0.0357 - acc: 0.9865 - val_loss: 1.3997 - val_acc: 0.7579\n",
      "Epoch 42/200\n",
      " - 0s - loss: 0.0364 - acc: 0.9819 - val_loss: 1.4303 - val_acc: 0.7579\n",
      "Epoch 43/200\n",
      " - 0s - loss: 0.0136 - acc: 0.9955 - val_loss: 1.4518 - val_acc: 0.7474\n",
      "Epoch 44/200\n",
      " - 0s - loss: 0.0210 - acc: 0.9932 - val_loss: 1.4758 - val_acc: 0.7421\n",
      "Epoch 45/200\n",
      " - 0s - loss: 0.0510 - acc: 0.9774 - val_loss: 1.5094 - val_acc: 0.7421\n",
      "Epoch 46/200\n",
      " - 0s - loss: 0.0219 - acc: 0.9910 - val_loss: 1.5381 - val_acc: 0.7526\n",
      "Epoch 47/200\n",
      " - 0s - loss: 0.0157 - acc: 0.9955 - val_loss: 1.5744 - val_acc: 0.7579\n",
      "Epoch 48/200\n",
      " - 0s - loss: 0.0321 - acc: 0.9910 - val_loss: 1.5869 - val_acc: 0.7632\n",
      "Epoch 49/200\n",
      " - 0s - loss: 0.0169 - acc: 0.9955 - val_loss: 1.5827 - val_acc: 0.7632\n",
      "Epoch 50/200\n",
      " - 0s - loss: 0.0183 - acc: 0.9932 - val_loss: 1.5754 - val_acc: 0.7579\n",
      "Epoch 51/200\n",
      " - 0s - loss: 0.0380 - acc: 0.9865 - val_loss: 1.5728 - val_acc: 0.7684\n",
      "Epoch 52/200\n",
      " - 0s - loss: 0.0087 - acc: 1.0000 - val_loss: 1.5690 - val_acc: 0.7579\n",
      "Epoch 53/200\n",
      " - 0s - loss: 0.0251 - acc: 0.9865 - val_loss: 1.5626 - val_acc: 0.7579\n",
      "Epoch 54/200\n",
      " - 0s - loss: 0.0333 - acc: 0.9932 - val_loss: 1.5396 - val_acc: 0.7684\n",
      "Epoch 55/200\n",
      " - 0s - loss: 0.0123 - acc: 0.9977 - val_loss: 1.5183 - val_acc: 0.7737\n",
      "Epoch 56/200\n",
      " - 0s - loss: 0.0176 - acc: 0.9955 - val_loss: 1.4793 - val_acc: 0.7737\n",
      "Epoch 57/200\n",
      " - 0s - loss: 0.0430 - acc: 0.9842 - val_loss: 1.4306 - val_acc: 0.7789\n",
      "Epoch 58/200\n",
      " - 0s - loss: 0.0138 - acc: 0.9977 - val_loss: 1.3880 - val_acc: 0.7632\n",
      "Epoch 59/200\n",
      " - 0s - loss: 0.0127 - acc: 0.9977 - val_loss: 1.3555 - val_acc: 0.7632\n",
      "Epoch 60/200\n",
      " - 0s - loss: 0.0281 - acc: 0.9865 - val_loss: 1.3382 - val_acc: 0.7632\n",
      "Epoch 61/200\n",
      " - 0s - loss: 0.0284 - acc: 0.9910 - val_loss: 1.3252 - val_acc: 0.7526\n",
      "Epoch 62/200\n",
      " - 0s - loss: 0.0034 - acc: 1.0000 - val_loss: 1.3047 - val_acc: 0.7632\n",
      "Epoch 63/200\n",
      " - 0s - loss: 0.0939 - acc: 0.9819 - val_loss: 1.2922 - val_acc: 0.7579\n",
      "Epoch 64/200\n",
      " - 0s - loss: 0.0230 - acc: 0.9865 - val_loss: 1.2807 - val_acc: 0.7684\n",
      "Epoch 65/200\n",
      " - 0s - loss: 0.0054 - acc: 0.9977 - val_loss: 1.2953 - val_acc: 0.7684\n",
      "Epoch 66/200\n",
      " - 0s - loss: 0.0528 - acc: 0.9842 - val_loss: 1.3036 - val_acc: 0.7632\n",
      "Epoch 67/200\n",
      " - 0s - loss: 0.0131 - acc: 0.9977 - val_loss: 1.2904 - val_acc: 0.7632\n",
      "Epoch 68/200\n",
      " - 0s - loss: 0.0082 - acc: 1.0000 - val_loss: 1.2869 - val_acc: 0.7632\n",
      "Epoch 69/200\n",
      " - 0s - loss: 0.0089 - acc: 0.9977 - val_loss: 1.2829 - val_acc: 0.7632\n",
      "Epoch 70/200\n",
      " - 0s - loss: 0.0301 - acc: 0.9910 - val_loss: 1.2740 - val_acc: 0.7684\n",
      "Epoch 71/200\n",
      " - 0s - loss: 0.0277 - acc: 0.9932 - val_loss: 1.2623 - val_acc: 0.7737\n",
      "Epoch 72/200\n",
      " - 0s - loss: 0.0225 - acc: 0.9910 - val_loss: 1.2600 - val_acc: 0.7842\n",
      "Epoch 73/200\n",
      " - 0s - loss: 0.0052 - acc: 1.0000 - val_loss: 1.2622 - val_acc: 0.7789\n",
      "Epoch 74/200\n",
      " - 0s - loss: 0.0035 - acc: 0.9977 - val_loss: 1.2699 - val_acc: 0.7895\n",
      "Epoch 75/200\n",
      " - 0s - loss: 0.0235 - acc: 0.9932 - val_loss: 1.2793 - val_acc: 0.7789\n",
      "Epoch 76/200\n",
      " - 0s - loss: 0.0619 - acc: 0.9865 - val_loss: 1.3029 - val_acc: 0.7842\n",
      "Epoch 77/200\n",
      " - 0s - loss: 0.0092 - acc: 0.9955 - val_loss: 1.3251 - val_acc: 0.7842\n",
      "Epoch 78/200\n",
      " - 0s - loss: 0.0185 - acc: 0.9910 - val_loss: 1.3420 - val_acc: 0.7789\n",
      "Epoch 79/200\n",
      " - 0s - loss: 0.0100 - acc: 0.9977 - val_loss: 1.3548 - val_acc: 0.7842\n",
      "Epoch 80/200\n",
      " - 0s - loss: 0.0216 - acc: 0.9955 - val_loss: 1.3621 - val_acc: 0.7842\n",
      "Epoch 81/200\n",
      " - 0s - loss: 0.0041 - acc: 1.0000 - val_loss: 1.3628 - val_acc: 0.7842\n",
      "Epoch 82/200\n",
      " - 0s - loss: 0.0086 - acc: 0.9977 - val_loss: 1.3696 - val_acc: 0.7842\n"
     ]
    }
   ],
   "source": [
    "history=model.fit(X, Y,\n",
    "          batch_size=32,\n",
    "          epochs=200,\n",
    "          verbose=2,\n",
    "          callbacks=cb,\n",
    "          validation_split=0.3,\n",
    "          shuffle=True)"
   ]
  },
  {
   "cell_type": "code",
   "execution_count": 22,
   "metadata": {
    "colab": {
     "base_uri": "https://localhost:8080/",
     "height": 735
    },
    "colab_type": "code",
    "id": "uEI2Avtc2-k6",
    "outputId": "8553d9b0-240c-43f7-e69d-81274ea2ca6b"
   },
   "outputs": [
    {
     "data": {
      "image/png": "[encoded data removed]",
      "text/plain": [
       "<matplotlib.figure.Figure at 0x7f4a5fc20a90>"
      ]
     },
     "metadata": {
      "tags": []
     },
     "output_type": "display_data"
    },
    {
     "data": {
      "image/png": "[encoded data removed]",
      "text/plain": [
       "<matplotlib.figure.Figure at 0x7f4a5fba2828>"
      ]
     },
     "metadata": {
      "tags": []
     },
     "output_type": "display_data"
    }
   ],
   "source": [
    "plt.plot(history.history['acc'])\n",
    "plt.plot(history.history['val_acc'])\n",
    "plt.title('Model accuracy')\n",
    "plt.ylabel('Accuracy')\n",
    "plt.xlabel('Epoch')\n",
    "plt.legend(['Train', 'Test'], loc='upper left')\n",
    "plt.show()\n",
    "\n",
    "# Plot training & validation loss values\n",
    "plt.plot(history.history['loss'])\n",
    "plt.plot(history.history['val_loss'])\n",
    "plt.title('Model loss')\n",
    "plt.ylabel('Loss')\n",
    "plt.xlabel('Epoch')\n",
    "plt.legend(['Train', 'Test'], loc='upper left')\n",
    "plt.show()"
   ]
  },
  {
   "cell_type": "code",
   "execution_count": 0,
   "metadata": {
    "colab": {},
    "colab_type": "code",
    "id": "TmeX3XkNsQq3"
   },
   "outputs": [],
   "source": [
    "y_pred = model.predict(X)\n",
    "def maxpos(li):\n",
    "      if (li[1]>li[0]) and (li[1]>li[2])  :\n",
    "        return 1\n",
    "      if (li[2]>li[0]) and (li[2]>li[1])  :\n",
    "        return 2     \n",
    "      return 0\n",
    "y_pre=[maxpos(y) for y in y_pred]\n",
    "y_tes=[maxpos(y) for y in Y]"
   ]
  },
  {
   "cell_type": "code",
   "execution_count": 24,
   "metadata": {
    "colab": {
     "base_uri": "https://localhost:8080/",
     "height": 70
    },
    "colab_type": "code",
    "id": "nysgimsIr7vc",
    "outputId": "d2ec711e-e80f-4870-8655-cae07c885332"
   },
   "outputs": [
    {
     "data": {
      "text/plain": [
       "array([[107,   5,  13],\n",
       "       [  2, 121,  13],\n",
       "       [  5,   8, 359]])"
      ]
     },
     "execution_count": 24,
     "metadata": {
      "tags": []
     },
     "output_type": "execute_result"
    }
   ],
   "source": [
    "confusion_matrix(y_true=y_tes,y_pred=y_pre)"
   ]
  },
  {
   "cell_type": "code",
   "execution_count": 0,
   "metadata": {
    "colab": {},
    "colab_type": "code",
    "id": "LoEmYUS2PvEV"
   },
   "outputs": [],
   "source": [
    "model.save('VGG-ish_74_ex65.model')"
   ]
  }
 ],
 "metadata": {
  "accelerator": "GPU",
  "colab": {
   "collapsed_sections": [],
   "name": "audio_classifier_ex100.ipynb",
   "provenance": [],
   "version": "0.3.2"
  },
  "kernelspec": {
   "display_name": "Python 3",
   "language": "python",
   "name": "python3"
  },
  "language_info": {
   "codemirror_mode": {
    "name": "ipython",
    "version": 3
   },
   "file_extension": ".py",
   "mimetype": "text/x-python",
   "name": "python",
   "nbconvert_exporter": "python",
   "pygments_lexer": "ipython3",
   "version": "3.6.5"
  }
 },
 "nbformat": 4,
 "nbformat_minor": 1
}
